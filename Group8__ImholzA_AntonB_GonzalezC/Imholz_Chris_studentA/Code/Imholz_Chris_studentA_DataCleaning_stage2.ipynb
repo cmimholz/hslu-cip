{
 "cells": [
  {
   "cell_type": "code",
   "id": "initial_id",
   "metadata": {
    "collapsed": true,
    "ExecuteTime": {
     "end_time": "2024-04-23T15:30:29.595835800Z",
     "start_time": "2024-04-23T15:30:29.472529Z"
    }
   },
   "source": [
    "import pandas as pd\n",
    "import numpy as np\n",
    "\n",
    "\n",
    "# Load the data file\n",
    "file_path = '/home/student/Cloud/Owncloud/SyncVM/CIP/hslu-cip/Group8__ImholzA_AntonB_GonzalezC/Imholz_Chris_studentA/Data/Imholz_Chris_studentA_stage1.csv'\n",
    "#file_path = '/home/student/Cloud/Owncloud/SyncVM/CIP/hslu-cip/data/raw_data_stage1/Imholz_Chris_studentA_stage1.csv'\n",
    "data = pd.read_csv(file_path, delimiter=';')\n",
    "\n",
    "\n",
    "# Display the first few rows of the dataframe and the general information\n",
    "data.head()\n",
    "data.info()"
   ],
   "outputs": [
    {
     "ename": "FileNotFoundError",
     "evalue": "[Errno 2] No such file or directory: '/home/student/Cloud/Owncloud/SyncVM/CIP/hslu-cip/Group8__ImholzA_AntonB_GonzalezC/Imholz_Chris_studentA/Data/Imholz_Chris_studentA_stage1.csv'",
     "output_type": "error",
     "traceback": [
      "\u001B[1;31m---------------------------------------------------------------------------\u001B[0m",
      "\u001B[1;31mFileNotFoundError\u001B[0m                         Traceback (most recent call last)",
      "Cell \u001B[1;32mIn[28], line 8\u001B[0m\n\u001B[0;32m      6\u001B[0m file_path \u001B[38;5;241m=\u001B[39m \u001B[38;5;124m'\u001B[39m\u001B[38;5;124m/home/student/Cloud/Owncloud/SyncVM/CIP/hslu-cip/Group8__ImholzA_AntonB_GonzalezC/Imholz_Chris_studentA/Data/Imholz_Chris_studentA_stage1.csv\u001B[39m\u001B[38;5;124m'\u001B[39m\n\u001B[0;32m      7\u001B[0m \u001B[38;5;66;03m#file_path = '/home/student/Cloud/Owncloud/SyncVM/CIP/hslu-cip/data/raw_data_stage1/Imholz_Chris_studentA_stage1.csv'\u001B[39;00m\n\u001B[1;32m----> 8\u001B[0m data \u001B[38;5;241m=\u001B[39m pd\u001B[38;5;241m.\u001B[39mread_csv(file_path, delimiter\u001B[38;5;241m=\u001B[39m\u001B[38;5;124m'\u001B[39m\u001B[38;5;124m;\u001B[39m\u001B[38;5;124m'\u001B[39m)\n\u001B[0;32m     11\u001B[0m \u001B[38;5;66;03m# Display the first few rows of the dataframe and the general information\u001B[39;00m\n\u001B[0;32m     12\u001B[0m data\u001B[38;5;241m.\u001B[39mhead()\n",
      "File \u001B[1;32m~\\anaconda3\\Lib\\site-packages\\pandas\\util\\_decorators.py:211\u001B[0m, in \u001B[0;36mdeprecate_kwarg.<locals>._deprecate_kwarg.<locals>.wrapper\u001B[1;34m(*args, **kwargs)\u001B[0m\n\u001B[0;32m    209\u001B[0m     \u001B[38;5;28;01melse\u001B[39;00m:\n\u001B[0;32m    210\u001B[0m         kwargs[new_arg_name] \u001B[38;5;241m=\u001B[39m new_arg_value\n\u001B[1;32m--> 211\u001B[0m \u001B[38;5;28;01mreturn\u001B[39;00m func(\u001B[38;5;241m*\u001B[39margs, \u001B[38;5;241m*\u001B[39m\u001B[38;5;241m*\u001B[39mkwargs)\n",
      "File \u001B[1;32m~\\anaconda3\\Lib\\site-packages\\pandas\\util\\_decorators.py:331\u001B[0m, in \u001B[0;36mdeprecate_nonkeyword_arguments.<locals>.decorate.<locals>.wrapper\u001B[1;34m(*args, **kwargs)\u001B[0m\n\u001B[0;32m    325\u001B[0m \u001B[38;5;28;01mif\u001B[39;00m \u001B[38;5;28mlen\u001B[39m(args) \u001B[38;5;241m>\u001B[39m num_allow_args:\n\u001B[0;32m    326\u001B[0m     warnings\u001B[38;5;241m.\u001B[39mwarn(\n\u001B[0;32m    327\u001B[0m         msg\u001B[38;5;241m.\u001B[39mformat(arguments\u001B[38;5;241m=\u001B[39m_format_argument_list(allow_args)),\n\u001B[0;32m    328\u001B[0m         \u001B[38;5;167;01mFutureWarning\u001B[39;00m,\n\u001B[0;32m    329\u001B[0m         stacklevel\u001B[38;5;241m=\u001B[39mfind_stack_level(),\n\u001B[0;32m    330\u001B[0m     )\n\u001B[1;32m--> 331\u001B[0m \u001B[38;5;28;01mreturn\u001B[39;00m func(\u001B[38;5;241m*\u001B[39margs, \u001B[38;5;241m*\u001B[39m\u001B[38;5;241m*\u001B[39mkwargs)\n",
      "File \u001B[1;32m~\\anaconda3\\Lib\\site-packages\\pandas\\io\\parsers\\readers.py:950\u001B[0m, in \u001B[0;36mread_csv\u001B[1;34m(filepath_or_buffer, sep, delimiter, header, names, index_col, usecols, squeeze, prefix, mangle_dupe_cols, dtype, engine, converters, true_values, false_values, skipinitialspace, skiprows, skipfooter, nrows, na_values, keep_default_na, na_filter, verbose, skip_blank_lines, parse_dates, infer_datetime_format, keep_date_col, date_parser, dayfirst, cache_dates, iterator, chunksize, compression, thousands, decimal, lineterminator, quotechar, quoting, doublequote, escapechar, comment, encoding, encoding_errors, dialect, error_bad_lines, warn_bad_lines, on_bad_lines, delim_whitespace, low_memory, memory_map, float_precision, storage_options)\u001B[0m\n\u001B[0;32m    935\u001B[0m kwds_defaults \u001B[38;5;241m=\u001B[39m _refine_defaults_read(\n\u001B[0;32m    936\u001B[0m     dialect,\n\u001B[0;32m    937\u001B[0m     delimiter,\n\u001B[1;32m   (...)\u001B[0m\n\u001B[0;32m    946\u001B[0m     defaults\u001B[38;5;241m=\u001B[39m{\u001B[38;5;124m\"\u001B[39m\u001B[38;5;124mdelimiter\u001B[39m\u001B[38;5;124m\"\u001B[39m: \u001B[38;5;124m\"\u001B[39m\u001B[38;5;124m,\u001B[39m\u001B[38;5;124m\"\u001B[39m},\n\u001B[0;32m    947\u001B[0m )\n\u001B[0;32m    948\u001B[0m kwds\u001B[38;5;241m.\u001B[39mupdate(kwds_defaults)\n\u001B[1;32m--> 950\u001B[0m \u001B[38;5;28;01mreturn\u001B[39;00m _read(filepath_or_buffer, kwds)\n",
      "File \u001B[1;32m~\\anaconda3\\Lib\\site-packages\\pandas\\io\\parsers\\readers.py:605\u001B[0m, in \u001B[0;36m_read\u001B[1;34m(filepath_or_buffer, kwds)\u001B[0m\n\u001B[0;32m    602\u001B[0m _validate_names(kwds\u001B[38;5;241m.\u001B[39mget(\u001B[38;5;124m\"\u001B[39m\u001B[38;5;124mnames\u001B[39m\u001B[38;5;124m\"\u001B[39m, \u001B[38;5;28;01mNone\u001B[39;00m))\n\u001B[0;32m    604\u001B[0m \u001B[38;5;66;03m# Create the parser.\u001B[39;00m\n\u001B[1;32m--> 605\u001B[0m parser \u001B[38;5;241m=\u001B[39m TextFileReader(filepath_or_buffer, \u001B[38;5;241m*\u001B[39m\u001B[38;5;241m*\u001B[39mkwds)\n\u001B[0;32m    607\u001B[0m \u001B[38;5;28;01mif\u001B[39;00m chunksize \u001B[38;5;129;01mor\u001B[39;00m iterator:\n\u001B[0;32m    608\u001B[0m     \u001B[38;5;28;01mreturn\u001B[39;00m parser\n",
      "File \u001B[1;32m~\\anaconda3\\Lib\\site-packages\\pandas\\io\\parsers\\readers.py:1442\u001B[0m, in \u001B[0;36mTextFileReader.__init__\u001B[1;34m(self, f, engine, **kwds)\u001B[0m\n\u001B[0;32m   1439\u001B[0m     \u001B[38;5;28mself\u001B[39m\u001B[38;5;241m.\u001B[39moptions[\u001B[38;5;124m\"\u001B[39m\u001B[38;5;124mhas_index_names\u001B[39m\u001B[38;5;124m\"\u001B[39m] \u001B[38;5;241m=\u001B[39m kwds[\u001B[38;5;124m\"\u001B[39m\u001B[38;5;124mhas_index_names\u001B[39m\u001B[38;5;124m\"\u001B[39m]\n\u001B[0;32m   1441\u001B[0m \u001B[38;5;28mself\u001B[39m\u001B[38;5;241m.\u001B[39mhandles: IOHandles \u001B[38;5;241m|\u001B[39m \u001B[38;5;28;01mNone\u001B[39;00m \u001B[38;5;241m=\u001B[39m \u001B[38;5;28;01mNone\u001B[39;00m\n\u001B[1;32m-> 1442\u001B[0m \u001B[38;5;28mself\u001B[39m\u001B[38;5;241m.\u001B[39m_engine \u001B[38;5;241m=\u001B[39m \u001B[38;5;28mself\u001B[39m\u001B[38;5;241m.\u001B[39m_make_engine(f, \u001B[38;5;28mself\u001B[39m\u001B[38;5;241m.\u001B[39mengine)\n",
      "File \u001B[1;32m~\\anaconda3\\Lib\\site-packages\\pandas\\io\\parsers\\readers.py:1735\u001B[0m, in \u001B[0;36mTextFileReader._make_engine\u001B[1;34m(self, f, engine)\u001B[0m\n\u001B[0;32m   1733\u001B[0m     \u001B[38;5;28;01mif\u001B[39;00m \u001B[38;5;124m\"\u001B[39m\u001B[38;5;124mb\u001B[39m\u001B[38;5;124m\"\u001B[39m \u001B[38;5;129;01mnot\u001B[39;00m \u001B[38;5;129;01min\u001B[39;00m mode:\n\u001B[0;32m   1734\u001B[0m         mode \u001B[38;5;241m+\u001B[39m\u001B[38;5;241m=\u001B[39m \u001B[38;5;124m\"\u001B[39m\u001B[38;5;124mb\u001B[39m\u001B[38;5;124m\"\u001B[39m\n\u001B[1;32m-> 1735\u001B[0m \u001B[38;5;28mself\u001B[39m\u001B[38;5;241m.\u001B[39mhandles \u001B[38;5;241m=\u001B[39m get_handle(\n\u001B[0;32m   1736\u001B[0m     f,\n\u001B[0;32m   1737\u001B[0m     mode,\n\u001B[0;32m   1738\u001B[0m     encoding\u001B[38;5;241m=\u001B[39m\u001B[38;5;28mself\u001B[39m\u001B[38;5;241m.\u001B[39moptions\u001B[38;5;241m.\u001B[39mget(\u001B[38;5;124m\"\u001B[39m\u001B[38;5;124mencoding\u001B[39m\u001B[38;5;124m\"\u001B[39m, \u001B[38;5;28;01mNone\u001B[39;00m),\n\u001B[0;32m   1739\u001B[0m     compression\u001B[38;5;241m=\u001B[39m\u001B[38;5;28mself\u001B[39m\u001B[38;5;241m.\u001B[39moptions\u001B[38;5;241m.\u001B[39mget(\u001B[38;5;124m\"\u001B[39m\u001B[38;5;124mcompression\u001B[39m\u001B[38;5;124m\"\u001B[39m, \u001B[38;5;28;01mNone\u001B[39;00m),\n\u001B[0;32m   1740\u001B[0m     memory_map\u001B[38;5;241m=\u001B[39m\u001B[38;5;28mself\u001B[39m\u001B[38;5;241m.\u001B[39moptions\u001B[38;5;241m.\u001B[39mget(\u001B[38;5;124m\"\u001B[39m\u001B[38;5;124mmemory_map\u001B[39m\u001B[38;5;124m\"\u001B[39m, \u001B[38;5;28;01mFalse\u001B[39;00m),\n\u001B[0;32m   1741\u001B[0m     is_text\u001B[38;5;241m=\u001B[39mis_text,\n\u001B[0;32m   1742\u001B[0m     errors\u001B[38;5;241m=\u001B[39m\u001B[38;5;28mself\u001B[39m\u001B[38;5;241m.\u001B[39moptions\u001B[38;5;241m.\u001B[39mget(\u001B[38;5;124m\"\u001B[39m\u001B[38;5;124mencoding_errors\u001B[39m\u001B[38;5;124m\"\u001B[39m, \u001B[38;5;124m\"\u001B[39m\u001B[38;5;124mstrict\u001B[39m\u001B[38;5;124m\"\u001B[39m),\n\u001B[0;32m   1743\u001B[0m     storage_options\u001B[38;5;241m=\u001B[39m\u001B[38;5;28mself\u001B[39m\u001B[38;5;241m.\u001B[39moptions\u001B[38;5;241m.\u001B[39mget(\u001B[38;5;124m\"\u001B[39m\u001B[38;5;124mstorage_options\u001B[39m\u001B[38;5;124m\"\u001B[39m, \u001B[38;5;28;01mNone\u001B[39;00m),\n\u001B[0;32m   1744\u001B[0m )\n\u001B[0;32m   1745\u001B[0m \u001B[38;5;28;01massert\u001B[39;00m \u001B[38;5;28mself\u001B[39m\u001B[38;5;241m.\u001B[39mhandles \u001B[38;5;129;01mis\u001B[39;00m \u001B[38;5;129;01mnot\u001B[39;00m \u001B[38;5;28;01mNone\u001B[39;00m\n\u001B[0;32m   1746\u001B[0m f \u001B[38;5;241m=\u001B[39m \u001B[38;5;28mself\u001B[39m\u001B[38;5;241m.\u001B[39mhandles\u001B[38;5;241m.\u001B[39mhandle\n",
      "File \u001B[1;32m~\\anaconda3\\Lib\\site-packages\\pandas\\io\\common.py:856\u001B[0m, in \u001B[0;36mget_handle\u001B[1;34m(path_or_buf, mode, encoding, compression, memory_map, is_text, errors, storage_options)\u001B[0m\n\u001B[0;32m    851\u001B[0m \u001B[38;5;28;01melif\u001B[39;00m \u001B[38;5;28misinstance\u001B[39m(handle, \u001B[38;5;28mstr\u001B[39m):\n\u001B[0;32m    852\u001B[0m     \u001B[38;5;66;03m# Check whether the filename is to be opened in binary mode.\u001B[39;00m\n\u001B[0;32m    853\u001B[0m     \u001B[38;5;66;03m# Binary mode does not support 'encoding' and 'newline'.\u001B[39;00m\n\u001B[0;32m    854\u001B[0m     \u001B[38;5;28;01mif\u001B[39;00m ioargs\u001B[38;5;241m.\u001B[39mencoding \u001B[38;5;129;01mand\u001B[39;00m \u001B[38;5;124m\"\u001B[39m\u001B[38;5;124mb\u001B[39m\u001B[38;5;124m\"\u001B[39m \u001B[38;5;129;01mnot\u001B[39;00m \u001B[38;5;129;01min\u001B[39;00m ioargs\u001B[38;5;241m.\u001B[39mmode:\n\u001B[0;32m    855\u001B[0m         \u001B[38;5;66;03m# Encoding\u001B[39;00m\n\u001B[1;32m--> 856\u001B[0m         handle \u001B[38;5;241m=\u001B[39m \u001B[38;5;28mopen\u001B[39m(\n\u001B[0;32m    857\u001B[0m             handle,\n\u001B[0;32m    858\u001B[0m             ioargs\u001B[38;5;241m.\u001B[39mmode,\n\u001B[0;32m    859\u001B[0m             encoding\u001B[38;5;241m=\u001B[39mioargs\u001B[38;5;241m.\u001B[39mencoding,\n\u001B[0;32m    860\u001B[0m             errors\u001B[38;5;241m=\u001B[39merrors,\n\u001B[0;32m    861\u001B[0m             newline\u001B[38;5;241m=\u001B[39m\u001B[38;5;124m\"\u001B[39m\u001B[38;5;124m\"\u001B[39m,\n\u001B[0;32m    862\u001B[0m         )\n\u001B[0;32m    863\u001B[0m     \u001B[38;5;28;01melse\u001B[39;00m:\n\u001B[0;32m    864\u001B[0m         \u001B[38;5;66;03m# Binary mode\u001B[39;00m\n\u001B[0;32m    865\u001B[0m         handle \u001B[38;5;241m=\u001B[39m \u001B[38;5;28mopen\u001B[39m(handle, ioargs\u001B[38;5;241m.\u001B[39mmode)\n",
      "\u001B[1;31mFileNotFoundError\u001B[0m: [Errno 2] No such file or directory: '/home/student/Cloud/Owncloud/SyncVM/CIP/hslu-cip/Group8__ImholzA_AntonB_GonzalezC/Imholz_Chris_studentA/Data/Imholz_Chris_studentA_stage1.csv'"
     ]
    }
   ],
   "execution_count": 28
  },
  {
   "cell_type": "code",
   "source": [
    "data"
   ],
   "metadata": {
    "collapsed": false,
    "ExecuteTime": {
     "end_time": "2024-04-23T15:30:29.692668700Z",
     "start_time": "2024-04-23T15:30:29.598838500Z"
    }
   },
   "id": "3e28377be0663fc6",
   "outputs": [
    {
     "data": {
      "text/plain": "                   Name Currency   Type         Sub type              Market  \\\n0                 ACCOR      EUR  Stock  Ordinary Shares      Euronext Paris   \n1           AIR LIQUIDE      EUR  Stock  Ordinary Shares      Euronext Paris   \n2             AIRBUS SE      EUR  Stock  Ordinary Shares      Euronext Paris   \n3      ARCELORMITTAL SA      EUR  Stock  Ordinary Shares  Euronext Amsterdam   \n4                   AXA      EUR  Stock  Ordinary Shares      Euronext Paris   \n..                  ...      ...    ...              ...                 ...   \n185          STELLANTIS      EUR  Stock  Ordinary Shares      Euronext Milan   \n186  STMICROELECTRONICS      EUR  Stock  Ordinary Shares      Euronext Milan   \n187      TELECOM ITALIA      EUR  Stock  Ordinary Shares      Euronext Milan   \n189               TERNA      EUR  Stock  Ordinary Shares      Euronext Milan   \n191              UNIPOL      EUR  Stock  Ordinary Shares      Euronext Milan   \n\n        ISIN Code                    Industry  \\\n0    FR0000120404  40, Consumer Discretionary   \n1    FR0000120073         55, Basic Materials   \n2    NL0000235190             50, Industrials   \n3    LU1598757687         55, Basic Materials   \n4    FR0000120628              30, Financials   \n..            ...                         ...   \n185  NL00150001Q9  40, Consumer Discretionary   \n186  NL0000226223              10, Technology   \n187  IT0003497168      15, Telecommunications   \n189  IT0003242622               65, Utilities   \n191  IT0004810054              30, Financials   \n\n                             SuperSector  \\\n0               4050, Travel and Leisure   \n1                        5520, Chemicals   \n2    5020, Industrial Goods and Services   \n3                  5510, Basic Resources   \n4                        3030, Insurance   \n..                                   ...   \n185          4010, Automobiles and Parts   \n186                     1010, Technology   \n187             1510, Telecommunications   \n189                      6510, Utilities   \n191                      3030, Insurance   \n\n                                           Sector  \\\n0                      405010, Travel and Leisure   \n1                               552010, Chemicals   \n2                   502010, Aerospace and Defense   \n3            551020, Industrial Metals and Mining   \n4                      303020, Non-life Insurance   \n..                                            ...   \n185                 401010, Automobiles and Parts   \n186     101020, Technology Hardware and Equipment   \n187  151020, Telecommunications Service Providers   \n189                           651010, Electricity   \n191                    303020, Non-life Insurance   \n\n                                 Subsector  ...  Number of board members  \\\n0              40501025, Hotels and Motels  ...                     13.0   \n1            55201020, Specialty Chemicals  ...                     14.0   \n2                      50201010, Aerospace  ...                     12.0   \n3                 55102010, Iron and Steel  ...                     10.0   \n4            30302010, Full Line Insurance  ...                     16.0   \n..                                     ...  ...                      ...   \n185                  40101020, Automobiles  ...                     11.0   \n186               10102010, Semiconductors  ...                      9.0   \n187  15102015, Telecommunications Services  ...                     15.0   \n189     65101015, Conventional Electricity  ...                     13.0   \n191          30302010, Full Line Insurance  ...                     15.0   \n\n     Market Cap in USD  \\\n0         1.033192e+10   \n1         1.051361e+11   \n2         1.361650e+11   \n3         2.175417e+10   \n4         8.254087e+10   \n..                 ...   \n185       8.246704e+10   \n186       3.663359e+10   \n187       3.591990e+09   \n189       1.562735e+10   \n191       6.241310e+09   \n\n     Carbon footprint (total GHG emissions / enterprise value)_in_USD  \\\n0                                           572.631900                  \n1                                                  NaN                  \n2                                                  NaN                  \n3                                          3373.201000                  \n4                                             2.717800                  \n..                                                 ...                  \n185                                        6858.244394                  \n186                                          27.984900                  \n187                                         133.632300                  \n189                                         141.369684                  \n191                                         509.708945                  \n\n     Share of women in total workforce in %  \\\n0                                       NaN   \n1                                     0.280   \n2                                     0.200   \n3                                       NaN   \n4                                       NaN   \n..                                      ...   \n185                                     NaN   \n186                                     NaN   \n187                                   0.380   \n189                                   0.161   \n191                                   0.543   \n\n     Share of women in management bodies in %  Gender pay gap in %  \\\n0                                         NaN                  NaN   \n1                                       0.300                  NaN   \n2                                         NaN                  NaN   \n3                                       0.157                  NaN   \n4                                       0.353                  NaN   \n..                                        ...                  ...   \n185                                       NaN                  NaN   \n186                                       NaN                  NaN   \n187                                     0.280                  NaN   \n189                                     0.237                 0.19   \n191                                     0.162                 0.09   \n\n     Rate of employees with disabilities in %  \\\n0                                         NaN   \n1                                       0.045   \n2                                         NaN   \n3                                         NaN   \n4                                       0.007   \n..                                        ...   \n185                                       NaN   \n186                                       NaN   \n187                                     0.030   \n189                                       NaN   \n191                                       NaN   \n\n     Board gender diversity (female board members / total board members) in %  \\\n0                                                0.615                          \n1                                                0.357                          \n2                                                0.333                          \n3                                                0.300                          \n4                                                0.563                          \n..                                                 ...                          \n185                                              0.273                          \n186                                              0.444                          \n187                                              0.400                          \n189                                              0.461                          \n191                                              0.400                          \n\n     Total energy consumption in mwh  Rate of resignation in %  \n0                       1.371200e+07                       NaN  \n1                                NaN                     0.086  \n2                       3.717000e+06                       NaN  \n3                       3.866670e+08                       NaN  \n4                       2.236380e+05                     0.100  \n..                               ...                       ...  \n185                     1.549489e+07                       NaN  \n186                     2.878880e+06                       NaN  \n187                     2.671000e+06                       NaN  \n189                     2.578550e+05                     0.018  \n191                     1.474418e+05                     0.027  \n\n[187 rows x 22 columns]",
      "text/html": "<div>\n<style scoped>\n    .dataframe tbody tr th:only-of-type {\n        vertical-align: middle;\n    }\n\n    .dataframe tbody tr th {\n        vertical-align: top;\n    }\n\n    .dataframe thead th {\n        text-align: right;\n    }\n</style>\n<table border=\"1\" class=\"dataframe\">\n  <thead>\n    <tr style=\"text-align: right;\">\n      <th></th>\n      <th>Name</th>\n      <th>Currency</th>\n      <th>Type</th>\n      <th>Sub type</th>\n      <th>Market</th>\n      <th>ISIN Code</th>\n      <th>Industry</th>\n      <th>SuperSector</th>\n      <th>Sector</th>\n      <th>Subsector</th>\n      <th>...</th>\n      <th>Number of board members</th>\n      <th>Market Cap in USD</th>\n      <th>Carbon footprint (total GHG emissions / enterprise value)_in_USD</th>\n      <th>Share of women in total workforce in %</th>\n      <th>Share of women in management bodies in %</th>\n      <th>Gender pay gap in %</th>\n      <th>Rate of employees with disabilities in %</th>\n      <th>Board gender diversity (female board members / total board members) in %</th>\n      <th>Total energy consumption in mwh</th>\n      <th>Rate of resignation in %</th>\n    </tr>\n  </thead>\n  <tbody>\n    <tr>\n      <th>0</th>\n      <td>ACCOR</td>\n      <td>EUR</td>\n      <td>Stock</td>\n      <td>Ordinary Shares</td>\n      <td>Euronext Paris</td>\n      <td>FR0000120404</td>\n      <td>40, Consumer Discretionary</td>\n      <td>4050, Travel and Leisure</td>\n      <td>405010, Travel and Leisure</td>\n      <td>40501025, Hotels and Motels</td>\n      <td>...</td>\n      <td>13.0</td>\n      <td>1.033192e+10</td>\n      <td>572.631900</td>\n      <td>NaN</td>\n      <td>NaN</td>\n      <td>NaN</td>\n      <td>NaN</td>\n      <td>0.615</td>\n      <td>1.371200e+07</td>\n      <td>NaN</td>\n    </tr>\n    <tr>\n      <th>1</th>\n      <td>AIR LIQUIDE</td>\n      <td>EUR</td>\n      <td>Stock</td>\n      <td>Ordinary Shares</td>\n      <td>Euronext Paris</td>\n      <td>FR0000120073</td>\n      <td>55, Basic Materials</td>\n      <td>5520, Chemicals</td>\n      <td>552010, Chemicals</td>\n      <td>55201020, Specialty Chemicals</td>\n      <td>...</td>\n      <td>14.0</td>\n      <td>1.051361e+11</td>\n      <td>NaN</td>\n      <td>0.280</td>\n      <td>0.300</td>\n      <td>NaN</td>\n      <td>0.045</td>\n      <td>0.357</td>\n      <td>NaN</td>\n      <td>0.086</td>\n    </tr>\n    <tr>\n      <th>2</th>\n      <td>AIRBUS SE</td>\n      <td>EUR</td>\n      <td>Stock</td>\n      <td>Ordinary Shares</td>\n      <td>Euronext Paris</td>\n      <td>NL0000235190</td>\n      <td>50, Industrials</td>\n      <td>5020, Industrial Goods and Services</td>\n      <td>502010, Aerospace and Defense</td>\n      <td>50201010, Aerospace</td>\n      <td>...</td>\n      <td>12.0</td>\n      <td>1.361650e+11</td>\n      <td>NaN</td>\n      <td>0.200</td>\n      <td>NaN</td>\n      <td>NaN</td>\n      <td>NaN</td>\n      <td>0.333</td>\n      <td>3.717000e+06</td>\n      <td>NaN</td>\n    </tr>\n    <tr>\n      <th>3</th>\n      <td>ARCELORMITTAL SA</td>\n      <td>EUR</td>\n      <td>Stock</td>\n      <td>Ordinary Shares</td>\n      <td>Euronext Amsterdam</td>\n      <td>LU1598757687</td>\n      <td>55, Basic Materials</td>\n      <td>5510, Basic Resources</td>\n      <td>551020, Industrial Metals and Mining</td>\n      <td>55102010, Iron and Steel</td>\n      <td>...</td>\n      <td>10.0</td>\n      <td>2.175417e+10</td>\n      <td>3373.201000</td>\n      <td>NaN</td>\n      <td>0.157</td>\n      <td>NaN</td>\n      <td>NaN</td>\n      <td>0.300</td>\n      <td>3.866670e+08</td>\n      <td>NaN</td>\n    </tr>\n    <tr>\n      <th>4</th>\n      <td>AXA</td>\n      <td>EUR</td>\n      <td>Stock</td>\n      <td>Ordinary Shares</td>\n      <td>Euronext Paris</td>\n      <td>FR0000120628</td>\n      <td>30, Financials</td>\n      <td>3030, Insurance</td>\n      <td>303020, Non-life Insurance</td>\n      <td>30302010, Full Line Insurance</td>\n      <td>...</td>\n      <td>16.0</td>\n      <td>8.254087e+10</td>\n      <td>2.717800</td>\n      <td>NaN</td>\n      <td>0.353</td>\n      <td>NaN</td>\n      <td>0.007</td>\n      <td>0.563</td>\n      <td>2.236380e+05</td>\n      <td>0.100</td>\n    </tr>\n    <tr>\n      <th>...</th>\n      <td>...</td>\n      <td>...</td>\n      <td>...</td>\n      <td>...</td>\n      <td>...</td>\n      <td>...</td>\n      <td>...</td>\n      <td>...</td>\n      <td>...</td>\n      <td>...</td>\n      <td>...</td>\n      <td>...</td>\n      <td>...</td>\n      <td>...</td>\n      <td>...</td>\n      <td>...</td>\n      <td>...</td>\n      <td>...</td>\n      <td>...</td>\n      <td>...</td>\n      <td>...</td>\n    </tr>\n    <tr>\n      <th>185</th>\n      <td>STELLANTIS</td>\n      <td>EUR</td>\n      <td>Stock</td>\n      <td>Ordinary Shares</td>\n      <td>Euronext Milan</td>\n      <td>NL00150001Q9</td>\n      <td>40, Consumer Discretionary</td>\n      <td>4010, Automobiles and Parts</td>\n      <td>401010, Automobiles and Parts</td>\n      <td>40101020, Automobiles</td>\n      <td>...</td>\n      <td>11.0</td>\n      <td>8.246704e+10</td>\n      <td>6858.244394</td>\n      <td>NaN</td>\n      <td>NaN</td>\n      <td>NaN</td>\n      <td>NaN</td>\n      <td>0.273</td>\n      <td>1.549489e+07</td>\n      <td>NaN</td>\n    </tr>\n    <tr>\n      <th>186</th>\n      <td>STMICROELECTRONICS</td>\n      <td>EUR</td>\n      <td>Stock</td>\n      <td>Ordinary Shares</td>\n      <td>Euronext Milan</td>\n      <td>NL0000226223</td>\n      <td>10, Technology</td>\n      <td>1010, Technology</td>\n      <td>101020, Technology Hardware and Equipment</td>\n      <td>10102010, Semiconductors</td>\n      <td>...</td>\n      <td>9.0</td>\n      <td>3.663359e+10</td>\n      <td>27.984900</td>\n      <td>NaN</td>\n      <td>NaN</td>\n      <td>NaN</td>\n      <td>NaN</td>\n      <td>0.444</td>\n      <td>2.878880e+06</td>\n      <td>NaN</td>\n    </tr>\n    <tr>\n      <th>187</th>\n      <td>TELECOM ITALIA</td>\n      <td>EUR</td>\n      <td>Stock</td>\n      <td>Ordinary Shares</td>\n      <td>Euronext Milan</td>\n      <td>IT0003497168</td>\n      <td>15, Telecommunications</td>\n      <td>1510, Telecommunications</td>\n      <td>151020, Telecommunications Service Providers</td>\n      <td>15102015, Telecommunications Services</td>\n      <td>...</td>\n      <td>15.0</td>\n      <td>3.591990e+09</td>\n      <td>133.632300</td>\n      <td>0.380</td>\n      <td>0.280</td>\n      <td>NaN</td>\n      <td>0.030</td>\n      <td>0.400</td>\n      <td>2.671000e+06</td>\n      <td>NaN</td>\n    </tr>\n    <tr>\n      <th>189</th>\n      <td>TERNA</td>\n      <td>EUR</td>\n      <td>Stock</td>\n      <td>Ordinary Shares</td>\n      <td>Euronext Milan</td>\n      <td>IT0003242622</td>\n      <td>65, Utilities</td>\n      <td>6510, Utilities</td>\n      <td>651010, Electricity</td>\n      <td>65101015, Conventional Electricity</td>\n      <td>...</td>\n      <td>13.0</td>\n      <td>1.562735e+10</td>\n      <td>141.369684</td>\n      <td>0.161</td>\n      <td>0.237</td>\n      <td>0.19</td>\n      <td>NaN</td>\n      <td>0.461</td>\n      <td>2.578550e+05</td>\n      <td>0.018</td>\n    </tr>\n    <tr>\n      <th>191</th>\n      <td>UNIPOL</td>\n      <td>EUR</td>\n      <td>Stock</td>\n      <td>Ordinary Shares</td>\n      <td>Euronext Milan</td>\n      <td>IT0004810054</td>\n      <td>30, Financials</td>\n      <td>3030, Insurance</td>\n      <td>303020, Non-life Insurance</td>\n      <td>30302010, Full Line Insurance</td>\n      <td>...</td>\n      <td>15.0</td>\n      <td>6.241310e+09</td>\n      <td>509.708945</td>\n      <td>0.543</td>\n      <td>0.162</td>\n      <td>0.09</td>\n      <td>NaN</td>\n      <td>0.400</td>\n      <td>1.474418e+05</td>\n      <td>0.027</td>\n    </tr>\n  </tbody>\n</table>\n<p>187 rows × 22 columns</p>\n</div>"
     },
     "execution_count": 29,
     "metadata": {},
     "output_type": "execute_result"
    }
   ],
   "execution_count": 29
  },
  {
   "cell_type": "code",
   "source": [
    "# # Check for columns that are completely empty and drop them\n",
    "# data_not_empty_columns = data.dropna(how='all', axis=1)\n",
    "# \n",
    "# # Show the columns removed (if any)\n",
    "# data_not_empty_columns.columns.difference(data.columns)\n",
    "# data=data_not_empty_columns"
   ],
   "metadata": {
    "collapsed": false,
    "ExecuteTime": {
     "end_time": "2024-04-23T15:30:29.884887800Z",
     "start_time": "2024-04-23T15:30:29.648046500Z"
    }
   },
   "id": "bcda02f3606f84fb",
   "outputs": [],
   "execution_count": 30
  },
  {
   "cell_type": "code",
   "source": [
    "# Count rows where all elements are NaN\n",
    "empty_rows_count = data.isna().all(axis=1).sum()\n",
    "print(\"Number of completely empty rows:\", empty_rows_count)\n",
    "\n",
    "# Check for rows that are completely empty and drop them\n",
    "data = data.dropna(how='all', axis=0)\n",
    "data\n"
   ],
   "metadata": {
    "collapsed": false,
    "ExecuteTime": {
     "end_time": "2024-04-23T15:30:30.067919900Z",
     "start_time": "2024-04-23T15:30:29.889923600Z"
    }
   },
   "id": "2d2d34e4bbe41738",
   "outputs": [
    {
     "name": "stdout",
     "output_type": "stream",
     "text": [
      "Number of completely empty rows: 0\n"
     ]
    },
    {
     "data": {
      "text/plain": "                   Name Currency   Type         Sub type              Market  \\\n0                 ACCOR      EUR  Stock  Ordinary Shares      Euronext Paris   \n1           AIR LIQUIDE      EUR  Stock  Ordinary Shares      Euronext Paris   \n2             AIRBUS SE      EUR  Stock  Ordinary Shares      Euronext Paris   \n3      ARCELORMITTAL SA      EUR  Stock  Ordinary Shares  Euronext Amsterdam   \n4                   AXA      EUR  Stock  Ordinary Shares      Euronext Paris   \n..                  ...      ...    ...              ...                 ...   \n185          STELLANTIS      EUR  Stock  Ordinary Shares      Euronext Milan   \n186  STMICROELECTRONICS      EUR  Stock  Ordinary Shares      Euronext Milan   \n187      TELECOM ITALIA      EUR  Stock  Ordinary Shares      Euronext Milan   \n189               TERNA      EUR  Stock  Ordinary Shares      Euronext Milan   \n191              UNIPOL      EUR  Stock  Ordinary Shares      Euronext Milan   \n\n        ISIN Code                    Industry  \\\n0    FR0000120404  40, Consumer Discretionary   \n1    FR0000120073         55, Basic Materials   \n2    NL0000235190             50, Industrials   \n3    LU1598757687         55, Basic Materials   \n4    FR0000120628              30, Financials   \n..            ...                         ...   \n185  NL00150001Q9  40, Consumer Discretionary   \n186  NL0000226223              10, Technology   \n187  IT0003497168      15, Telecommunications   \n189  IT0003242622               65, Utilities   \n191  IT0004810054              30, Financials   \n\n                             SuperSector  \\\n0               4050, Travel and Leisure   \n1                        5520, Chemicals   \n2    5020, Industrial Goods and Services   \n3                  5510, Basic Resources   \n4                        3030, Insurance   \n..                                   ...   \n185          4010, Automobiles and Parts   \n186                     1010, Technology   \n187             1510, Telecommunications   \n189                      6510, Utilities   \n191                      3030, Insurance   \n\n                                           Sector  \\\n0                      405010, Travel and Leisure   \n1                               552010, Chemicals   \n2                   502010, Aerospace and Defense   \n3            551020, Industrial Metals and Mining   \n4                      303020, Non-life Insurance   \n..                                            ...   \n185                 401010, Automobiles and Parts   \n186     101020, Technology Hardware and Equipment   \n187  151020, Telecommunications Service Providers   \n189                           651010, Electricity   \n191                    303020, Non-life Insurance   \n\n                                 Subsector  ...  Number of board members  \\\n0              40501025, Hotels and Motels  ...                     13.0   \n1            55201020, Specialty Chemicals  ...                     14.0   \n2                      50201010, Aerospace  ...                     12.0   \n3                 55102010, Iron and Steel  ...                     10.0   \n4            30302010, Full Line Insurance  ...                     16.0   \n..                                     ...  ...                      ...   \n185                  40101020, Automobiles  ...                     11.0   \n186               10102010, Semiconductors  ...                      9.0   \n187  15102015, Telecommunications Services  ...                     15.0   \n189     65101015, Conventional Electricity  ...                     13.0   \n191          30302010, Full Line Insurance  ...                     15.0   \n\n     Market Cap in USD  \\\n0         1.033192e+10   \n1         1.051361e+11   \n2         1.361650e+11   \n3         2.175417e+10   \n4         8.254087e+10   \n..                 ...   \n185       8.246704e+10   \n186       3.663359e+10   \n187       3.591990e+09   \n189       1.562735e+10   \n191       6.241310e+09   \n\n     Carbon footprint (total GHG emissions / enterprise value)_in_USD  \\\n0                                           572.631900                  \n1                                                  NaN                  \n2                                                  NaN                  \n3                                          3373.201000                  \n4                                             2.717800                  \n..                                                 ...                  \n185                                        6858.244394                  \n186                                          27.984900                  \n187                                         133.632300                  \n189                                         141.369684                  \n191                                         509.708945                  \n\n     Share of women in total workforce in %  \\\n0                                       NaN   \n1                                     0.280   \n2                                     0.200   \n3                                       NaN   \n4                                       NaN   \n..                                      ...   \n185                                     NaN   \n186                                     NaN   \n187                                   0.380   \n189                                   0.161   \n191                                   0.543   \n\n     Share of women in management bodies in %  Gender pay gap in %  \\\n0                                         NaN                  NaN   \n1                                       0.300                  NaN   \n2                                         NaN                  NaN   \n3                                       0.157                  NaN   \n4                                       0.353                  NaN   \n..                                        ...                  ...   \n185                                       NaN                  NaN   \n186                                       NaN                  NaN   \n187                                     0.280                  NaN   \n189                                     0.237                 0.19   \n191                                     0.162                 0.09   \n\n     Rate of employees with disabilities in %  \\\n0                                         NaN   \n1                                       0.045   \n2                                         NaN   \n3                                         NaN   \n4                                       0.007   \n..                                        ...   \n185                                       NaN   \n186                                       NaN   \n187                                     0.030   \n189                                       NaN   \n191                                       NaN   \n\n     Board gender diversity (female board members / total board members) in %  \\\n0                                                0.615                          \n1                                                0.357                          \n2                                                0.333                          \n3                                                0.300                          \n4                                                0.563                          \n..                                                 ...                          \n185                                              0.273                          \n186                                              0.444                          \n187                                              0.400                          \n189                                              0.461                          \n191                                              0.400                          \n\n     Total energy consumption in mwh  Rate of resignation in %  \n0                       1.371200e+07                       NaN  \n1                                NaN                     0.086  \n2                       3.717000e+06                       NaN  \n3                       3.866670e+08                       NaN  \n4                       2.236380e+05                     0.100  \n..                               ...                       ...  \n185                     1.549489e+07                       NaN  \n186                     2.878880e+06                       NaN  \n187                     2.671000e+06                       NaN  \n189                     2.578550e+05                     0.018  \n191                     1.474418e+05                     0.027  \n\n[187 rows x 22 columns]",
      "text/html": "<div>\n<style scoped>\n    .dataframe tbody tr th:only-of-type {\n        vertical-align: middle;\n    }\n\n    .dataframe tbody tr th {\n        vertical-align: top;\n    }\n\n    .dataframe thead th {\n        text-align: right;\n    }\n</style>\n<table border=\"1\" class=\"dataframe\">\n  <thead>\n    <tr style=\"text-align: right;\">\n      <th></th>\n      <th>Name</th>\n      <th>Currency</th>\n      <th>Type</th>\n      <th>Sub type</th>\n      <th>Market</th>\n      <th>ISIN Code</th>\n      <th>Industry</th>\n      <th>SuperSector</th>\n      <th>Sector</th>\n      <th>Subsector</th>\n      <th>...</th>\n      <th>Number of board members</th>\n      <th>Market Cap in USD</th>\n      <th>Carbon footprint (total GHG emissions / enterprise value)_in_USD</th>\n      <th>Share of women in total workforce in %</th>\n      <th>Share of women in management bodies in %</th>\n      <th>Gender pay gap in %</th>\n      <th>Rate of employees with disabilities in %</th>\n      <th>Board gender diversity (female board members / total board members) in %</th>\n      <th>Total energy consumption in mwh</th>\n      <th>Rate of resignation in %</th>\n    </tr>\n  </thead>\n  <tbody>\n    <tr>\n      <th>0</th>\n      <td>ACCOR</td>\n      <td>EUR</td>\n      <td>Stock</td>\n      <td>Ordinary Shares</td>\n      <td>Euronext Paris</td>\n      <td>FR0000120404</td>\n      <td>40, Consumer Discretionary</td>\n      <td>4050, Travel and Leisure</td>\n      <td>405010, Travel and Leisure</td>\n      <td>40501025, Hotels and Motels</td>\n      <td>...</td>\n      <td>13.0</td>\n      <td>1.033192e+10</td>\n      <td>572.631900</td>\n      <td>NaN</td>\n      <td>NaN</td>\n      <td>NaN</td>\n      <td>NaN</td>\n      <td>0.615</td>\n      <td>1.371200e+07</td>\n      <td>NaN</td>\n    </tr>\n    <tr>\n      <th>1</th>\n      <td>AIR LIQUIDE</td>\n      <td>EUR</td>\n      <td>Stock</td>\n      <td>Ordinary Shares</td>\n      <td>Euronext Paris</td>\n      <td>FR0000120073</td>\n      <td>55, Basic Materials</td>\n      <td>5520, Chemicals</td>\n      <td>552010, Chemicals</td>\n      <td>55201020, Specialty Chemicals</td>\n      <td>...</td>\n      <td>14.0</td>\n      <td>1.051361e+11</td>\n      <td>NaN</td>\n      <td>0.280</td>\n      <td>0.300</td>\n      <td>NaN</td>\n      <td>0.045</td>\n      <td>0.357</td>\n      <td>NaN</td>\n      <td>0.086</td>\n    </tr>\n    <tr>\n      <th>2</th>\n      <td>AIRBUS SE</td>\n      <td>EUR</td>\n      <td>Stock</td>\n      <td>Ordinary Shares</td>\n      <td>Euronext Paris</td>\n      <td>NL0000235190</td>\n      <td>50, Industrials</td>\n      <td>5020, Industrial Goods and Services</td>\n      <td>502010, Aerospace and Defense</td>\n      <td>50201010, Aerospace</td>\n      <td>...</td>\n      <td>12.0</td>\n      <td>1.361650e+11</td>\n      <td>NaN</td>\n      <td>0.200</td>\n      <td>NaN</td>\n      <td>NaN</td>\n      <td>NaN</td>\n      <td>0.333</td>\n      <td>3.717000e+06</td>\n      <td>NaN</td>\n    </tr>\n    <tr>\n      <th>3</th>\n      <td>ARCELORMITTAL SA</td>\n      <td>EUR</td>\n      <td>Stock</td>\n      <td>Ordinary Shares</td>\n      <td>Euronext Amsterdam</td>\n      <td>LU1598757687</td>\n      <td>55, Basic Materials</td>\n      <td>5510, Basic Resources</td>\n      <td>551020, Industrial Metals and Mining</td>\n      <td>55102010, Iron and Steel</td>\n      <td>...</td>\n      <td>10.0</td>\n      <td>2.175417e+10</td>\n      <td>3373.201000</td>\n      <td>NaN</td>\n      <td>0.157</td>\n      <td>NaN</td>\n      <td>NaN</td>\n      <td>0.300</td>\n      <td>3.866670e+08</td>\n      <td>NaN</td>\n    </tr>\n    <tr>\n      <th>4</th>\n      <td>AXA</td>\n      <td>EUR</td>\n      <td>Stock</td>\n      <td>Ordinary Shares</td>\n      <td>Euronext Paris</td>\n      <td>FR0000120628</td>\n      <td>30, Financials</td>\n      <td>3030, Insurance</td>\n      <td>303020, Non-life Insurance</td>\n      <td>30302010, Full Line Insurance</td>\n      <td>...</td>\n      <td>16.0</td>\n      <td>8.254087e+10</td>\n      <td>2.717800</td>\n      <td>NaN</td>\n      <td>0.353</td>\n      <td>NaN</td>\n      <td>0.007</td>\n      <td>0.563</td>\n      <td>2.236380e+05</td>\n      <td>0.100</td>\n    </tr>\n    <tr>\n      <th>...</th>\n      <td>...</td>\n      <td>...</td>\n      <td>...</td>\n      <td>...</td>\n      <td>...</td>\n      <td>...</td>\n      <td>...</td>\n      <td>...</td>\n      <td>...</td>\n      <td>...</td>\n      <td>...</td>\n      <td>...</td>\n      <td>...</td>\n      <td>...</td>\n      <td>...</td>\n      <td>...</td>\n      <td>...</td>\n      <td>...</td>\n      <td>...</td>\n      <td>...</td>\n      <td>...</td>\n    </tr>\n    <tr>\n      <th>185</th>\n      <td>STELLANTIS</td>\n      <td>EUR</td>\n      <td>Stock</td>\n      <td>Ordinary Shares</td>\n      <td>Euronext Milan</td>\n      <td>NL00150001Q9</td>\n      <td>40, Consumer Discretionary</td>\n      <td>4010, Automobiles and Parts</td>\n      <td>401010, Automobiles and Parts</td>\n      <td>40101020, Automobiles</td>\n      <td>...</td>\n      <td>11.0</td>\n      <td>8.246704e+10</td>\n      <td>6858.244394</td>\n      <td>NaN</td>\n      <td>NaN</td>\n      <td>NaN</td>\n      <td>NaN</td>\n      <td>0.273</td>\n      <td>1.549489e+07</td>\n      <td>NaN</td>\n    </tr>\n    <tr>\n      <th>186</th>\n      <td>STMICROELECTRONICS</td>\n      <td>EUR</td>\n      <td>Stock</td>\n      <td>Ordinary Shares</td>\n      <td>Euronext Milan</td>\n      <td>NL0000226223</td>\n      <td>10, Technology</td>\n      <td>1010, Technology</td>\n      <td>101020, Technology Hardware and Equipment</td>\n      <td>10102010, Semiconductors</td>\n      <td>...</td>\n      <td>9.0</td>\n      <td>3.663359e+10</td>\n      <td>27.984900</td>\n      <td>NaN</td>\n      <td>NaN</td>\n      <td>NaN</td>\n      <td>NaN</td>\n      <td>0.444</td>\n      <td>2.878880e+06</td>\n      <td>NaN</td>\n    </tr>\n    <tr>\n      <th>187</th>\n      <td>TELECOM ITALIA</td>\n      <td>EUR</td>\n      <td>Stock</td>\n      <td>Ordinary Shares</td>\n      <td>Euronext Milan</td>\n      <td>IT0003497168</td>\n      <td>15, Telecommunications</td>\n      <td>1510, Telecommunications</td>\n      <td>151020, Telecommunications Service Providers</td>\n      <td>15102015, Telecommunications Services</td>\n      <td>...</td>\n      <td>15.0</td>\n      <td>3.591990e+09</td>\n      <td>133.632300</td>\n      <td>0.380</td>\n      <td>0.280</td>\n      <td>NaN</td>\n      <td>0.030</td>\n      <td>0.400</td>\n      <td>2.671000e+06</td>\n      <td>NaN</td>\n    </tr>\n    <tr>\n      <th>189</th>\n      <td>TERNA</td>\n      <td>EUR</td>\n      <td>Stock</td>\n      <td>Ordinary Shares</td>\n      <td>Euronext Milan</td>\n      <td>IT0003242622</td>\n      <td>65, Utilities</td>\n      <td>6510, Utilities</td>\n      <td>651010, Electricity</td>\n      <td>65101015, Conventional Electricity</td>\n      <td>...</td>\n      <td>13.0</td>\n      <td>1.562735e+10</td>\n      <td>141.369684</td>\n      <td>0.161</td>\n      <td>0.237</td>\n      <td>0.19</td>\n      <td>NaN</td>\n      <td>0.461</td>\n      <td>2.578550e+05</td>\n      <td>0.018</td>\n    </tr>\n    <tr>\n      <th>191</th>\n      <td>UNIPOL</td>\n      <td>EUR</td>\n      <td>Stock</td>\n      <td>Ordinary Shares</td>\n      <td>Euronext Milan</td>\n      <td>IT0004810054</td>\n      <td>30, Financials</td>\n      <td>3030, Insurance</td>\n      <td>303020, Non-life Insurance</td>\n      <td>30302010, Full Line Insurance</td>\n      <td>...</td>\n      <td>15.0</td>\n      <td>6.241310e+09</td>\n      <td>509.708945</td>\n      <td>0.543</td>\n      <td>0.162</td>\n      <td>0.09</td>\n      <td>NaN</td>\n      <td>0.400</td>\n      <td>1.474418e+05</td>\n      <td>0.027</td>\n    </tr>\n  </tbody>\n</table>\n<p>187 rows × 22 columns</p>\n</div>"
     },
     "execution_count": 31,
     "metadata": {},
     "output_type": "execute_result"
    }
   ],
   "execution_count": 31
  },
  {
   "cell_type": "code",
   "source": [
    "# Helper function to convert Market Cap to numeric\n",
    "# Beispiel-Wechselkurse zu USD: Google 18. Apr., 13:08 UTC\n",
    "exchange_rates = {\n",
    "'EUR': 1.07,\n",
    "'GBP': 1.25,\n",
    "'NOK': 0.091,\n",
    "'USD': 1\n",
    "}\n",
    "\n",
    "def expand_number(value):\n",
    "    if pd.isna(value):\n",
    "        return np.nan\n",
    "    value = value.strip().upper()\n",
    "    if value.endswith('B'):\n",
    "        value =  float(value[:-1]) * 1e9  # Convert billions to a numeric value\n",
    "    elif value.endswith('M'):\n",
    "        value =  float(value[:-1]) * 1e6  # Convert millions to a numeric value\n",
    "    elif value.endswith('K'):\n",
    "        value =  float(value[:-1]) * 1e3  # Convert thousands to a numeric value\n",
    "    else:\n",
    "        value = float(value)  # Handle numeric-only strings as is\n",
    "    return round(value,3)\n",
    "\n",
    "def convert_to_usd(currency, amount):\n",
    "    if pd.isna(amount):\n",
    "        return np.nan\n",
    "    return amount * exchange_rates[currency]\n",
    "\n",
    "def process_market_cap(row):\n",
    "    # Erweitere den Betrag zu einer vollständigen Zahl\n",
    "    full_amount = expand_number(row['Market Cap'])\n",
    "    # Wandle die Währung in USD um\n",
    "    amount_in_usd = convert_to_usd(row['Currency'], full_amount)\n",
    "    return amount_in_usd\n",
    "\n",
    "# Lade den DataFrame, hier durch eine CSV-Datei ersetzt\n",
    "# data = pd.read_csv('path_to_your_csv.csv')\n",
    "\n",
    "# Annahme: 'data' ist ein DataFrame mit den Spalten 'Currency' und 'Market Cap'\n",
    "# Anwenden der Funktion\n",
    "data['Market Cap in USD'] = data.apply(process_market_cap, axis=1)\n",
    "data = data.drop('Market Cap',axis='columns')"
   ],
   "metadata": {
    "collapsed": false,
    "ExecuteTime": {
     "end_time": "2024-04-23T15:30:32.082458800Z",
     "start_time": "2024-04-23T15:30:29.937117500Z"
    }
   },
   "id": "83b62884864c67f4",
   "outputs": [
    {
     "ename": "KeyError",
     "evalue": "'Market Cap'",
     "output_type": "error",
     "traceback": [
      "\u001B[1;31m---------------------------------------------------------------------------\u001B[0m",
      "\u001B[1;31mKeyError\u001B[0m                                  Traceback (most recent call last)",
      "File \u001B[1;32m~\\anaconda3\\Lib\\site-packages\\pandas\\core\\indexes\\base.py:3802\u001B[0m, in \u001B[0;36mIndex.get_loc\u001B[1;34m(self, key, method, tolerance)\u001B[0m\n\u001B[0;32m   3801\u001B[0m \u001B[38;5;28;01mtry\u001B[39;00m:\n\u001B[1;32m-> 3802\u001B[0m     \u001B[38;5;28;01mreturn\u001B[39;00m \u001B[38;5;28mself\u001B[39m\u001B[38;5;241m.\u001B[39m_engine\u001B[38;5;241m.\u001B[39mget_loc(casted_key)\n\u001B[0;32m   3803\u001B[0m \u001B[38;5;28;01mexcept\u001B[39;00m \u001B[38;5;167;01mKeyError\u001B[39;00m \u001B[38;5;28;01mas\u001B[39;00m err:\n",
      "File \u001B[1;32m~\\anaconda3\\Lib\\site-packages\\pandas\\_libs\\index.pyx:138\u001B[0m, in \u001B[0;36mpandas._libs.index.IndexEngine.get_loc\u001B[1;34m()\u001B[0m\n",
      "File \u001B[1;32m~\\anaconda3\\Lib\\site-packages\\pandas\\_libs\\index.pyx:165\u001B[0m, in \u001B[0;36mpandas._libs.index.IndexEngine.get_loc\u001B[1;34m()\u001B[0m\n",
      "File \u001B[1;32mpandas\\_libs\\hashtable_class_helper.pxi:5745\u001B[0m, in \u001B[0;36mpandas._libs.hashtable.PyObjectHashTable.get_item\u001B[1;34m()\u001B[0m\n",
      "File \u001B[1;32mpandas\\_libs\\hashtable_class_helper.pxi:5753\u001B[0m, in \u001B[0;36mpandas._libs.hashtable.PyObjectHashTable.get_item\u001B[1;34m()\u001B[0m\n",
      "\u001B[1;31mKeyError\u001B[0m: 'Market Cap'",
      "\nThe above exception was the direct cause of the following exception:\n",
      "\u001B[1;31mKeyError\u001B[0m                                  Traceback (most recent call last)",
      "Cell \u001B[1;32mIn[32], line 41\u001B[0m\n\u001B[0;32m     34\u001B[0m     \u001B[38;5;28;01mreturn\u001B[39;00m amount_in_usd\n\u001B[0;32m     36\u001B[0m \u001B[38;5;66;03m# Lade den DataFrame, hier durch eine CSV-Datei ersetzt\u001B[39;00m\n\u001B[0;32m     37\u001B[0m \u001B[38;5;66;03m# data = pd.read_csv('path_to_your_csv.csv')\u001B[39;00m\n\u001B[0;32m     38\u001B[0m \n\u001B[0;32m     39\u001B[0m \u001B[38;5;66;03m# Annahme: 'data' ist ein DataFrame mit den Spalten 'Currency' und 'Market Cap'\u001B[39;00m\n\u001B[0;32m     40\u001B[0m \u001B[38;5;66;03m# Anwenden der Funktion\u001B[39;00m\n\u001B[1;32m---> 41\u001B[0m data[\u001B[38;5;124m'\u001B[39m\u001B[38;5;124mMarket Cap in USD\u001B[39m\u001B[38;5;124m'\u001B[39m] \u001B[38;5;241m=\u001B[39m data\u001B[38;5;241m.\u001B[39mapply(process_market_cap, axis\u001B[38;5;241m=\u001B[39m\u001B[38;5;241m1\u001B[39m)\n\u001B[0;32m     42\u001B[0m data \u001B[38;5;241m=\u001B[39m data\u001B[38;5;241m.\u001B[39mdrop(\u001B[38;5;124m'\u001B[39m\u001B[38;5;124mMarket Cap\u001B[39m\u001B[38;5;124m'\u001B[39m,axis\u001B[38;5;241m=\u001B[39m\u001B[38;5;124m'\u001B[39m\u001B[38;5;124mcolumns\u001B[39m\u001B[38;5;124m'\u001B[39m)\n",
      "File \u001B[1;32m~\\anaconda3\\Lib\\site-packages\\pandas\\core\\frame.py:9568\u001B[0m, in \u001B[0;36mDataFrame.apply\u001B[1;34m(self, func, axis, raw, result_type, args, **kwargs)\u001B[0m\n\u001B[0;32m   9557\u001B[0m \u001B[38;5;28;01mfrom\u001B[39;00m \u001B[38;5;21;01mpandas\u001B[39;00m\u001B[38;5;21;01m.\u001B[39;00m\u001B[38;5;21;01mcore\u001B[39;00m\u001B[38;5;21;01m.\u001B[39;00m\u001B[38;5;21;01mapply\u001B[39;00m \u001B[38;5;28;01mimport\u001B[39;00m frame_apply\n\u001B[0;32m   9559\u001B[0m op \u001B[38;5;241m=\u001B[39m frame_apply(\n\u001B[0;32m   9560\u001B[0m     \u001B[38;5;28mself\u001B[39m,\n\u001B[0;32m   9561\u001B[0m     func\u001B[38;5;241m=\u001B[39mfunc,\n\u001B[1;32m   (...)\u001B[0m\n\u001B[0;32m   9566\u001B[0m     kwargs\u001B[38;5;241m=\u001B[39mkwargs,\n\u001B[0;32m   9567\u001B[0m )\n\u001B[1;32m-> 9568\u001B[0m \u001B[38;5;28;01mreturn\u001B[39;00m op\u001B[38;5;241m.\u001B[39mapply()\u001B[38;5;241m.\u001B[39m__finalize__(\u001B[38;5;28mself\u001B[39m, method\u001B[38;5;241m=\u001B[39m\u001B[38;5;124m\"\u001B[39m\u001B[38;5;124mapply\u001B[39m\u001B[38;5;124m\"\u001B[39m)\n",
      "File \u001B[1;32m~\\anaconda3\\Lib\\site-packages\\pandas\\core\\apply.py:764\u001B[0m, in \u001B[0;36mFrameApply.apply\u001B[1;34m(self)\u001B[0m\n\u001B[0;32m    761\u001B[0m \u001B[38;5;28;01melif\u001B[39;00m \u001B[38;5;28mself\u001B[39m\u001B[38;5;241m.\u001B[39mraw:\n\u001B[0;32m    762\u001B[0m     \u001B[38;5;28;01mreturn\u001B[39;00m \u001B[38;5;28mself\u001B[39m\u001B[38;5;241m.\u001B[39mapply_raw()\n\u001B[1;32m--> 764\u001B[0m \u001B[38;5;28;01mreturn\u001B[39;00m \u001B[38;5;28mself\u001B[39m\u001B[38;5;241m.\u001B[39mapply_standard()\n",
      "File \u001B[1;32m~\\anaconda3\\Lib\\site-packages\\pandas\\core\\apply.py:891\u001B[0m, in \u001B[0;36mFrameApply.apply_standard\u001B[1;34m(self)\u001B[0m\n\u001B[0;32m    890\u001B[0m \u001B[38;5;28;01mdef\u001B[39;00m \u001B[38;5;21mapply_standard\u001B[39m(\u001B[38;5;28mself\u001B[39m):\n\u001B[1;32m--> 891\u001B[0m     results, res_index \u001B[38;5;241m=\u001B[39m \u001B[38;5;28mself\u001B[39m\u001B[38;5;241m.\u001B[39mapply_series_generator()\n\u001B[0;32m    893\u001B[0m     \u001B[38;5;66;03m# wrap results\u001B[39;00m\n\u001B[0;32m    894\u001B[0m     \u001B[38;5;28;01mreturn\u001B[39;00m \u001B[38;5;28mself\u001B[39m\u001B[38;5;241m.\u001B[39mwrap_results(results, res_index)\n",
      "File \u001B[1;32m~\\anaconda3\\Lib\\site-packages\\pandas\\core\\apply.py:907\u001B[0m, in \u001B[0;36mFrameApply.apply_series_generator\u001B[1;34m(self)\u001B[0m\n\u001B[0;32m    904\u001B[0m \u001B[38;5;28;01mwith\u001B[39;00m option_context(\u001B[38;5;124m\"\u001B[39m\u001B[38;5;124mmode.chained_assignment\u001B[39m\u001B[38;5;124m\"\u001B[39m, \u001B[38;5;28;01mNone\u001B[39;00m):\n\u001B[0;32m    905\u001B[0m     \u001B[38;5;28;01mfor\u001B[39;00m i, v \u001B[38;5;129;01min\u001B[39;00m \u001B[38;5;28menumerate\u001B[39m(series_gen):\n\u001B[0;32m    906\u001B[0m         \u001B[38;5;66;03m# ignore SettingWithCopy here in case the user mutates\u001B[39;00m\n\u001B[1;32m--> 907\u001B[0m         results[i] \u001B[38;5;241m=\u001B[39m \u001B[38;5;28mself\u001B[39m\u001B[38;5;241m.\u001B[39mf(v)\n\u001B[0;32m    908\u001B[0m         \u001B[38;5;28;01mif\u001B[39;00m \u001B[38;5;28misinstance\u001B[39m(results[i], ABCSeries):\n\u001B[0;32m    909\u001B[0m             \u001B[38;5;66;03m# If we have a view on v, we need to make a copy because\u001B[39;00m\n\u001B[0;32m    910\u001B[0m             \u001B[38;5;66;03m#  series_generator will swap out the underlying data\u001B[39;00m\n\u001B[0;32m    911\u001B[0m             results[i] \u001B[38;5;241m=\u001B[39m results[i]\u001B[38;5;241m.\u001B[39mcopy(deep\u001B[38;5;241m=\u001B[39m\u001B[38;5;28;01mFalse\u001B[39;00m)\n",
      "Cell \u001B[1;32mIn[32], line 31\u001B[0m, in \u001B[0;36mprocess_market_cap\u001B[1;34m(row)\u001B[0m\n\u001B[0;32m     29\u001B[0m \u001B[38;5;28;01mdef\u001B[39;00m \u001B[38;5;21mprocess_market_cap\u001B[39m(row):\n\u001B[0;32m     30\u001B[0m     \u001B[38;5;66;03m# Erweitere den Betrag zu einer vollständigen Zahl\u001B[39;00m\n\u001B[1;32m---> 31\u001B[0m     full_amount \u001B[38;5;241m=\u001B[39m expand_number(row[\u001B[38;5;124m'\u001B[39m\u001B[38;5;124mMarket Cap\u001B[39m\u001B[38;5;124m'\u001B[39m])\n\u001B[0;32m     32\u001B[0m     \u001B[38;5;66;03m# Wandle die Währung in USD um\u001B[39;00m\n\u001B[0;32m     33\u001B[0m     amount_in_usd \u001B[38;5;241m=\u001B[39m convert_to_usd(row[\u001B[38;5;124m'\u001B[39m\u001B[38;5;124mCurrency\u001B[39m\u001B[38;5;124m'\u001B[39m], full_amount)\n",
      "File \u001B[1;32m~\\anaconda3\\Lib\\site-packages\\pandas\\core\\series.py:981\u001B[0m, in \u001B[0;36mSeries.__getitem__\u001B[1;34m(self, key)\u001B[0m\n\u001B[0;32m    978\u001B[0m     \u001B[38;5;28;01mreturn\u001B[39;00m \u001B[38;5;28mself\u001B[39m\u001B[38;5;241m.\u001B[39m_values[key]\n\u001B[0;32m    980\u001B[0m \u001B[38;5;28;01melif\u001B[39;00m key_is_scalar:\n\u001B[1;32m--> 981\u001B[0m     \u001B[38;5;28;01mreturn\u001B[39;00m \u001B[38;5;28mself\u001B[39m\u001B[38;5;241m.\u001B[39m_get_value(key)\n\u001B[0;32m    983\u001B[0m \u001B[38;5;28;01mif\u001B[39;00m is_hashable(key):\n\u001B[0;32m    984\u001B[0m     \u001B[38;5;66;03m# Otherwise index.get_value will raise InvalidIndexError\u001B[39;00m\n\u001B[0;32m    985\u001B[0m     \u001B[38;5;28;01mtry\u001B[39;00m:\n\u001B[0;32m    986\u001B[0m         \u001B[38;5;66;03m# For labels that don't resolve as scalars like tuples and frozensets\u001B[39;00m\n",
      "File \u001B[1;32m~\\anaconda3\\Lib\\site-packages\\pandas\\core\\series.py:1089\u001B[0m, in \u001B[0;36mSeries._get_value\u001B[1;34m(self, label, takeable)\u001B[0m\n\u001B[0;32m   1086\u001B[0m     \u001B[38;5;28;01mreturn\u001B[39;00m \u001B[38;5;28mself\u001B[39m\u001B[38;5;241m.\u001B[39m_values[label]\n\u001B[0;32m   1088\u001B[0m \u001B[38;5;66;03m# Similar to Index.get_value, but we do not fall back to positional\u001B[39;00m\n\u001B[1;32m-> 1089\u001B[0m loc \u001B[38;5;241m=\u001B[39m \u001B[38;5;28mself\u001B[39m\u001B[38;5;241m.\u001B[39mindex\u001B[38;5;241m.\u001B[39mget_loc(label)\n\u001B[0;32m   1090\u001B[0m \u001B[38;5;28;01mreturn\u001B[39;00m \u001B[38;5;28mself\u001B[39m\u001B[38;5;241m.\u001B[39mindex\u001B[38;5;241m.\u001B[39m_get_values_for_loc(\u001B[38;5;28mself\u001B[39m, loc, label)\n",
      "File \u001B[1;32m~\\anaconda3\\Lib\\site-packages\\pandas\\core\\indexes\\base.py:3804\u001B[0m, in \u001B[0;36mIndex.get_loc\u001B[1;34m(self, key, method, tolerance)\u001B[0m\n\u001B[0;32m   3802\u001B[0m     \u001B[38;5;28;01mreturn\u001B[39;00m \u001B[38;5;28mself\u001B[39m\u001B[38;5;241m.\u001B[39m_engine\u001B[38;5;241m.\u001B[39mget_loc(casted_key)\n\u001B[0;32m   3803\u001B[0m \u001B[38;5;28;01mexcept\u001B[39;00m \u001B[38;5;167;01mKeyError\u001B[39;00m \u001B[38;5;28;01mas\u001B[39;00m err:\n\u001B[1;32m-> 3804\u001B[0m     \u001B[38;5;28;01mraise\u001B[39;00m \u001B[38;5;167;01mKeyError\u001B[39;00m(key) \u001B[38;5;28;01mfrom\u001B[39;00m \u001B[38;5;21;01merr\u001B[39;00m\n\u001B[0;32m   3805\u001B[0m \u001B[38;5;28;01mexcept\u001B[39;00m \u001B[38;5;167;01mTypeError\u001B[39;00m:\n\u001B[0;32m   3806\u001B[0m     \u001B[38;5;66;03m# If we have a listlike key, _check_indexing_error will raise\u001B[39;00m\n\u001B[0;32m   3807\u001B[0m     \u001B[38;5;66;03m#  InvalidIndexError. Otherwise we fall through and re-raise\u001B[39;00m\n\u001B[0;32m   3808\u001B[0m     \u001B[38;5;66;03m#  the TypeError.\u001B[39;00m\n\u001B[0;32m   3809\u001B[0m     \u001B[38;5;28mself\u001B[39m\u001B[38;5;241m.\u001B[39m_check_indexing_error(key)\n",
      "\u001B[1;31mKeyError\u001B[0m: 'Market Cap'"
     ]
    }
   ],
   "execution_count": 32
  },
  {
   "cell_type": "code",
   "source": [
    "def parse_and_convert_tons_currency(value):\n",
    "    # Prüft auf NaN Werte\n",
    "    if pd.isna(value) or value == '':\n",
    "        return None\n",
    "    \n",
    "    parts = value.split(' ')\n",
    "    \n",
    "    if len(parts) < 5:\n",
    "        return None\n",
    "\n",
    "    # Extrahiert den Betrag, die Einheit und die Währung\n",
    "    if parts[0].replace(',', '') == '':\n",
    "        return None\n",
    "    else:\n",
    "        amount = float(parts[0].replace(',', ''))\n",
    "    \n",
    "    unit = parts[2]\n",
    "    currency = parts[4].strip('()')\n",
    "\n",
    "    # Konvertiert Tausend in Millionen, falls nötig\n",
    "    if unit == 'Thousand':\n",
    "        amount /= 1000\n",
    "\n",
    "    # Wandelt den Betrag in USD um, falls er nicht bereits in USD ist\n",
    "    if currency != 'USD':\n",
    "        amount *= round(float(exchange_rates.get(currency,1)),3)\n",
    "\n",
    "    return amount\n",
    "\n",
    "# Anwendung der Funktion\n",
    "data['Carbon footprint (total GHG emissions / enterprise value)' + '_in_USD'] = data['Carbon footprint (total GHG emissions / enterprise value)'].apply(parse_and_convert_tons_currency)\n",
    "data = data.drop('Carbon footprint (total GHG emissions / enterprise value)',axis='columns')\n",
    "data"
   ],
   "metadata": {
    "collapsed": false,
    "ExecuteTime": {
     "start_time": "2024-04-23T15:30:32.080418500Z"
    }
   },
   "id": "57a5f4e444c28d44",
   "outputs": [],
   "execution_count": null
  },
  {
   "cell_type": "code",
   "source": [
    "# Helper function to convert percentage strings to floats\n",
    "def convert_percentage(value):\n",
    "    if pd.isna(value) or value.strip('% ') == '':\n",
    "        return np.nan\n",
    "    return round(float(value.strip('% ')) / 100,3)\n",
    "\n",
    "def unit_strip(value):\n",
    "    if pd.isna(value) or value.strip('unit') == '':\n",
    "        return np.nan\n",
    "    elif value.replace('unit', '') == \" \":\n",
    "        return np.nan\n",
    "    return float(value.replace('unit', ''))\n",
    "\n",
    "import re\n",
    "def convert_to_mwh(value):\n",
    "    conversion_factors = {\n",
    "    'GWh': 1000,\n",
    "    'terajoule': 277.778,\n",
    "    'gigajoule': 0.277778,\n",
    "    'MWh': 1\n",
    "    }\n",
    "    match = re.search(r'([\\d,]+(?:\\.\\d+)?)\\s*(GWh|MWh|terajoule|gigajoule)', str(value).replace(',', ''))\n",
    "    if match:\n",
    "        # Convert string value to float\n",
    "        value = float(match.group(1).replace(',', ''))\n",
    "        unit = match.group(2)\n",
    "        return round(value * conversion_factors[unit],3) # Convert the value to MWh\n",
    "\n",
    "# Apply conversions\n",
    "data['Share of women in total workforce in %'] = data['Share of women in total workforce'].apply(convert_percentage)\n",
    "data = data.drop(\"Share of women in total workforce\",axis='columns')\n",
    "data['Share of women in management bodies in %'] = data['Share of women in management bodies'].apply(convert_percentage)\n",
    "data = data.drop('Share of women in management bodies',axis='columns')\n",
    "data['Gender pay gap in %'] = data['Gender pay gap'].apply(convert_percentage)\n",
    "data = data.drop('Gender pay gap',axis='columns')\n",
    "data['Rate of employees with disabilities in %'] = data['Rate of employees with disabilities'].apply(convert_percentage)\n",
    "data = data.drop('Rate of employees with disabilities',axis='columns')\n",
    "data['Board gender diversity (female board members / total board members) in %'] = data['Board gender diversity (female board members / total board members)'].apply(convert_percentage)\n",
    "data = data.drop('Board gender diversity (female board members / total board members)',axis='columns')\n",
    "data['Professional equality index'] = data['Professional equality index'].apply(unit_strip)\n",
    "data['Number of female board members'] = data['Number of female board members'].apply(unit_strip)\n",
    "data['Number of board members'] = data['Number of board members'].apply(unit_strip)\n",
    "data['Average training hours per employee'] = data['Average training hours per employee'].apply(unit_strip)\n",
    "data['Total energy consumption in mwh'] = data['Total energy consumption'].apply(convert_to_mwh)\n",
    "data = data.drop('Total energy consumption', axis='columns')\n",
    "data['Rate of resignation in %'] = data['Rate of resignation'].apply(convert_percentage)\n",
    "data = data.drop('Rate of resignation', axis='columns')\n",
    "data\n",
    "\n",
    "# Transformed data\n",
    "data.head()\n",
    "data.info()"
   ],
   "metadata": {
    "collapsed": false,
    "ExecuteTime": {
     "start_time": "2024-04-23T15:30:32.083450200Z"
    }
   },
   "id": "9ac0d9a4f0c1187a",
   "outputs": [],
   "execution_count": null
  },
  {
   "cell_type": "code",
   "source": [
    "data"
   ],
   "metadata": {
    "collapsed": false,
    "ExecuteTime": {
     "start_time": "2024-04-23T15:30:32.084418800Z"
    }
   },
   "id": "50a7cbcbe0b65b8",
   "outputs": [],
   "execution_count": null
  },
  {
   "cell_type": "code",
   "source": [
    "# Calculate the percentage of missing values per column\n",
    "missing_data = data.isnull().mean() * 100.00\n",
    "\n",
    "# Display the percentage of missing data per column\n",
    "missing_data_sorted = missing_data.sort_values(ascending=False)\n",
    "missing_data_sorted\n"
   ],
   "metadata": {
    "collapsed": false,
    "ExecuteTime": {
     "start_time": "2024-04-23T15:30:32.086418600Z"
    }
   },
   "id": "9cd3539ce15151dc",
   "outputs": [],
   "execution_count": null
  },
  {
   "cell_type": "code",
   "source": [
    "# Finden der Spalten, bei denen der Prozentsatz der fehlenden Daten größer als 80% ist\n",
    "columns_to_drop = missing_data[missing_data > 80].index\n",
    "# Löschen dieser Spalten aus dem DataFrame\n",
    "data.drop(columns=columns_to_drop, inplace=True)\n",
    "data"
   ],
   "metadata": {
    "collapsed": false,
    "ExecuteTime": {
     "start_time": "2024-04-23T15:30:32.088469800Z"
    }
   },
   "id": "ad2f8ca609e45271",
   "outputs": [],
   "execution_count": null
  },
  {
   "cell_type": "code",
   "source": [
    "columns_to_drop"
   ],
   "metadata": {
    "collapsed": false,
    "ExecuteTime": {
     "start_time": "2024-04-23T15:30:32.092422800Z"
    }
   },
   "id": "709c5966799b8bac",
   "outputs": [],
   "execution_count": null
  },
  {
   "cell_type": "code",
   "source": [
    "data.columns"
   ],
   "metadata": {
    "collapsed": false,
    "ExecuteTime": {
     "end_time": "2024-04-23T15:30:32.135453400Z",
     "start_time": "2024-04-23T15:30:32.098462800Z"
    }
   },
   "id": "3c38e9590ccc7af5",
   "outputs": [],
   "execution_count": null
  },
  {
   "cell_type": "code",
   "source": [
    "#Save DataFrame to a CSV file with semicolon as the delimiter with the required _stage2.csv ending form project\n",
    "data.to_csv('/home/student/Cloud/Owncloud/SyncVM/CIP/hslu-cip/Group8__ImholzA_AntonB_GonzalezC/Imholz_Chris_studentA/Data/Imholz_Chris_studentA_stage3.csv', sep=';', index=False)\n",
    "# data.to_csv('/home/student/Cloud/Owncloud/SyncVM/CIP/hslu-cip/data/clean_data_stage3/Imholz_Chris_studentA_stage3.csv', sep=';', index=False)"
   ],
   "metadata": {
    "collapsed": false,
    "ExecuteTime": {
     "start_time": "2024-04-23T15:30:32.100463800Z"
    }
   },
   "id": "c1d110da7bcfadc1",
   "outputs": [],
   "execution_count": null
  },
  {
   "cell_type": "code",
   "source": [
    "# # Tabel erstellen \n",
    "# CREATE TABLE tbl_financial_euronext_data (\n",
    "#     id INT AUTO_INCREMENT PRIMARY KEY,\n",
    "#     name VARCHAR(255),\n",
    "#     currency VARCHAR(255),\n",
    "#     market_cap_in_USD VARCHAR(255),\n",
    "#     carbon_footprint_total_GHG_emissions_per_enterprise_value VARCHAR(255),\n",
    "#     security_type VARCHAR(255),\n",
    "#     security_type_subtype VARCHAR(255),\n",
    "#     market VARCHAR(255),\n",
    "#     isin VARCHAR(20),\n",
    "#     industry VARCHAR(255),\n",
    "#     super_sector VARCHAR(255),\n",
    "#     sector VARCHAR(255),\n",
    "#     subsector VARCHAR(255),\n",
    "#     average_training_hours_per_employee VARCHAR(255),\n",
    "#     number_of_female_board_members VARCHAR(255),\n",
    "#     number_of_board_members VARCHAR(255),\n",
    "#     share_of_woman_in_total_workforce_in_percent VARCHAR(255),\n",
    "#     share_of_woman_in_management_bodies_in_percent VARCHAR(255),\n",
    "#     gender_pay_gap_in_percent VARCHAR(255),\n",
    "#     rate_of_employees_with_disabilities_in_percent VARCHAR(255),\n",
    "#     board_gender_diversity_in_percent VARCHAR(255),\n",
    "#     total_energy_consumption_in_mwh VARCHAR(255),\n",
    "#     rate_of_resignation_in_percent VARCHAR(255),\n",
    "# );"
   ],
   "metadata": {
    "collapsed": false,
    "ExecuteTime": {
     "start_time": "2024-04-23T15:30:32.101466700Z"
    }
   },
   "id": "67799f8f75840fee",
   "outputs": [],
   "execution_count": null
  },
  {
   "metadata": {
    "ExecuteTime": {
     "start_time": "2024-04-23T15:30:32.102418700Z"
    }
   },
   "cell_type": "code",
   "source": [
    "import mariadb\n",
    "import sys\n",
    "import pandas as pd\n",
    "\n",
    "\n",
    "data = data.where(pd.notnull(data), '')\n",
    "# Verbindung zur Datenbank herstellen\n",
    "try:\n",
    "    conn = mariadb.connect(\n",
    "        user=\"cip_user\",\n",
    "        password=\"cip_pw\",\n",
    "        host=\"127.0.0.1\",\n",
    "        port=3306,\n",
    "        database=\"CIP\"\n",
    "    )\n",
    "except mariadb.Error as e:\n",
    "    print(f\"Error connecting to MariaDB Platform: {e}\")\n",
    "    sys.exit(1)\n",
    "\n",
    "conn.autocommit = False\n",
    "cur = conn.cursor()\n",
    "\n",
    "# Daten in die Datenbank einfügen\n",
    "errors = []\n",
    "for index, row in data.iterrows():\n",
    "    query = \"\"\"\n",
    "    INSERT INTO tbl_financial_euronext_data\n",
    "    (name, currency, market_cap_in_USD, carbon_footprint_total_GHG_emissions_per_enterprise_value, security_type, security_type_subtype, market, isin, industry, super_sector, sector, subsector, average_training_hours_per_employee, number_of_female_board_members, number_of_board_members, share_of_woman_in_total_workforce_in_percent, share_of_woman_in_management_bodies_in_percent, gender_pay_gap_in_percent, rate_of_employees_with_disabilities_in_percent, board_gender_diversity_in_percent, total_energy_consumption_in_mwh, rate_of_resignation_in_percent) \n",
    "    VALUES (?, ?, ?, ?, ?, ?, ?, ?, ?, ?, ?, ?, ?, ?, ?, ?, ?, ?, ?, ?, ?, ?)\n",
    "    \"\"\"\n",
    "    try:\n",
    "        cur.execute(query, (\n",
    "            row['Name'],\n",
    "            row['Currency'],\n",
    "            row['Market Cap in USD'],\n",
    "            row['Carbon footprint (total GHG emissions / enterprise value)_in_USD'],\n",
    "            row['Type'],\n",
    "            row['Sub type'],\n",
    "            row['Market'],\n",
    "            row['ISIN Code'],\n",
    "            row['Industry'],\n",
    "            row['SuperSector'],\n",
    "            row['Sector'],\n",
    "            row['Subsector'],\n",
    "            row['Average training hours per employee'],\n",
    "            row['Number of female board members'],\n",
    "            row['Number of board members'],\n",
    "            row['Share of women in total workforce in %'],\n",
    "            row['Share of women in management bodies in %'],\n",
    "            row['Gender pay gap in %'],\n",
    "            row['Rate of employees with disabilities in %'],\n",
    "            row['Board gender diversity (female board members / total board members) in %'],\n",
    "            row['Total energy consumption in mwh'],\n",
    "            row['Rate of resignation in %']\n",
    "        ))\n",
    "    except mariadb.Error as e:\n",
    "        errors.append(f\"Error: {e} at index {index}\")\n",
    "        continue\n",
    "\n",
    "# Änderungen bestätigen und Verbindung schließen\n",
    "conn.commit()\n",
    "\n",
    "\n",
    "# Fehler und Erfolgsmeldung ausgeben\n",
    "if errors:\n",
    "    print(f\"Es gab {len(errors)} Fehler beim Einfügen der Daten.\")\n",
    "for error in errors:\n",
    "    print(error)\n",
    "print(\"Data insertion complete.\")"
   ],
   "id": "9e3786627775d333",
   "outputs": [],
   "execution_count": null
  },
  {
   "metadata": {
    "ExecuteTime": {
     "start_time": "2024-04-23T15:30:32.103419200Z"
    }
   },
   "cell_type": "code",
   "source": [
    "try:\n",
    "    cur.execute(\"SELECT name FROM tbl_financial_euronext_data\")\n",
    "    for name in cur:\n",
    "        print(name)\n",
    "except mariadb.Error as e:\n",
    "    print(f\"Error: {e}\")"
   ],
   "id": "3518ec3c31293e6e",
   "outputs": [],
   "execution_count": null
  },
  {
   "metadata": {
    "ExecuteTime": {
     "start_time": "2024-04-23T15:30:32.104417300Z"
    }
   },
   "cell_type": "code",
   "source": "conn.close()",
   "id": "645f07a84bb2c0f7",
   "outputs": [],
   "execution_count": null
  }
 ],
 "metadata": {
  "kernelspec": {
   "display_name": "Python 3",
   "language": "python",
   "name": "python3"
  },
  "language_info": {
   "codemirror_mode": {
    "name": "ipython",
    "version": 2
   },
   "file_extension": ".py",
   "mimetype": "text/x-python",
   "name": "python",
   "nbconvert_exporter": "python",
   "pygments_lexer": "ipython2",
   "version": "2.7.6"
  }
 },
 "nbformat": 4,
 "nbformat_minor": 5
}
