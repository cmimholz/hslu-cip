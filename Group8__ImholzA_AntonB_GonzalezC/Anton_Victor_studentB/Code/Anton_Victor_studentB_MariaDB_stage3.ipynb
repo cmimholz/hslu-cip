{
 "cells": [
  {
   "cell_type": "code",
   "execution_count": 2,
   "metadata": {},
   "outputs": [],
   "source": [
    "import mariadb\n",
    "import pandas as pd\n",
    "import sys"
   ]
  },
  {
   "cell_type": "code",
   "execution_count": null,
   "metadata": {},
   "outputs": [],
   "source": [
    "\n",
    "# Connect to MariaDB Platform\n",
    "try:\n",
    "    conn = mariadb.connect(\n",
    "        user=\"cip_user\",\n",
    "        password=\"cip_pw\",\n",
    "        host=\"127.0.0.1\",                    # 10.177.124.185,  localhost , 127.0.0.1     \n",
    "        #host=\"10.177.124.35\",                    # 10.177.124.35,  localhost , 127.0.0.1    FS23\n",
    "        port=3306, \n",
    "        database=\"CIP\"\n",
    "\n",
    "    )\n",
    "except mariadb.Error as e:\n",
    "    print(f\"Error connecting to MariaDB Platform: {e}\")\n",
    "    sys.exit(1)\n",
    "\n",
    "# Get Cursor\n",
    "cur = conn.cursor()"
   ]
  },
  {
   "cell_type": "code",
   "execution_count": 5,
   "metadata": {},
   "outputs": [],
   "source": [
    "df = pd.read_csv('C:/Users/Victor/Documents/GitHub\\hslu-cip/Group8__ImholzA_AntonB_GonzalezC/Anton_Victor_studentB/Data/stage3/Anton_Victor_studentB_stage3.csv')"
   ]
  },
  {
   "cell_type": "code",
   "execution_count": null,
   "metadata": {},
   "outputs": [],
   "source": [
    "# Iterate over each row in the DataFrame\n",
    "for index, row in df.iterrows():\n",
    "    # Extract data from the DataFrame row\n",
    "    idx = row['Index']\n",
    "    company = row['Company']\n",
    "    ticker = row['Ticker']\n",
    "    \n",
    "    # Execute INSERT query\n",
    "    try:\n",
    "        cur.execute(\"INSERT INTO your_table_name (Index, Company, Ticker) VALUES (?, ?, ?)\", (idx, company, ticker))\n",
    "    except mariadb.Error as e:\n",
    "        print(f\"Error: {e}\")\n",
    "        continue"
   ]
  },
  {
   "cell_type": "code",
   "execution_count": null,
   "metadata": {},
   "outputs": [],
   "source": [
    "# Commit changes to the database\n",
    "conn.commit()"
   ]
  },
  {
   "cell_type": "code",
   "execution_count": null,
   "metadata": {},
   "outputs": [],
   "source": [
    "# Print Result-set\n",
    "cur.execute(\"SELECT Index, Company, Ticker FROM your_table_name\")\n",
    "for (idx, company, ticker) in cur:\n",
    "    print(f\"Index: {idx}, Company: {company}, Ticker: {ticker}\")"
   ]
  },
  {
   "cell_type": "code",
   "execution_count": null,
   "metadata": {},
   "outputs": [],
   "source": [
    "# Close cursor and connection\n",
    "cur.close()\n",
    "conn.close()"
   ]
  }
 ],
 "metadata": {
  "kernelspec": {
   "display_name": "base",
   "language": "python",
   "name": "python3"
  },
  "language_info": {
   "codemirror_mode": {
    "name": "ipython",
    "version": 3
   },
   "file_extension": ".py",
   "mimetype": "text/x-python",
   "name": "python",
   "nbconvert_exporter": "python",
   "pygments_lexer": "ipython3",
   "version": "3.11.5"
  }
 },
 "nbformat": 4,
 "nbformat_minor": 2
}
