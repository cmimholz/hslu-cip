{
 "cells": [
  {
   "cell_type": "code",
   "execution_count": 91,
   "id": "initial_id",
   "metadata": {
    "collapsed": true,
    "ExecuteTime": {
     "end_time": "2024-04-18T13:30:05.245274800Z",
     "start_time": "2024-04-18T13:30:05.229561600Z"
    }
   },
   "outputs": [
    {
     "name": "stdout",
     "output_type": "stream",
     "text": [
      "<class 'pandas.core.frame.DataFrame'>\n",
      "RangeIndex: 192 entries, 0 to 191\n",
      "Data columns (total 19 columns):\n",
      " #   Column                                                     Non-Null Count  Dtype \n",
      "---  ------                                                     --------------  ----- \n",
      " 0   Name                                                       187 non-null    object\n",
      " 1   Currency                                                   184 non-null    object\n",
      " 2   Market Cap                                                 184 non-null    object\n",
      " 3   CDP                                                        19 non-null     object\n",
      " 4   FTSE4Good                                                  4 non-null      object\n",
      " 5   MSCI ESG Ratings                                           4 non-null      object\n",
      " 6   Moody's ESG Solution                                       2 non-null      object\n",
      " 7   Sustainalytics                                             27 non-null     object\n",
      " 8   Carbon footprint (total GHG emissions / enterprise value)  119 non-null    object\n",
      " 9   Share of women in total workforce                          157 non-null    object\n",
      " 10  Rate of resignation                                        57 non-null     object\n",
      " 11  Type                                                       187 non-null    object\n",
      " 12  Sub type                                                   187 non-null    object\n",
      " 13  Market                                                     187 non-null    object\n",
      " 14  ISIN Code                                                  187 non-null    object\n",
      " 15  Industry                                                   187 non-null    object\n",
      " 16  SuperSector                                                187 non-null    object\n",
      " 17  Sector                                                     187 non-null    object\n",
      " 18  Subsector                                                  187 non-null    object\n",
      "dtypes: object(19)\n",
      "memory usage: 28.6+ KB\n"
     ]
    }
   ],
   "source": [
    "import pandas as pd\n",
    "import numpy as np\n",
    "import logging\n",
    "\n",
    "# Load the data file\n",
    "file_path = 'C:/Users/chris/switchdrive/SyncVM/CIP/hslu-cip/data/clean_data/scraped_shares_data2.csv'\n",
    "data = pd.read_csv(file_path, delimiter=';')\n",
    "\n",
    "# Display the first few rows of the dataframe and the general information\n",
    "data.head()\n",
    "data.info()"
   ]
  },
  {
   "cell_type": "code",
   "outputs": [
    {
     "data": {
      "text/plain": "                 Name Currency Market Cap  CDP FTSE4Good MSCI ESG Ratings  \\\n0               ACCOR      EUR     9.510B  NaN       NaN              NaN   \n1         AIR LIQUIDE      EUR    97.870B  NaN       NaN              NaN   \n2           AIRBUS SE      EUR   126.686B  NaN       NaN              NaN   \n3    ARCELORMITTAL SA      EUR    20.050B  NaN       NaN              NaN   \n4                 AXA      EUR    75.961B  NaN       NaN              NaN   \n..                ...      ...        ...  ...       ...              ...   \n187    TELECOM ITALIA      EUR     3.420B  NaN       NaN              NaN   \n188               NaN      NaN        NaN  NaN       NaN              NaN   \n189             TERNA      EUR    14.609B  NaN       NaN              NaN   \n190               NaN      NaN        NaN  NaN       NaN              NaN   \n191            UNIPOL      EUR     5.740B  NaN       NaN              NaN   \n\n    Moody's ESG Solution Sustainalytics  \\\n0                    NaN            NaN   \n1                    NaN            NaN   \n2                    NaN            NaN   \n3                    NaN            NaN   \n4                    NaN            NaN   \n..                   ...            ...   \n187                  NaN            NaN   \n188                  NaN            NaN   \n189                  NaN            NaN   \n190                  NaN            NaN   \n191                  NaN            NaN   \n\n    Carbon footprint (total GHG emissions / enterprise value)  \\\n0                           535.17 Ton / Million (EUR)          \n1                                                  NaN          \n2                                                  NaN          \n3                        3,373.201 Ton / Million (USD)          \n4                             2.54 Ton / Million (EUR)          \n..                                                 ...          \n187                         124.89 Ton / Million (EUR)          \n188                                                NaN          \n189                       132.1212 Ton / Million (EUR)          \n190                                                NaN          \n191                       476.3635 Ton / Million (EUR)          \n\n    Share of women in total workforce Rate of resignation   Type  \\\n0                                   %                   %  Stock   \n1                                28 %               8.6 %  Stock   \n2                                20 %                 NaN  Stock   \n3                                 NaN                 NaN  Stock   \n4                                 NaN                10 %  Stock   \n..                                ...                 ...    ...   \n187                              38 %                 NaN  Stock   \n188                               NaN                 NaN    NaN   \n189                           16.08 %               1.8 %  Stock   \n190                               NaN                 NaN    NaN   \n191                            54.3 %               2.7 %  Stock   \n\n            Sub type              Market     ISIN Code  \\\n0    Ordinary Shares      Euronext Paris  FR0000120404   \n1    Ordinary Shares      Euronext Paris  FR0000120073   \n2    Ordinary Shares      Euronext Paris  NL0000235190   \n3    Ordinary Shares  Euronext Amsterdam  LU1598757687   \n4    Ordinary Shares      Euronext Paris  FR0000120628   \n..               ...                 ...           ...   \n187  Ordinary Shares      Euronext Milan  IT0003497168   \n188              NaN                 NaN           NaN   \n189  Ordinary Shares      Euronext Milan  IT0003242622   \n190              NaN                 NaN           NaN   \n191  Ordinary Shares      Euronext Milan  IT0004810054   \n\n                       Industry                          SuperSector  \\\n0    40, Consumer Discretionary             4050, Travel and Leisure   \n1           55, Basic Materials                      5520, Chemicals   \n2               50, Industrials  5020, Industrial Goods and Services   \n3           55, Basic Materials                5510, Basic Resources   \n4                30, Financials                      3030, Insurance   \n..                          ...                                  ...   \n187      15, Telecommunications             1510, Telecommunications   \n188                         NaN                                  NaN   \n189               65, Utilities                      6510, Utilities   \n190                         NaN                                  NaN   \n191              30, Financials                      3030, Insurance   \n\n                                           Sector  \\\n0                      405010, Travel and Leisure   \n1                               552010, Chemicals   \n2                   502010, Aerospace and Defense   \n3            551020, Industrial Metals and Mining   \n4                      303020, Non-life Insurance   \n..                                            ...   \n187  151020, Telecommunications Service Providers   \n188                                           NaN   \n189                           651010, Electricity   \n190                                           NaN   \n191                    303020, Non-life Insurance   \n\n                                 Subsector  \n0              40501025, Hotels and Motels  \n1            55201020, Specialty Chemicals  \n2                      50201010, Aerospace  \n3                 55102010, Iron and Steel  \n4            30302010, Full Line Insurance  \n..                                     ...  \n187  15102015, Telecommunications Services  \n188                                    NaN  \n189     65101015, Conventional Electricity  \n190                                    NaN  \n191          30302010, Full Line Insurance  \n\n[192 rows x 19 columns]",
      "text/html": "<div>\n<style scoped>\n    .dataframe tbody tr th:only-of-type {\n        vertical-align: middle;\n    }\n\n    .dataframe tbody tr th {\n        vertical-align: top;\n    }\n\n    .dataframe thead th {\n        text-align: right;\n    }\n</style>\n<table border=\"1\" class=\"dataframe\">\n  <thead>\n    <tr style=\"text-align: right;\">\n      <th></th>\n      <th>Name</th>\n      <th>Currency</th>\n      <th>Market Cap</th>\n      <th>CDP</th>\n      <th>FTSE4Good</th>\n      <th>MSCI ESG Ratings</th>\n      <th>Moody's ESG Solution</th>\n      <th>Sustainalytics</th>\n      <th>Carbon footprint (total GHG emissions / enterprise value)</th>\n      <th>Share of women in total workforce</th>\n      <th>Rate of resignation</th>\n      <th>Type</th>\n      <th>Sub type</th>\n      <th>Market</th>\n      <th>ISIN Code</th>\n      <th>Industry</th>\n      <th>SuperSector</th>\n      <th>Sector</th>\n      <th>Subsector</th>\n    </tr>\n  </thead>\n  <tbody>\n    <tr>\n      <th>0</th>\n      <td>ACCOR</td>\n      <td>EUR</td>\n      <td>9.510B</td>\n      <td>NaN</td>\n      <td>NaN</td>\n      <td>NaN</td>\n      <td>NaN</td>\n      <td>NaN</td>\n      <td>535.17 Ton / Million (EUR)</td>\n      <td>%</td>\n      <td>%</td>\n      <td>Stock</td>\n      <td>Ordinary Shares</td>\n      <td>Euronext Paris</td>\n      <td>FR0000120404</td>\n      <td>40, Consumer Discretionary</td>\n      <td>4050, Travel and Leisure</td>\n      <td>405010, Travel and Leisure</td>\n      <td>40501025, Hotels and Motels</td>\n    </tr>\n    <tr>\n      <th>1</th>\n      <td>AIR LIQUIDE</td>\n      <td>EUR</td>\n      <td>97.870B</td>\n      <td>NaN</td>\n      <td>NaN</td>\n      <td>NaN</td>\n      <td>NaN</td>\n      <td>NaN</td>\n      <td>NaN</td>\n      <td>28 %</td>\n      <td>8.6 %</td>\n      <td>Stock</td>\n      <td>Ordinary Shares</td>\n      <td>Euronext Paris</td>\n      <td>FR0000120073</td>\n      <td>55, Basic Materials</td>\n      <td>5520, Chemicals</td>\n      <td>552010, Chemicals</td>\n      <td>55201020, Specialty Chemicals</td>\n    </tr>\n    <tr>\n      <th>2</th>\n      <td>AIRBUS SE</td>\n      <td>EUR</td>\n      <td>126.686B</td>\n      <td>NaN</td>\n      <td>NaN</td>\n      <td>NaN</td>\n      <td>NaN</td>\n      <td>NaN</td>\n      <td>NaN</td>\n      <td>20 %</td>\n      <td>NaN</td>\n      <td>Stock</td>\n      <td>Ordinary Shares</td>\n      <td>Euronext Paris</td>\n      <td>NL0000235190</td>\n      <td>50, Industrials</td>\n      <td>5020, Industrial Goods and Services</td>\n      <td>502010, Aerospace and Defense</td>\n      <td>50201010, Aerospace</td>\n    </tr>\n    <tr>\n      <th>3</th>\n      <td>ARCELORMITTAL SA</td>\n      <td>EUR</td>\n      <td>20.050B</td>\n      <td>NaN</td>\n      <td>NaN</td>\n      <td>NaN</td>\n      <td>NaN</td>\n      <td>NaN</td>\n      <td>3,373.201 Ton / Million (USD)</td>\n      <td>NaN</td>\n      <td>NaN</td>\n      <td>Stock</td>\n      <td>Ordinary Shares</td>\n      <td>Euronext Amsterdam</td>\n      <td>LU1598757687</td>\n      <td>55, Basic Materials</td>\n      <td>5510, Basic Resources</td>\n      <td>551020, Industrial Metals and Mining</td>\n      <td>55102010, Iron and Steel</td>\n    </tr>\n    <tr>\n      <th>4</th>\n      <td>AXA</td>\n      <td>EUR</td>\n      <td>75.961B</td>\n      <td>NaN</td>\n      <td>NaN</td>\n      <td>NaN</td>\n      <td>NaN</td>\n      <td>NaN</td>\n      <td>2.54 Ton / Million (EUR)</td>\n      <td>NaN</td>\n      <td>10 %</td>\n      <td>Stock</td>\n      <td>Ordinary Shares</td>\n      <td>Euronext Paris</td>\n      <td>FR0000120628</td>\n      <td>30, Financials</td>\n      <td>3030, Insurance</td>\n      <td>303020, Non-life Insurance</td>\n      <td>30302010, Full Line Insurance</td>\n    </tr>\n    <tr>\n      <th>...</th>\n      <td>...</td>\n      <td>...</td>\n      <td>...</td>\n      <td>...</td>\n      <td>...</td>\n      <td>...</td>\n      <td>...</td>\n      <td>...</td>\n      <td>...</td>\n      <td>...</td>\n      <td>...</td>\n      <td>...</td>\n      <td>...</td>\n      <td>...</td>\n      <td>...</td>\n      <td>...</td>\n      <td>...</td>\n      <td>...</td>\n      <td>...</td>\n    </tr>\n    <tr>\n      <th>187</th>\n      <td>TELECOM ITALIA</td>\n      <td>EUR</td>\n      <td>3.420B</td>\n      <td>NaN</td>\n      <td>NaN</td>\n      <td>NaN</td>\n      <td>NaN</td>\n      <td>NaN</td>\n      <td>124.89 Ton / Million (EUR)</td>\n      <td>38 %</td>\n      <td>NaN</td>\n      <td>Stock</td>\n      <td>Ordinary Shares</td>\n      <td>Euronext Milan</td>\n      <td>IT0003497168</td>\n      <td>15, Telecommunications</td>\n      <td>1510, Telecommunications</td>\n      <td>151020, Telecommunications Service Providers</td>\n      <td>15102015, Telecommunications Services</td>\n    </tr>\n    <tr>\n      <th>188</th>\n      <td>NaN</td>\n      <td>NaN</td>\n      <td>NaN</td>\n      <td>NaN</td>\n      <td>NaN</td>\n      <td>NaN</td>\n      <td>NaN</td>\n      <td>NaN</td>\n      <td>NaN</td>\n      <td>NaN</td>\n      <td>NaN</td>\n      <td>NaN</td>\n      <td>NaN</td>\n      <td>NaN</td>\n      <td>NaN</td>\n      <td>NaN</td>\n      <td>NaN</td>\n      <td>NaN</td>\n      <td>NaN</td>\n    </tr>\n    <tr>\n      <th>189</th>\n      <td>TERNA</td>\n      <td>EUR</td>\n      <td>14.609B</td>\n      <td>NaN</td>\n      <td>NaN</td>\n      <td>NaN</td>\n      <td>NaN</td>\n      <td>NaN</td>\n      <td>132.1212 Ton / Million (EUR)</td>\n      <td>16.08 %</td>\n      <td>1.8 %</td>\n      <td>Stock</td>\n      <td>Ordinary Shares</td>\n      <td>Euronext Milan</td>\n      <td>IT0003242622</td>\n      <td>65, Utilities</td>\n      <td>6510, Utilities</td>\n      <td>651010, Electricity</td>\n      <td>65101015, Conventional Electricity</td>\n    </tr>\n    <tr>\n      <th>190</th>\n      <td>NaN</td>\n      <td>NaN</td>\n      <td>NaN</td>\n      <td>NaN</td>\n      <td>NaN</td>\n      <td>NaN</td>\n      <td>NaN</td>\n      <td>NaN</td>\n      <td>NaN</td>\n      <td>NaN</td>\n      <td>NaN</td>\n      <td>NaN</td>\n      <td>NaN</td>\n      <td>NaN</td>\n      <td>NaN</td>\n      <td>NaN</td>\n      <td>NaN</td>\n      <td>NaN</td>\n      <td>NaN</td>\n    </tr>\n    <tr>\n      <th>191</th>\n      <td>UNIPOL</td>\n      <td>EUR</td>\n      <td>5.740B</td>\n      <td>NaN</td>\n      <td>NaN</td>\n      <td>NaN</td>\n      <td>NaN</td>\n      <td>NaN</td>\n      <td>476.3635 Ton / Million (EUR)</td>\n      <td>54.3 %</td>\n      <td>2.7 %</td>\n      <td>Stock</td>\n      <td>Ordinary Shares</td>\n      <td>Euronext Milan</td>\n      <td>IT0004810054</td>\n      <td>30, Financials</td>\n      <td>3030, Insurance</td>\n      <td>303020, Non-life Insurance</td>\n      <td>30302010, Full Line Insurance</td>\n    </tr>\n  </tbody>\n</table>\n<p>192 rows × 19 columns</p>\n</div>"
     },
     "execution_count": 92,
     "metadata": {},
     "output_type": "execute_result"
    }
   ],
   "source": [
    "data"
   ],
   "metadata": {
    "collapsed": false,
    "ExecuteTime": {
     "end_time": "2024-04-18T13:30:05.547492700Z",
     "start_time": "2024-04-18T13:30:05.512133500Z"
    }
   },
   "id": "3e28377be0663fc6",
   "execution_count": 92
  },
  {
   "cell_type": "code",
   "outputs": [
    {
     "name": "stdout",
     "output_type": "stream",
     "text": [
      "<class 'pandas.core.frame.DataFrame'>\n",
      "RangeIndex: 192 entries, 0 to 191\n",
      "Data columns (total 19 columns):\n",
      " #   Column                                                     Non-Null Count  Dtype \n",
      "---  ------                                                     --------------  ----- \n",
      " 0   Name                                                       187 non-null    object\n",
      " 1   Currency                                                   184 non-null    object\n",
      " 2   Market Cap                                                 184 non-null    object\n",
      " 3   CDP                                                        19 non-null     object\n",
      " 4   FTSE4Good                                                  4 non-null      object\n",
      " 5   MSCI ESG Ratings                                           4 non-null      object\n",
      " 6   Moody's ESG Solution                                       2 non-null      object\n",
      " 7   Sustainalytics                                             27 non-null     object\n",
      " 8   Carbon footprint (total GHG emissions / enterprise value)  119 non-null    object\n",
      " 9   Share of women in total workforce                          157 non-null    object\n",
      " 10  Rate of resignation                                        57 non-null     object\n",
      " 11  Type                                                       187 non-null    object\n",
      " 12  Sub type                                                   187 non-null    object\n",
      " 13  Market                                                     187 non-null    object\n",
      " 14  ISIN Code                                                  187 non-null    object\n",
      " 15  Industry                                                   187 non-null    object\n",
      " 16  SuperSector                                                187 non-null    object\n",
      " 17  Sector                                                     187 non-null    object\n",
      " 18  Subsector                                                  187 non-null    object\n",
      "dtypes: object(19)\n",
      "memory usage: 28.6+ KB\n"
     ]
    }
   ],
   "source": [
    "# Check for columns that are completely empty and drop them\n",
    "data = data.dropna(how='all', axis=1)\n",
    "\n",
    "# Show the columns removed (if any)\n",
    "columns_removed = data.columns.difference(columns_with_values.columns)\n",
    "\n",
    "# Updated DataFrame info\n",
    "columns_with_values.info()\n"
   ],
   "metadata": {
    "collapsed": false,
    "ExecuteTime": {
     "end_time": "2024-04-18T13:30:05.891415700Z",
     "start_time": "2024-04-18T13:30:05.840876700Z"
    }
   },
   "id": "bcda02f3606f84fb",
   "execution_count": 93
  },
  {
   "cell_type": "code",
   "outputs": [
    {
     "name": "stdout",
     "output_type": "stream",
     "text": [
      "Number of completely empty rows: 5\n"
     ]
    },
    {
     "data": {
      "text/plain": "                   Name Currency Market Cap  CDP FTSE4Good MSCI ESG Ratings  \\\n0                 ACCOR      EUR     9.510B  NaN       NaN              NaN   \n1           AIR LIQUIDE      EUR    97.870B  NaN       NaN              NaN   \n2             AIRBUS SE      EUR   126.686B  NaN       NaN              NaN   \n3      ARCELORMITTAL SA      EUR    20.050B  NaN       NaN              NaN   \n4                   AXA      EUR    75.961B  NaN       NaN              NaN   \n..                  ...      ...        ...  ...       ...              ...   \n185          STELLANTIS      EUR    76.819B  NaN       NaN              NaN   \n186  STMICROELECTRONICS      EUR    34.661B  NaN       NaN              NaN   \n187      TELECOM ITALIA      EUR     3.420B  NaN       NaN              NaN   \n189               TERNA      EUR    14.609B  NaN       NaN              NaN   \n191              UNIPOL      EUR     5.740B  NaN       NaN              NaN   \n\n    Moody's ESG Solution Sustainalytics  \\\n0                    NaN            NaN   \n1                    NaN            NaN   \n2                    NaN            NaN   \n3                    NaN            NaN   \n4                    NaN            NaN   \n..                   ...            ...   \n185                  NaN            NaN   \n186                  NaN            NaN   \n187                  NaN            NaN   \n189                  NaN            NaN   \n191                  NaN            NaN   \n\n    Carbon footprint (total GHG emissions / enterprise value)  \\\n0                           535.17 Ton / Million (EUR)          \n1                                                  NaN          \n2                                                  NaN          \n3                        3,373.201 Ton / Million (USD)          \n4                             2.54 Ton / Million (EUR)          \n..                                                 ...          \n185                     6,409.5742 Ton / Million (EUR)          \n186                        27.9849 Ton / Million (USD)          \n187                         124.89 Ton / Million (EUR)          \n189                       132.1212 Ton / Million (EUR)          \n191                       476.3635 Ton / Million (EUR)          \n\n    Share of women in total workforce Rate of resignation   Type  \\\n0                                   %                   %  Stock   \n1                                28 %               8.6 %  Stock   \n2                                20 %                 NaN  Stock   \n3                                 NaN                 NaN  Stock   \n4                                 NaN                10 %  Stock   \n..                                ...                 ...    ...   \n185                                 %                   %  Stock   \n186                                 %                   %  Stock   \n187                              38 %                 NaN  Stock   \n189                           16.08 %               1.8 %  Stock   \n191                            54.3 %               2.7 %  Stock   \n\n            Sub type              Market     ISIN Code  \\\n0    Ordinary Shares      Euronext Paris  FR0000120404   \n1    Ordinary Shares      Euronext Paris  FR0000120073   \n2    Ordinary Shares      Euronext Paris  NL0000235190   \n3    Ordinary Shares  Euronext Amsterdam  LU1598757687   \n4    Ordinary Shares      Euronext Paris  FR0000120628   \n..               ...                 ...           ...   \n185  Ordinary Shares      Euronext Milan  NL00150001Q9   \n186  Ordinary Shares      Euronext Milan  NL0000226223   \n187  Ordinary Shares      Euronext Milan  IT0003497168   \n189  Ordinary Shares      Euronext Milan  IT0003242622   \n191  Ordinary Shares      Euronext Milan  IT0004810054   \n\n                       Industry                          SuperSector  \\\n0    40, Consumer Discretionary             4050, Travel and Leisure   \n1           55, Basic Materials                      5520, Chemicals   \n2               50, Industrials  5020, Industrial Goods and Services   \n3           55, Basic Materials                5510, Basic Resources   \n4                30, Financials                      3030, Insurance   \n..                          ...                                  ...   \n185  40, Consumer Discretionary          4010, Automobiles and Parts   \n186              10, Technology                     1010, Technology   \n187      15, Telecommunications             1510, Telecommunications   \n189               65, Utilities                      6510, Utilities   \n191              30, Financials                      3030, Insurance   \n\n                                           Sector  \\\n0                      405010, Travel and Leisure   \n1                               552010, Chemicals   \n2                   502010, Aerospace and Defense   \n3            551020, Industrial Metals and Mining   \n4                      303020, Non-life Insurance   \n..                                            ...   \n185                 401010, Automobiles and Parts   \n186     101020, Technology Hardware and Equipment   \n187  151020, Telecommunications Service Providers   \n189                           651010, Electricity   \n191                    303020, Non-life Insurance   \n\n                                 Subsector  \n0              40501025, Hotels and Motels  \n1            55201020, Specialty Chemicals  \n2                      50201010, Aerospace  \n3                 55102010, Iron and Steel  \n4            30302010, Full Line Insurance  \n..                                     ...  \n185                  40101020, Automobiles  \n186               10102010, Semiconductors  \n187  15102015, Telecommunications Services  \n189     65101015, Conventional Electricity  \n191          30302010, Full Line Insurance  \n\n[187 rows x 19 columns]",
      "text/html": "<div>\n<style scoped>\n    .dataframe tbody tr th:only-of-type {\n        vertical-align: middle;\n    }\n\n    .dataframe tbody tr th {\n        vertical-align: top;\n    }\n\n    .dataframe thead th {\n        text-align: right;\n    }\n</style>\n<table border=\"1\" class=\"dataframe\">\n  <thead>\n    <tr style=\"text-align: right;\">\n      <th></th>\n      <th>Name</th>\n      <th>Currency</th>\n      <th>Market Cap</th>\n      <th>CDP</th>\n      <th>FTSE4Good</th>\n      <th>MSCI ESG Ratings</th>\n      <th>Moody's ESG Solution</th>\n      <th>Sustainalytics</th>\n      <th>Carbon footprint (total GHG emissions / enterprise value)</th>\n      <th>Share of women in total workforce</th>\n      <th>Rate of resignation</th>\n      <th>Type</th>\n      <th>Sub type</th>\n      <th>Market</th>\n      <th>ISIN Code</th>\n      <th>Industry</th>\n      <th>SuperSector</th>\n      <th>Sector</th>\n      <th>Subsector</th>\n    </tr>\n  </thead>\n  <tbody>\n    <tr>\n      <th>0</th>\n      <td>ACCOR</td>\n      <td>EUR</td>\n      <td>9.510B</td>\n      <td>NaN</td>\n      <td>NaN</td>\n      <td>NaN</td>\n      <td>NaN</td>\n      <td>NaN</td>\n      <td>535.17 Ton / Million (EUR)</td>\n      <td>%</td>\n      <td>%</td>\n      <td>Stock</td>\n      <td>Ordinary Shares</td>\n      <td>Euronext Paris</td>\n      <td>FR0000120404</td>\n      <td>40, Consumer Discretionary</td>\n      <td>4050, Travel and Leisure</td>\n      <td>405010, Travel and Leisure</td>\n      <td>40501025, Hotels and Motels</td>\n    </tr>\n    <tr>\n      <th>1</th>\n      <td>AIR LIQUIDE</td>\n      <td>EUR</td>\n      <td>97.870B</td>\n      <td>NaN</td>\n      <td>NaN</td>\n      <td>NaN</td>\n      <td>NaN</td>\n      <td>NaN</td>\n      <td>NaN</td>\n      <td>28 %</td>\n      <td>8.6 %</td>\n      <td>Stock</td>\n      <td>Ordinary Shares</td>\n      <td>Euronext Paris</td>\n      <td>FR0000120073</td>\n      <td>55, Basic Materials</td>\n      <td>5520, Chemicals</td>\n      <td>552010, Chemicals</td>\n      <td>55201020, Specialty Chemicals</td>\n    </tr>\n    <tr>\n      <th>2</th>\n      <td>AIRBUS SE</td>\n      <td>EUR</td>\n      <td>126.686B</td>\n      <td>NaN</td>\n      <td>NaN</td>\n      <td>NaN</td>\n      <td>NaN</td>\n      <td>NaN</td>\n      <td>NaN</td>\n      <td>20 %</td>\n      <td>NaN</td>\n      <td>Stock</td>\n      <td>Ordinary Shares</td>\n      <td>Euronext Paris</td>\n      <td>NL0000235190</td>\n      <td>50, Industrials</td>\n      <td>5020, Industrial Goods and Services</td>\n      <td>502010, Aerospace and Defense</td>\n      <td>50201010, Aerospace</td>\n    </tr>\n    <tr>\n      <th>3</th>\n      <td>ARCELORMITTAL SA</td>\n      <td>EUR</td>\n      <td>20.050B</td>\n      <td>NaN</td>\n      <td>NaN</td>\n      <td>NaN</td>\n      <td>NaN</td>\n      <td>NaN</td>\n      <td>3,373.201 Ton / Million (USD)</td>\n      <td>NaN</td>\n      <td>NaN</td>\n      <td>Stock</td>\n      <td>Ordinary Shares</td>\n      <td>Euronext Amsterdam</td>\n      <td>LU1598757687</td>\n      <td>55, Basic Materials</td>\n      <td>5510, Basic Resources</td>\n      <td>551020, Industrial Metals and Mining</td>\n      <td>55102010, Iron and Steel</td>\n    </tr>\n    <tr>\n      <th>4</th>\n      <td>AXA</td>\n      <td>EUR</td>\n      <td>75.961B</td>\n      <td>NaN</td>\n      <td>NaN</td>\n      <td>NaN</td>\n      <td>NaN</td>\n      <td>NaN</td>\n      <td>2.54 Ton / Million (EUR)</td>\n      <td>NaN</td>\n      <td>10 %</td>\n      <td>Stock</td>\n      <td>Ordinary Shares</td>\n      <td>Euronext Paris</td>\n      <td>FR0000120628</td>\n      <td>30, Financials</td>\n      <td>3030, Insurance</td>\n      <td>303020, Non-life Insurance</td>\n      <td>30302010, Full Line Insurance</td>\n    </tr>\n    <tr>\n      <th>...</th>\n      <td>...</td>\n      <td>...</td>\n      <td>...</td>\n      <td>...</td>\n      <td>...</td>\n      <td>...</td>\n      <td>...</td>\n      <td>...</td>\n      <td>...</td>\n      <td>...</td>\n      <td>...</td>\n      <td>...</td>\n      <td>...</td>\n      <td>...</td>\n      <td>...</td>\n      <td>...</td>\n      <td>...</td>\n      <td>...</td>\n      <td>...</td>\n    </tr>\n    <tr>\n      <th>185</th>\n      <td>STELLANTIS</td>\n      <td>EUR</td>\n      <td>76.819B</td>\n      <td>NaN</td>\n      <td>NaN</td>\n      <td>NaN</td>\n      <td>NaN</td>\n      <td>NaN</td>\n      <td>6,409.5742 Ton / Million (EUR)</td>\n      <td>%</td>\n      <td>%</td>\n      <td>Stock</td>\n      <td>Ordinary Shares</td>\n      <td>Euronext Milan</td>\n      <td>NL00150001Q9</td>\n      <td>40, Consumer Discretionary</td>\n      <td>4010, Automobiles and Parts</td>\n      <td>401010, Automobiles and Parts</td>\n      <td>40101020, Automobiles</td>\n    </tr>\n    <tr>\n      <th>186</th>\n      <td>STMICROELECTRONICS</td>\n      <td>EUR</td>\n      <td>34.661B</td>\n      <td>NaN</td>\n      <td>NaN</td>\n      <td>NaN</td>\n      <td>NaN</td>\n      <td>NaN</td>\n      <td>27.9849 Ton / Million (USD)</td>\n      <td>%</td>\n      <td>%</td>\n      <td>Stock</td>\n      <td>Ordinary Shares</td>\n      <td>Euronext Milan</td>\n      <td>NL0000226223</td>\n      <td>10, Technology</td>\n      <td>1010, Technology</td>\n      <td>101020, Technology Hardware and Equipment</td>\n      <td>10102010, Semiconductors</td>\n    </tr>\n    <tr>\n      <th>187</th>\n      <td>TELECOM ITALIA</td>\n      <td>EUR</td>\n      <td>3.420B</td>\n      <td>NaN</td>\n      <td>NaN</td>\n      <td>NaN</td>\n      <td>NaN</td>\n      <td>NaN</td>\n      <td>124.89 Ton / Million (EUR)</td>\n      <td>38 %</td>\n      <td>NaN</td>\n      <td>Stock</td>\n      <td>Ordinary Shares</td>\n      <td>Euronext Milan</td>\n      <td>IT0003497168</td>\n      <td>15, Telecommunications</td>\n      <td>1510, Telecommunications</td>\n      <td>151020, Telecommunications Service Providers</td>\n      <td>15102015, Telecommunications Services</td>\n    </tr>\n    <tr>\n      <th>189</th>\n      <td>TERNA</td>\n      <td>EUR</td>\n      <td>14.609B</td>\n      <td>NaN</td>\n      <td>NaN</td>\n      <td>NaN</td>\n      <td>NaN</td>\n      <td>NaN</td>\n      <td>132.1212 Ton / Million (EUR)</td>\n      <td>16.08 %</td>\n      <td>1.8 %</td>\n      <td>Stock</td>\n      <td>Ordinary Shares</td>\n      <td>Euronext Milan</td>\n      <td>IT0003242622</td>\n      <td>65, Utilities</td>\n      <td>6510, Utilities</td>\n      <td>651010, Electricity</td>\n      <td>65101015, Conventional Electricity</td>\n    </tr>\n    <tr>\n      <th>191</th>\n      <td>UNIPOL</td>\n      <td>EUR</td>\n      <td>5.740B</td>\n      <td>NaN</td>\n      <td>NaN</td>\n      <td>NaN</td>\n      <td>NaN</td>\n      <td>NaN</td>\n      <td>476.3635 Ton / Million (EUR)</td>\n      <td>54.3 %</td>\n      <td>2.7 %</td>\n      <td>Stock</td>\n      <td>Ordinary Shares</td>\n      <td>Euronext Milan</td>\n      <td>IT0004810054</td>\n      <td>30, Financials</td>\n      <td>3030, Insurance</td>\n      <td>303020, Non-life Insurance</td>\n      <td>30302010, Full Line Insurance</td>\n    </tr>\n  </tbody>\n</table>\n<p>187 rows × 19 columns</p>\n</div>"
     },
     "execution_count": 94,
     "metadata": {},
     "output_type": "execute_result"
    }
   ],
   "source": [
    "# Count rows where all elements are NaN\n",
    "empty_rows_count = data.isna().all(axis=1).sum()\n",
    "print(\"Number of completely empty rows:\", empty_rows_count)\n",
    "\n",
    "# Check for rows that are completely empty and drop them\n",
    "data = data.dropna(how='all', axis=0)\n",
    "data\n"
   ],
   "metadata": {
    "collapsed": false,
    "ExecuteTime": {
     "end_time": "2024-04-18T13:30:06.127053Z",
     "start_time": "2024-04-18T13:30:06.107702600Z"
    }
   },
   "id": "2d2d34e4bbe41738",
   "execution_count": 94
  },
  {
   "cell_type": "code",
   "outputs": [
    {
     "data": {
      "text/plain": "                   Name Currency    Market Cap  CDP FTSE4Good  \\\n0                 ACCOR      EUR  9.510000e+09  NaN       NaN   \n1           AIR LIQUIDE      EUR  9.787000e+10  NaN       NaN   \n2             AIRBUS SE      EUR  1.266860e+11  NaN       NaN   \n3      ARCELORMITTAL SA      EUR  2.005000e+10  NaN       NaN   \n4                   AXA      EUR  7.596100e+10  NaN       NaN   \n..                  ...      ...           ...  ...       ...   \n185          STELLANTIS      EUR  7.681900e+10  NaN       NaN   \n186  STMICROELECTRONICS      EUR  3.466100e+10  NaN       NaN   \n187      TELECOM ITALIA      EUR  3.420000e+09  NaN       NaN   \n189               TERNA      EUR  1.460900e+10  NaN       NaN   \n191              UNIPOL      EUR  5.740000e+09  NaN       NaN   \n\n    MSCI ESG Ratings Moody's ESG Solution Sustainalytics  \\\n0                NaN                  NaN            NaN   \n1                NaN                  NaN            NaN   \n2                NaN                  NaN            NaN   \n3                NaN                  NaN            NaN   \n4                NaN                  NaN            NaN   \n..               ...                  ...            ...   \n185              NaN                  NaN            NaN   \n186              NaN                  NaN            NaN   \n187              NaN                  NaN            NaN   \n189              NaN                  NaN            NaN   \n191              NaN                  NaN            NaN   \n\n    Carbon footprint (total GHG emissions / enterprise value)  \\\n0                           535.17 Ton / Million (EUR)          \n1                                                  NaN          \n2                                                  NaN          \n3                        3,373.201 Ton / Million (USD)          \n4                             2.54 Ton / Million (EUR)          \n..                                                 ...          \n185                     6,409.5742 Ton / Million (EUR)          \n186                        27.9849 Ton / Million (USD)          \n187                         124.89 Ton / Million (EUR)          \n189                       132.1212 Ton / Million (EUR)          \n191                       476.3635 Ton / Million (EUR)          \n\n    Share of women in total workforce Rate of resignation   Type  \\\n0                                   %                   %  Stock   \n1                                28 %               8.6 %  Stock   \n2                                20 %                 NaN  Stock   \n3                                 NaN                 NaN  Stock   \n4                                 NaN                10 %  Stock   \n..                                ...                 ...    ...   \n185                                 %                   %  Stock   \n186                                 %                   %  Stock   \n187                              38 %                 NaN  Stock   \n189                           16.08 %               1.8 %  Stock   \n191                            54.3 %               2.7 %  Stock   \n\n            Sub type              Market     ISIN Code  \\\n0    Ordinary Shares      Euronext Paris  FR0000120404   \n1    Ordinary Shares      Euronext Paris  FR0000120073   \n2    Ordinary Shares      Euronext Paris  NL0000235190   \n3    Ordinary Shares  Euronext Amsterdam  LU1598757687   \n4    Ordinary Shares      Euronext Paris  FR0000120628   \n..               ...                 ...           ...   \n185  Ordinary Shares      Euronext Milan  NL00150001Q9   \n186  Ordinary Shares      Euronext Milan  NL0000226223   \n187  Ordinary Shares      Euronext Milan  IT0003497168   \n189  Ordinary Shares      Euronext Milan  IT0003242622   \n191  Ordinary Shares      Euronext Milan  IT0004810054   \n\n                       Industry                          SuperSector  \\\n0    40, Consumer Discretionary             4050, Travel and Leisure   \n1           55, Basic Materials                      5520, Chemicals   \n2               50, Industrials  5020, Industrial Goods and Services   \n3           55, Basic Materials                5510, Basic Resources   \n4                30, Financials                      3030, Insurance   \n..                          ...                                  ...   \n185  40, Consumer Discretionary          4010, Automobiles and Parts   \n186              10, Technology                     1010, Technology   \n187      15, Telecommunications             1510, Telecommunications   \n189               65, Utilities                      6510, Utilities   \n191              30, Financials                      3030, Insurance   \n\n                                           Sector  \\\n0                      405010, Travel and Leisure   \n1                               552010, Chemicals   \n2                   502010, Aerospace and Defense   \n3            551020, Industrial Metals and Mining   \n4                      303020, Non-life Insurance   \n..                                            ...   \n185                 401010, Automobiles and Parts   \n186     101020, Technology Hardware and Equipment   \n187  151020, Telecommunications Service Providers   \n189                           651010, Electricity   \n191                    303020, Non-life Insurance   \n\n                                 Subsector  \n0              40501025, Hotels and Motels  \n1            55201020, Specialty Chemicals  \n2                      50201010, Aerospace  \n3                 55102010, Iron and Steel  \n4            30302010, Full Line Insurance  \n..                                     ...  \n185                  40101020, Automobiles  \n186               10102010, Semiconductors  \n187  15102015, Telecommunications Services  \n189     65101015, Conventional Electricity  \n191          30302010, Full Line Insurance  \n\n[187 rows x 19 columns]",
      "text/html": "<div>\n<style scoped>\n    .dataframe tbody tr th:only-of-type {\n        vertical-align: middle;\n    }\n\n    .dataframe tbody tr th {\n        vertical-align: top;\n    }\n\n    .dataframe thead th {\n        text-align: right;\n    }\n</style>\n<table border=\"1\" class=\"dataframe\">\n  <thead>\n    <tr style=\"text-align: right;\">\n      <th></th>\n      <th>Name</th>\n      <th>Currency</th>\n      <th>Market Cap</th>\n      <th>CDP</th>\n      <th>FTSE4Good</th>\n      <th>MSCI ESG Ratings</th>\n      <th>Moody's ESG Solution</th>\n      <th>Sustainalytics</th>\n      <th>Carbon footprint (total GHG emissions / enterprise value)</th>\n      <th>Share of women in total workforce</th>\n      <th>Rate of resignation</th>\n      <th>Type</th>\n      <th>Sub type</th>\n      <th>Market</th>\n      <th>ISIN Code</th>\n      <th>Industry</th>\n      <th>SuperSector</th>\n      <th>Sector</th>\n      <th>Subsector</th>\n    </tr>\n  </thead>\n  <tbody>\n    <tr>\n      <th>0</th>\n      <td>ACCOR</td>\n      <td>EUR</td>\n      <td>9.510000e+09</td>\n      <td>NaN</td>\n      <td>NaN</td>\n      <td>NaN</td>\n      <td>NaN</td>\n      <td>NaN</td>\n      <td>535.17 Ton / Million (EUR)</td>\n      <td>%</td>\n      <td>%</td>\n      <td>Stock</td>\n      <td>Ordinary Shares</td>\n      <td>Euronext Paris</td>\n      <td>FR0000120404</td>\n      <td>40, Consumer Discretionary</td>\n      <td>4050, Travel and Leisure</td>\n      <td>405010, Travel and Leisure</td>\n      <td>40501025, Hotels and Motels</td>\n    </tr>\n    <tr>\n      <th>1</th>\n      <td>AIR LIQUIDE</td>\n      <td>EUR</td>\n      <td>9.787000e+10</td>\n      <td>NaN</td>\n      <td>NaN</td>\n      <td>NaN</td>\n      <td>NaN</td>\n      <td>NaN</td>\n      <td>NaN</td>\n      <td>28 %</td>\n      <td>8.6 %</td>\n      <td>Stock</td>\n      <td>Ordinary Shares</td>\n      <td>Euronext Paris</td>\n      <td>FR0000120073</td>\n      <td>55, Basic Materials</td>\n      <td>5520, Chemicals</td>\n      <td>552010, Chemicals</td>\n      <td>55201020, Specialty Chemicals</td>\n    </tr>\n    <tr>\n      <th>2</th>\n      <td>AIRBUS SE</td>\n      <td>EUR</td>\n      <td>1.266860e+11</td>\n      <td>NaN</td>\n      <td>NaN</td>\n      <td>NaN</td>\n      <td>NaN</td>\n      <td>NaN</td>\n      <td>NaN</td>\n      <td>20 %</td>\n      <td>NaN</td>\n      <td>Stock</td>\n      <td>Ordinary Shares</td>\n      <td>Euronext Paris</td>\n      <td>NL0000235190</td>\n      <td>50, Industrials</td>\n      <td>5020, Industrial Goods and Services</td>\n      <td>502010, Aerospace and Defense</td>\n      <td>50201010, Aerospace</td>\n    </tr>\n    <tr>\n      <th>3</th>\n      <td>ARCELORMITTAL SA</td>\n      <td>EUR</td>\n      <td>2.005000e+10</td>\n      <td>NaN</td>\n      <td>NaN</td>\n      <td>NaN</td>\n      <td>NaN</td>\n      <td>NaN</td>\n      <td>3,373.201 Ton / Million (USD)</td>\n      <td>NaN</td>\n      <td>NaN</td>\n      <td>Stock</td>\n      <td>Ordinary Shares</td>\n      <td>Euronext Amsterdam</td>\n      <td>LU1598757687</td>\n      <td>55, Basic Materials</td>\n      <td>5510, Basic Resources</td>\n      <td>551020, Industrial Metals and Mining</td>\n      <td>55102010, Iron and Steel</td>\n    </tr>\n    <tr>\n      <th>4</th>\n      <td>AXA</td>\n      <td>EUR</td>\n      <td>7.596100e+10</td>\n      <td>NaN</td>\n      <td>NaN</td>\n      <td>NaN</td>\n      <td>NaN</td>\n      <td>NaN</td>\n      <td>2.54 Ton / Million (EUR)</td>\n      <td>NaN</td>\n      <td>10 %</td>\n      <td>Stock</td>\n      <td>Ordinary Shares</td>\n      <td>Euronext Paris</td>\n      <td>FR0000120628</td>\n      <td>30, Financials</td>\n      <td>3030, Insurance</td>\n      <td>303020, Non-life Insurance</td>\n      <td>30302010, Full Line Insurance</td>\n    </tr>\n    <tr>\n      <th>...</th>\n      <td>...</td>\n      <td>...</td>\n      <td>...</td>\n      <td>...</td>\n      <td>...</td>\n      <td>...</td>\n      <td>...</td>\n      <td>...</td>\n      <td>...</td>\n      <td>...</td>\n      <td>...</td>\n      <td>...</td>\n      <td>...</td>\n      <td>...</td>\n      <td>...</td>\n      <td>...</td>\n      <td>...</td>\n      <td>...</td>\n      <td>...</td>\n    </tr>\n    <tr>\n      <th>185</th>\n      <td>STELLANTIS</td>\n      <td>EUR</td>\n      <td>7.681900e+10</td>\n      <td>NaN</td>\n      <td>NaN</td>\n      <td>NaN</td>\n      <td>NaN</td>\n      <td>NaN</td>\n      <td>6,409.5742 Ton / Million (EUR)</td>\n      <td>%</td>\n      <td>%</td>\n      <td>Stock</td>\n      <td>Ordinary Shares</td>\n      <td>Euronext Milan</td>\n      <td>NL00150001Q9</td>\n      <td>40, Consumer Discretionary</td>\n      <td>4010, Automobiles and Parts</td>\n      <td>401010, Automobiles and Parts</td>\n      <td>40101020, Automobiles</td>\n    </tr>\n    <tr>\n      <th>186</th>\n      <td>STMICROELECTRONICS</td>\n      <td>EUR</td>\n      <td>3.466100e+10</td>\n      <td>NaN</td>\n      <td>NaN</td>\n      <td>NaN</td>\n      <td>NaN</td>\n      <td>NaN</td>\n      <td>27.9849 Ton / Million (USD)</td>\n      <td>%</td>\n      <td>%</td>\n      <td>Stock</td>\n      <td>Ordinary Shares</td>\n      <td>Euronext Milan</td>\n      <td>NL0000226223</td>\n      <td>10, Technology</td>\n      <td>1010, Technology</td>\n      <td>101020, Technology Hardware and Equipment</td>\n      <td>10102010, Semiconductors</td>\n    </tr>\n    <tr>\n      <th>187</th>\n      <td>TELECOM ITALIA</td>\n      <td>EUR</td>\n      <td>3.420000e+09</td>\n      <td>NaN</td>\n      <td>NaN</td>\n      <td>NaN</td>\n      <td>NaN</td>\n      <td>NaN</td>\n      <td>124.89 Ton / Million (EUR)</td>\n      <td>38 %</td>\n      <td>NaN</td>\n      <td>Stock</td>\n      <td>Ordinary Shares</td>\n      <td>Euronext Milan</td>\n      <td>IT0003497168</td>\n      <td>15, Telecommunications</td>\n      <td>1510, Telecommunications</td>\n      <td>151020, Telecommunications Service Providers</td>\n      <td>15102015, Telecommunications Services</td>\n    </tr>\n    <tr>\n      <th>189</th>\n      <td>TERNA</td>\n      <td>EUR</td>\n      <td>1.460900e+10</td>\n      <td>NaN</td>\n      <td>NaN</td>\n      <td>NaN</td>\n      <td>NaN</td>\n      <td>NaN</td>\n      <td>132.1212 Ton / Million (EUR)</td>\n      <td>16.08 %</td>\n      <td>1.8 %</td>\n      <td>Stock</td>\n      <td>Ordinary Shares</td>\n      <td>Euronext Milan</td>\n      <td>IT0003242622</td>\n      <td>65, Utilities</td>\n      <td>6510, Utilities</td>\n      <td>651010, Electricity</td>\n      <td>65101015, Conventional Electricity</td>\n    </tr>\n    <tr>\n      <th>191</th>\n      <td>UNIPOL</td>\n      <td>EUR</td>\n      <td>5.740000e+09</td>\n      <td>NaN</td>\n      <td>NaN</td>\n      <td>NaN</td>\n      <td>NaN</td>\n      <td>NaN</td>\n      <td>476.3635 Ton / Million (EUR)</td>\n      <td>54.3 %</td>\n      <td>2.7 %</td>\n      <td>Stock</td>\n      <td>Ordinary Shares</td>\n      <td>Euronext Milan</td>\n      <td>IT0004810054</td>\n      <td>30, Financials</td>\n      <td>3030, Insurance</td>\n      <td>303020, Non-life Insurance</td>\n      <td>30302010, Full Line Insurance</td>\n    </tr>\n  </tbody>\n</table>\n<p>187 rows × 19 columns</p>\n</div>"
     },
     "execution_count": 95,
     "metadata": {},
     "output_type": "execute_result"
    }
   ],
   "source": [
    "# Helper function to convert Market Cap to numeric\n",
    "def convert_market_cap(value):\n",
    "    if pd.isna(value):\n",
    "        return np.nan\n",
    "    value = value.strip().upper()\n",
    "    if value.endswith('B'):\n",
    "        return float(value[:-1]) * 1e9  # Convert billions to a numeric value\n",
    "    elif value.endswith('M'):\n",
    "        return float(value[:-1]) * 1e6  # Convert millions to a numeric value\n",
    "    elif value.endswith('K'):\n",
    "        return float(value[:-1]) * 1e3  # Convert thousands to a numeric value\n",
    "    else:\n",
    "        return float(value)  # Handle numeric-only strings as is\n",
    "    \n",
    "# Apply conversions\n",
    "data['Market Cap'] = data['Market Cap'].apply(convert_market_cap)\n",
    "data\n"
   ],
   "metadata": {
    "collapsed": false,
    "ExecuteTime": {
     "end_time": "2024-04-18T13:30:06.533119200Z",
     "start_time": "2024-04-18T13:30:06.453581300Z"
    }
   },
   "id": "83b62884864c67f4",
   "execution_count": 95
  },
  {
   "cell_type": "code",
   "outputs": [
    {
     "data": {
      "text/plain": "                   Name Currency    Market Cap  CDP FTSE4Good  \\\n0                 ACCOR      EUR  9.510000e+09  NaN       NaN   \n1           AIR LIQUIDE      EUR  9.787000e+10  NaN       NaN   \n2             AIRBUS SE      EUR  1.266860e+11  NaN       NaN   \n3      ARCELORMITTAL SA      EUR  2.005000e+10  NaN       NaN   \n4                   AXA      EUR  7.596100e+10  NaN       NaN   \n..                  ...      ...           ...  ...       ...   \n185          STELLANTIS      EUR  7.681900e+10  NaN       NaN   \n186  STMICROELECTRONICS      EUR  3.466100e+10  NaN       NaN   \n187      TELECOM ITALIA      EUR  3.420000e+09  NaN       NaN   \n189               TERNA      EUR  1.460900e+10  NaN       NaN   \n191              UNIPOL      EUR  5.740000e+09  NaN       NaN   \n\n    MSCI ESG Ratings Moody's ESG Solution Sustainalytics  \\\n0                NaN                  NaN            NaN   \n1                NaN                  NaN            NaN   \n2                NaN                  NaN            NaN   \n3                NaN                  NaN            NaN   \n4                NaN                  NaN            NaN   \n..               ...                  ...            ...   \n185              NaN                  NaN            NaN   \n186              NaN                  NaN            NaN   \n187              NaN                  NaN            NaN   \n189              NaN                  NaN            NaN   \n191              NaN                  NaN            NaN   \n\n    Share of women in total workforce Rate of resignation   Type  \\\n0                                   %                   %  Stock   \n1                                28 %               8.6 %  Stock   \n2                                20 %                 NaN  Stock   \n3                                 NaN                 NaN  Stock   \n4                                 NaN                10 %  Stock   \n..                                ...                 ...    ...   \n185                                 %                   %  Stock   \n186                                 %                   %  Stock   \n187                              38 %                 NaN  Stock   \n189                           16.08 %               1.8 %  Stock   \n191                            54.3 %               2.7 %  Stock   \n\n            Sub type              Market     ISIN Code  \\\n0    Ordinary Shares      Euronext Paris  FR0000120404   \n1    Ordinary Shares      Euronext Paris  FR0000120073   \n2    Ordinary Shares      Euronext Paris  NL0000235190   \n3    Ordinary Shares  Euronext Amsterdam  LU1598757687   \n4    Ordinary Shares      Euronext Paris  FR0000120628   \n..               ...                 ...           ...   \n185  Ordinary Shares      Euronext Milan  NL00150001Q9   \n186  Ordinary Shares      Euronext Milan  NL0000226223   \n187  Ordinary Shares      Euronext Milan  IT0003497168   \n189  Ordinary Shares      Euronext Milan  IT0003242622   \n191  Ordinary Shares      Euronext Milan  IT0004810054   \n\n                       Industry                          SuperSector  \\\n0    40, Consumer Discretionary             4050, Travel and Leisure   \n1           55, Basic Materials                      5520, Chemicals   \n2               50, Industrials  5020, Industrial Goods and Services   \n3           55, Basic Materials                5510, Basic Resources   \n4                30, Financials                      3030, Insurance   \n..                          ...                                  ...   \n185  40, Consumer Discretionary          4010, Automobiles and Parts   \n186              10, Technology                     1010, Technology   \n187      15, Telecommunications             1510, Telecommunications   \n189               65, Utilities                      6510, Utilities   \n191              30, Financials                      3030, Insurance   \n\n                                           Sector  \\\n0                      405010, Travel and Leisure   \n1                               552010, Chemicals   \n2                   502010, Aerospace and Defense   \n3            551020, Industrial Metals and Mining   \n4                      303020, Non-life Insurance   \n..                                            ...   \n185                 401010, Automobiles and Parts   \n186     101020, Technology Hardware and Equipment   \n187  151020, Telecommunications Service Providers   \n189                           651010, Electricity   \n191                    303020, Non-life Insurance   \n\n                                 Subsector  \\\n0              40501025, Hotels and Motels   \n1            55201020, Specialty Chemicals   \n2                      50201010, Aerospace   \n3                 55102010, Iron and Steel   \n4            30302010, Full Line Insurance   \n..                                     ...   \n185                  40101020, Automobiles   \n186               10102010, Semiconductors   \n187  15102015, Telecommunications Services   \n189     65101015, Conventional Electricity   \n191          30302010, Full Line Insurance   \n\n     Carbon footprint (total GHG emissions / enterprise value)_in_USD  \n0                                           572.631900                 \n1                                                  NaN                 \n2                                                  NaN                 \n3                                          3373.201000                 \n4                                             2.717800                 \n..                                                 ...                 \n185                                        6858.244394                 \n186                                          27.984900                 \n187                                         133.632300                 \n189                                         141.369684                 \n191                                         509.708945                 \n\n[187 rows x 19 columns]",
      "text/html": "<div>\n<style scoped>\n    .dataframe tbody tr th:only-of-type {\n        vertical-align: middle;\n    }\n\n    .dataframe tbody tr th {\n        vertical-align: top;\n    }\n\n    .dataframe thead th {\n        text-align: right;\n    }\n</style>\n<table border=\"1\" class=\"dataframe\">\n  <thead>\n    <tr style=\"text-align: right;\">\n      <th></th>\n      <th>Name</th>\n      <th>Currency</th>\n      <th>Market Cap</th>\n      <th>CDP</th>\n      <th>FTSE4Good</th>\n      <th>MSCI ESG Ratings</th>\n      <th>Moody's ESG Solution</th>\n      <th>Sustainalytics</th>\n      <th>Share of women in total workforce</th>\n      <th>Rate of resignation</th>\n      <th>Type</th>\n      <th>Sub type</th>\n      <th>Market</th>\n      <th>ISIN Code</th>\n      <th>Industry</th>\n      <th>SuperSector</th>\n      <th>Sector</th>\n      <th>Subsector</th>\n      <th>Carbon footprint (total GHG emissions / enterprise value)_in_USD</th>\n    </tr>\n  </thead>\n  <tbody>\n    <tr>\n      <th>0</th>\n      <td>ACCOR</td>\n      <td>EUR</td>\n      <td>9.510000e+09</td>\n      <td>NaN</td>\n      <td>NaN</td>\n      <td>NaN</td>\n      <td>NaN</td>\n      <td>NaN</td>\n      <td>%</td>\n      <td>%</td>\n      <td>Stock</td>\n      <td>Ordinary Shares</td>\n      <td>Euronext Paris</td>\n      <td>FR0000120404</td>\n      <td>40, Consumer Discretionary</td>\n      <td>4050, Travel and Leisure</td>\n      <td>405010, Travel and Leisure</td>\n      <td>40501025, Hotels and Motels</td>\n      <td>572.631900</td>\n    </tr>\n    <tr>\n      <th>1</th>\n      <td>AIR LIQUIDE</td>\n      <td>EUR</td>\n      <td>9.787000e+10</td>\n      <td>NaN</td>\n      <td>NaN</td>\n      <td>NaN</td>\n      <td>NaN</td>\n      <td>NaN</td>\n      <td>28 %</td>\n      <td>8.6 %</td>\n      <td>Stock</td>\n      <td>Ordinary Shares</td>\n      <td>Euronext Paris</td>\n      <td>FR0000120073</td>\n      <td>55, Basic Materials</td>\n      <td>5520, Chemicals</td>\n      <td>552010, Chemicals</td>\n      <td>55201020, Specialty Chemicals</td>\n      <td>NaN</td>\n    </tr>\n    <tr>\n      <th>2</th>\n      <td>AIRBUS SE</td>\n      <td>EUR</td>\n      <td>1.266860e+11</td>\n      <td>NaN</td>\n      <td>NaN</td>\n      <td>NaN</td>\n      <td>NaN</td>\n      <td>NaN</td>\n      <td>20 %</td>\n      <td>NaN</td>\n      <td>Stock</td>\n      <td>Ordinary Shares</td>\n      <td>Euronext Paris</td>\n      <td>NL0000235190</td>\n      <td>50, Industrials</td>\n      <td>5020, Industrial Goods and Services</td>\n      <td>502010, Aerospace and Defense</td>\n      <td>50201010, Aerospace</td>\n      <td>NaN</td>\n    </tr>\n    <tr>\n      <th>3</th>\n      <td>ARCELORMITTAL SA</td>\n      <td>EUR</td>\n      <td>2.005000e+10</td>\n      <td>NaN</td>\n      <td>NaN</td>\n      <td>NaN</td>\n      <td>NaN</td>\n      <td>NaN</td>\n      <td>NaN</td>\n      <td>NaN</td>\n      <td>Stock</td>\n      <td>Ordinary Shares</td>\n      <td>Euronext Amsterdam</td>\n      <td>LU1598757687</td>\n      <td>55, Basic Materials</td>\n      <td>5510, Basic Resources</td>\n      <td>551020, Industrial Metals and Mining</td>\n      <td>55102010, Iron and Steel</td>\n      <td>3373.201000</td>\n    </tr>\n    <tr>\n      <th>4</th>\n      <td>AXA</td>\n      <td>EUR</td>\n      <td>7.596100e+10</td>\n      <td>NaN</td>\n      <td>NaN</td>\n      <td>NaN</td>\n      <td>NaN</td>\n      <td>NaN</td>\n      <td>NaN</td>\n      <td>10 %</td>\n      <td>Stock</td>\n      <td>Ordinary Shares</td>\n      <td>Euronext Paris</td>\n      <td>FR0000120628</td>\n      <td>30, Financials</td>\n      <td>3030, Insurance</td>\n      <td>303020, Non-life Insurance</td>\n      <td>30302010, Full Line Insurance</td>\n      <td>2.717800</td>\n    </tr>\n    <tr>\n      <th>...</th>\n      <td>...</td>\n      <td>...</td>\n      <td>...</td>\n      <td>...</td>\n      <td>...</td>\n      <td>...</td>\n      <td>...</td>\n      <td>...</td>\n      <td>...</td>\n      <td>...</td>\n      <td>...</td>\n      <td>...</td>\n      <td>...</td>\n      <td>...</td>\n      <td>...</td>\n      <td>...</td>\n      <td>...</td>\n      <td>...</td>\n      <td>...</td>\n    </tr>\n    <tr>\n      <th>185</th>\n      <td>STELLANTIS</td>\n      <td>EUR</td>\n      <td>7.681900e+10</td>\n      <td>NaN</td>\n      <td>NaN</td>\n      <td>NaN</td>\n      <td>NaN</td>\n      <td>NaN</td>\n      <td>%</td>\n      <td>%</td>\n      <td>Stock</td>\n      <td>Ordinary Shares</td>\n      <td>Euronext Milan</td>\n      <td>NL00150001Q9</td>\n      <td>40, Consumer Discretionary</td>\n      <td>4010, Automobiles and Parts</td>\n      <td>401010, Automobiles and Parts</td>\n      <td>40101020, Automobiles</td>\n      <td>6858.244394</td>\n    </tr>\n    <tr>\n      <th>186</th>\n      <td>STMICROELECTRONICS</td>\n      <td>EUR</td>\n      <td>3.466100e+10</td>\n      <td>NaN</td>\n      <td>NaN</td>\n      <td>NaN</td>\n      <td>NaN</td>\n      <td>NaN</td>\n      <td>%</td>\n      <td>%</td>\n      <td>Stock</td>\n      <td>Ordinary Shares</td>\n      <td>Euronext Milan</td>\n      <td>NL0000226223</td>\n      <td>10, Technology</td>\n      <td>1010, Technology</td>\n      <td>101020, Technology Hardware and Equipment</td>\n      <td>10102010, Semiconductors</td>\n      <td>27.984900</td>\n    </tr>\n    <tr>\n      <th>187</th>\n      <td>TELECOM ITALIA</td>\n      <td>EUR</td>\n      <td>3.420000e+09</td>\n      <td>NaN</td>\n      <td>NaN</td>\n      <td>NaN</td>\n      <td>NaN</td>\n      <td>NaN</td>\n      <td>38 %</td>\n      <td>NaN</td>\n      <td>Stock</td>\n      <td>Ordinary Shares</td>\n      <td>Euronext Milan</td>\n      <td>IT0003497168</td>\n      <td>15, Telecommunications</td>\n      <td>1510, Telecommunications</td>\n      <td>151020, Telecommunications Service Providers</td>\n      <td>15102015, Telecommunications Services</td>\n      <td>133.632300</td>\n    </tr>\n    <tr>\n      <th>189</th>\n      <td>TERNA</td>\n      <td>EUR</td>\n      <td>1.460900e+10</td>\n      <td>NaN</td>\n      <td>NaN</td>\n      <td>NaN</td>\n      <td>NaN</td>\n      <td>NaN</td>\n      <td>16.08 %</td>\n      <td>1.8 %</td>\n      <td>Stock</td>\n      <td>Ordinary Shares</td>\n      <td>Euronext Milan</td>\n      <td>IT0003242622</td>\n      <td>65, Utilities</td>\n      <td>6510, Utilities</td>\n      <td>651010, Electricity</td>\n      <td>65101015, Conventional Electricity</td>\n      <td>141.369684</td>\n    </tr>\n    <tr>\n      <th>191</th>\n      <td>UNIPOL</td>\n      <td>EUR</td>\n      <td>5.740000e+09</td>\n      <td>NaN</td>\n      <td>NaN</td>\n      <td>NaN</td>\n      <td>NaN</td>\n      <td>NaN</td>\n      <td>54.3 %</td>\n      <td>2.7 %</td>\n      <td>Stock</td>\n      <td>Ordinary Shares</td>\n      <td>Euronext Milan</td>\n      <td>IT0004810054</td>\n      <td>30, Financials</td>\n      <td>3030, Insurance</td>\n      <td>303020, Non-life Insurance</td>\n      <td>30302010, Full Line Insurance</td>\n      <td>509.708945</td>\n    </tr>\n  </tbody>\n</table>\n<p>187 rows × 19 columns</p>\n</div>"
     },
     "execution_count": 96,
     "metadata": {},
     "output_type": "execute_result"
    }
   ],
   "source": [
    "# Beispiel-Wechselkurse zu USD: Google 18. Apr., 13:08 UTC\n",
    "exchange_rates = {\n",
    "    'EUR': 1.07,\n",
    "    'GBP': 1.25,\n",
    "    'NOK': 0.091 \n",
    "}\n",
    "\n",
    "def parse_and_convert_tons_currency(value):\n",
    "    # Prüft auf NaN Werte\n",
    "    if pd.isna(value) or value == '':\n",
    "        return None\n",
    "    \n",
    "    parts = value.split(' ')\n",
    "    # Extrahiert den Betrag, die Einheit und die Währung\n",
    "    if parts[0].replace(',', '') == '':\n",
    "        amount =  None\n",
    "    else:\n",
    "        amount = float(parts[0].replace(',', ''))\n",
    "\n",
    "    \n",
    "    unit = parts[2]\n",
    "    currency = parts[4].strip('()')\n",
    "\n",
    "    # Konvertiert Tausend in Millionen, falls nötig\n",
    "    if unit == 'Thousand':\n",
    "        amount /= 1000\n",
    "\n",
    "    # Wandelt den Betrag in USD um, falls er nicht bereits in USD ist\n",
    "    if currency != 'USD':\n",
    "        amount *= exchange_rates.get(currency, 1)\n",
    "\n",
    "    return amount\n",
    "\n",
    "# Anwendung der Funktion\n",
    "data['Carbon footprint (total GHG emissions / enterprise value)' + '_in_USD'] = data['Carbon footprint (total GHG emissions / enterprise value)'].apply(parse_and_convert_tons_currency)\n",
    "data = data.drop('Carbon footprint (total GHG emissions / enterprise value)',axis='columns')\n",
    "data"
   ],
   "metadata": {
    "collapsed": false,
    "ExecuteTime": {
     "end_time": "2024-04-18T13:30:06.839109600Z",
     "start_time": "2024-04-18T13:30:06.743911600Z"
    }
   },
   "id": "57a5f4e444c28d44",
   "execution_count": 96
  },
  {
   "cell_type": "code",
   "outputs": [
    {
     "name": "stdout",
     "output_type": "stream",
     "text": [
      "<class 'pandas.core.frame.DataFrame'>\n",
      "Int64Index: 187 entries, 0 to 191\n",
      "Data columns (total 19 columns):\n",
      " #   Column                                                            Non-Null Count  Dtype  \n",
      "---  ------                                                            --------------  -----  \n",
      " 0   Name                                                              187 non-null    object \n",
      " 1   Currency                                                          184 non-null    object \n",
      " 2   Market Cap                                                        184 non-null    float64\n",
      " 3   CDP                                                               19 non-null     object \n",
      " 4   FTSE4Good                                                         4 non-null      object \n",
      " 5   MSCI ESG Ratings                                                  4 non-null      object \n",
      " 6   Moody's ESG Solution                                              2 non-null      object \n",
      " 7   Sustainalytics                                                    27 non-null     object \n",
      " 8   Type                                                              187 non-null    object \n",
      " 9   Sub type                                                          187 non-null    object \n",
      " 10  Market                                                            187 non-null    object \n",
      " 11  ISIN Code                                                         187 non-null    object \n",
      " 12  Industry                                                          187 non-null    object \n",
      " 13  SuperSector                                                       187 non-null    object \n",
      " 14  Sector                                                            187 non-null    object \n",
      " 15  Subsector                                                         187 non-null    object \n",
      " 16  Carbon footprint (total GHG emissions / enterprise value)_in_USD  119 non-null    float64\n",
      " 17  Share of women in total workforce in %                            144 non-null    float64\n",
      " 18  Rate of resignation in %                                          51 non-null     float64\n",
      "dtypes: float64(4), object(15)\n",
      "memory usage: 29.2+ KB\n"
     ]
    }
   ],
   "source": [
    "# Helper function to convert percentage strings to floats\n",
    "def convert_percentage(value):\n",
    "    if pd.isna(value) or value.strip('% ') == '':\n",
    "        return np.nan\n",
    "    return float(value.strip('% ')) / 100\n",
    "\n",
    "# Apply conversions\n",
    "data['Share of women in total workforce in %'] = data['Share of women in total workforce'].apply(convert_percentage)\n",
    "data = data.drop(\"Share of women in total workforce\",axis='columns')\n",
    "data['Rate of resignation in %'] = data['Rate of resignation'].apply(convert_percentage)\n",
    "data = data.drop('Rate of resignation', axis='columns')\n",
    "data\n",
    "\n",
    "# Transformed data\n",
    "data.head()\n",
    "data.info()"
   ],
   "metadata": {
    "collapsed": false,
    "ExecuteTime": {
     "end_time": "2024-04-18T13:30:07.292246700Z",
     "start_time": "2024-04-18T13:30:07.269220600Z"
    }
   },
   "id": "9ac0d9a4f0c1187a",
   "execution_count": 97
  },
  {
   "cell_type": "code",
   "outputs": [
    {
     "data": {
      "text/plain": "                   Name Currency    Market Cap  CDP FTSE4Good  \\\n0                 ACCOR      EUR  9.510000e+09  NaN       NaN   \n1           AIR LIQUIDE      EUR  9.787000e+10  NaN       NaN   \n2             AIRBUS SE      EUR  1.266860e+11  NaN       NaN   \n3      ARCELORMITTAL SA      EUR  2.005000e+10  NaN       NaN   \n4                   AXA      EUR  7.596100e+10  NaN       NaN   \n..                  ...      ...           ...  ...       ...   \n185          STELLANTIS      EUR  7.681900e+10  NaN       NaN   \n186  STMICROELECTRONICS      EUR  3.466100e+10  NaN       NaN   \n187      TELECOM ITALIA      EUR  3.420000e+09  NaN       NaN   \n189               TERNA      EUR  1.460900e+10  NaN       NaN   \n191              UNIPOL      EUR  5.740000e+09  NaN       NaN   \n\n    MSCI ESG Ratings Moody's ESG Solution Sustainalytics   Type  \\\n0                NaN                  NaN            NaN  Stock   \n1                NaN                  NaN            NaN  Stock   \n2                NaN                  NaN            NaN  Stock   \n3                NaN                  NaN            NaN  Stock   \n4                NaN                  NaN            NaN  Stock   \n..               ...                  ...            ...    ...   \n185              NaN                  NaN            NaN  Stock   \n186              NaN                  NaN            NaN  Stock   \n187              NaN                  NaN            NaN  Stock   \n189              NaN                  NaN            NaN  Stock   \n191              NaN                  NaN            NaN  Stock   \n\n            Sub type              Market     ISIN Code  \\\n0    Ordinary Shares      Euronext Paris  FR0000120404   \n1    Ordinary Shares      Euronext Paris  FR0000120073   \n2    Ordinary Shares      Euronext Paris  NL0000235190   \n3    Ordinary Shares  Euronext Amsterdam  LU1598757687   \n4    Ordinary Shares      Euronext Paris  FR0000120628   \n..               ...                 ...           ...   \n185  Ordinary Shares      Euronext Milan  NL00150001Q9   \n186  Ordinary Shares      Euronext Milan  NL0000226223   \n187  Ordinary Shares      Euronext Milan  IT0003497168   \n189  Ordinary Shares      Euronext Milan  IT0003242622   \n191  Ordinary Shares      Euronext Milan  IT0004810054   \n\n                       Industry                          SuperSector  \\\n0    40, Consumer Discretionary             4050, Travel and Leisure   \n1           55, Basic Materials                      5520, Chemicals   \n2               50, Industrials  5020, Industrial Goods and Services   \n3           55, Basic Materials                5510, Basic Resources   \n4                30, Financials                      3030, Insurance   \n..                          ...                                  ...   \n185  40, Consumer Discretionary          4010, Automobiles and Parts   \n186              10, Technology                     1010, Technology   \n187      15, Telecommunications             1510, Telecommunications   \n189               65, Utilities                      6510, Utilities   \n191              30, Financials                      3030, Insurance   \n\n                                           Sector  \\\n0                      405010, Travel and Leisure   \n1                               552010, Chemicals   \n2                   502010, Aerospace and Defense   \n3            551020, Industrial Metals and Mining   \n4                      303020, Non-life Insurance   \n..                                            ...   \n185                 401010, Automobiles and Parts   \n186     101020, Technology Hardware and Equipment   \n187  151020, Telecommunications Service Providers   \n189                           651010, Electricity   \n191                    303020, Non-life Insurance   \n\n                                 Subsector  \\\n0              40501025, Hotels and Motels   \n1            55201020, Specialty Chemicals   \n2                      50201010, Aerospace   \n3                 55102010, Iron and Steel   \n4            30302010, Full Line Insurance   \n..                                     ...   \n185                  40101020, Automobiles   \n186               10102010, Semiconductors   \n187  15102015, Telecommunications Services   \n189     65101015, Conventional Electricity   \n191          30302010, Full Line Insurance   \n\n     Carbon footprint (total GHG emissions / enterprise value)_in_USD  \\\n0                                           572.631900                  \n1                                                  NaN                  \n2                                                  NaN                  \n3                                          3373.201000                  \n4                                             2.717800                  \n..                                                 ...                  \n185                                        6858.244394                  \n186                                          27.984900                  \n187                                         133.632300                  \n189                                         141.369684                  \n191                                         509.708945                  \n\n     Share of women in total workforce in %  Rate of resignation in %  \n0                                       NaN                       NaN  \n1                                    0.2800                     0.086  \n2                                    0.2000                       NaN  \n3                                       NaN                       NaN  \n4                                       NaN                     0.100  \n..                                      ...                       ...  \n185                                     NaN                       NaN  \n186                                     NaN                       NaN  \n187                                  0.3800                       NaN  \n189                                  0.1608                     0.018  \n191                                  0.5430                     0.027  \n\n[187 rows x 19 columns]",
      "text/html": "<div>\n<style scoped>\n    .dataframe tbody tr th:only-of-type {\n        vertical-align: middle;\n    }\n\n    .dataframe tbody tr th {\n        vertical-align: top;\n    }\n\n    .dataframe thead th {\n        text-align: right;\n    }\n</style>\n<table border=\"1\" class=\"dataframe\">\n  <thead>\n    <tr style=\"text-align: right;\">\n      <th></th>\n      <th>Name</th>\n      <th>Currency</th>\n      <th>Market Cap</th>\n      <th>CDP</th>\n      <th>FTSE4Good</th>\n      <th>MSCI ESG Ratings</th>\n      <th>Moody's ESG Solution</th>\n      <th>Sustainalytics</th>\n      <th>Type</th>\n      <th>Sub type</th>\n      <th>Market</th>\n      <th>ISIN Code</th>\n      <th>Industry</th>\n      <th>SuperSector</th>\n      <th>Sector</th>\n      <th>Subsector</th>\n      <th>Carbon footprint (total GHG emissions / enterprise value)_in_USD</th>\n      <th>Share of women in total workforce in %</th>\n      <th>Rate of resignation in %</th>\n    </tr>\n  </thead>\n  <tbody>\n    <tr>\n      <th>0</th>\n      <td>ACCOR</td>\n      <td>EUR</td>\n      <td>9.510000e+09</td>\n      <td>NaN</td>\n      <td>NaN</td>\n      <td>NaN</td>\n      <td>NaN</td>\n      <td>NaN</td>\n      <td>Stock</td>\n      <td>Ordinary Shares</td>\n      <td>Euronext Paris</td>\n      <td>FR0000120404</td>\n      <td>40, Consumer Discretionary</td>\n      <td>4050, Travel and Leisure</td>\n      <td>405010, Travel and Leisure</td>\n      <td>40501025, Hotels and Motels</td>\n      <td>572.631900</td>\n      <td>NaN</td>\n      <td>NaN</td>\n    </tr>\n    <tr>\n      <th>1</th>\n      <td>AIR LIQUIDE</td>\n      <td>EUR</td>\n      <td>9.787000e+10</td>\n      <td>NaN</td>\n      <td>NaN</td>\n      <td>NaN</td>\n      <td>NaN</td>\n      <td>NaN</td>\n      <td>Stock</td>\n      <td>Ordinary Shares</td>\n      <td>Euronext Paris</td>\n      <td>FR0000120073</td>\n      <td>55, Basic Materials</td>\n      <td>5520, Chemicals</td>\n      <td>552010, Chemicals</td>\n      <td>55201020, Specialty Chemicals</td>\n      <td>NaN</td>\n      <td>0.2800</td>\n      <td>0.086</td>\n    </tr>\n    <tr>\n      <th>2</th>\n      <td>AIRBUS SE</td>\n      <td>EUR</td>\n      <td>1.266860e+11</td>\n      <td>NaN</td>\n      <td>NaN</td>\n      <td>NaN</td>\n      <td>NaN</td>\n      <td>NaN</td>\n      <td>Stock</td>\n      <td>Ordinary Shares</td>\n      <td>Euronext Paris</td>\n      <td>NL0000235190</td>\n      <td>50, Industrials</td>\n      <td>5020, Industrial Goods and Services</td>\n      <td>502010, Aerospace and Defense</td>\n      <td>50201010, Aerospace</td>\n      <td>NaN</td>\n      <td>0.2000</td>\n      <td>NaN</td>\n    </tr>\n    <tr>\n      <th>3</th>\n      <td>ARCELORMITTAL SA</td>\n      <td>EUR</td>\n      <td>2.005000e+10</td>\n      <td>NaN</td>\n      <td>NaN</td>\n      <td>NaN</td>\n      <td>NaN</td>\n      <td>NaN</td>\n      <td>Stock</td>\n      <td>Ordinary Shares</td>\n      <td>Euronext Amsterdam</td>\n      <td>LU1598757687</td>\n      <td>55, Basic Materials</td>\n      <td>5510, Basic Resources</td>\n      <td>551020, Industrial Metals and Mining</td>\n      <td>55102010, Iron and Steel</td>\n      <td>3373.201000</td>\n      <td>NaN</td>\n      <td>NaN</td>\n    </tr>\n    <tr>\n      <th>4</th>\n      <td>AXA</td>\n      <td>EUR</td>\n      <td>7.596100e+10</td>\n      <td>NaN</td>\n      <td>NaN</td>\n      <td>NaN</td>\n      <td>NaN</td>\n      <td>NaN</td>\n      <td>Stock</td>\n      <td>Ordinary Shares</td>\n      <td>Euronext Paris</td>\n      <td>FR0000120628</td>\n      <td>30, Financials</td>\n      <td>3030, Insurance</td>\n      <td>303020, Non-life Insurance</td>\n      <td>30302010, Full Line Insurance</td>\n      <td>2.717800</td>\n      <td>NaN</td>\n      <td>0.100</td>\n    </tr>\n    <tr>\n      <th>...</th>\n      <td>...</td>\n      <td>...</td>\n      <td>...</td>\n      <td>...</td>\n      <td>...</td>\n      <td>...</td>\n      <td>...</td>\n      <td>...</td>\n      <td>...</td>\n      <td>...</td>\n      <td>...</td>\n      <td>...</td>\n      <td>...</td>\n      <td>...</td>\n      <td>...</td>\n      <td>...</td>\n      <td>...</td>\n      <td>...</td>\n      <td>...</td>\n    </tr>\n    <tr>\n      <th>185</th>\n      <td>STELLANTIS</td>\n      <td>EUR</td>\n      <td>7.681900e+10</td>\n      <td>NaN</td>\n      <td>NaN</td>\n      <td>NaN</td>\n      <td>NaN</td>\n      <td>NaN</td>\n      <td>Stock</td>\n      <td>Ordinary Shares</td>\n      <td>Euronext Milan</td>\n      <td>NL00150001Q9</td>\n      <td>40, Consumer Discretionary</td>\n      <td>4010, Automobiles and Parts</td>\n      <td>401010, Automobiles and Parts</td>\n      <td>40101020, Automobiles</td>\n      <td>6858.244394</td>\n      <td>NaN</td>\n      <td>NaN</td>\n    </tr>\n    <tr>\n      <th>186</th>\n      <td>STMICROELECTRONICS</td>\n      <td>EUR</td>\n      <td>3.466100e+10</td>\n      <td>NaN</td>\n      <td>NaN</td>\n      <td>NaN</td>\n      <td>NaN</td>\n      <td>NaN</td>\n      <td>Stock</td>\n      <td>Ordinary Shares</td>\n      <td>Euronext Milan</td>\n      <td>NL0000226223</td>\n      <td>10, Technology</td>\n      <td>1010, Technology</td>\n      <td>101020, Technology Hardware and Equipment</td>\n      <td>10102010, Semiconductors</td>\n      <td>27.984900</td>\n      <td>NaN</td>\n      <td>NaN</td>\n    </tr>\n    <tr>\n      <th>187</th>\n      <td>TELECOM ITALIA</td>\n      <td>EUR</td>\n      <td>3.420000e+09</td>\n      <td>NaN</td>\n      <td>NaN</td>\n      <td>NaN</td>\n      <td>NaN</td>\n      <td>NaN</td>\n      <td>Stock</td>\n      <td>Ordinary Shares</td>\n      <td>Euronext Milan</td>\n      <td>IT0003497168</td>\n      <td>15, Telecommunications</td>\n      <td>1510, Telecommunications</td>\n      <td>151020, Telecommunications Service Providers</td>\n      <td>15102015, Telecommunications Services</td>\n      <td>133.632300</td>\n      <td>0.3800</td>\n      <td>NaN</td>\n    </tr>\n    <tr>\n      <th>189</th>\n      <td>TERNA</td>\n      <td>EUR</td>\n      <td>1.460900e+10</td>\n      <td>NaN</td>\n      <td>NaN</td>\n      <td>NaN</td>\n      <td>NaN</td>\n      <td>NaN</td>\n      <td>Stock</td>\n      <td>Ordinary Shares</td>\n      <td>Euronext Milan</td>\n      <td>IT0003242622</td>\n      <td>65, Utilities</td>\n      <td>6510, Utilities</td>\n      <td>651010, Electricity</td>\n      <td>65101015, Conventional Electricity</td>\n      <td>141.369684</td>\n      <td>0.1608</td>\n      <td>0.018</td>\n    </tr>\n    <tr>\n      <th>191</th>\n      <td>UNIPOL</td>\n      <td>EUR</td>\n      <td>5.740000e+09</td>\n      <td>NaN</td>\n      <td>NaN</td>\n      <td>NaN</td>\n      <td>NaN</td>\n      <td>NaN</td>\n      <td>Stock</td>\n      <td>Ordinary Shares</td>\n      <td>Euronext Milan</td>\n      <td>IT0004810054</td>\n      <td>30, Financials</td>\n      <td>3030, Insurance</td>\n      <td>303020, Non-life Insurance</td>\n      <td>30302010, Full Line Insurance</td>\n      <td>509.708945</td>\n      <td>0.5430</td>\n      <td>0.027</td>\n    </tr>\n  </tbody>\n</table>\n<p>187 rows × 19 columns</p>\n</div>"
     },
     "execution_count": 98,
     "metadata": {},
     "output_type": "execute_result"
    }
   ],
   "source": [
    "data"
   ],
   "metadata": {
    "collapsed": false,
    "ExecuteTime": {
     "end_time": "2024-04-18T13:30:07.971453Z",
     "start_time": "2024-04-18T13:30:07.933010800Z"
    }
   },
   "id": "50a7cbcbe0b65b8",
   "execution_count": 98
  },
  {
   "cell_type": "code",
   "outputs": [
    {
     "data": {
      "text/plain": "Moody's ESG Solution                                                98.930481\nFTSE4Good                                                           97.860963\nMSCI ESG Ratings                                                    97.860963\nCDP                                                                 89.839572\nSustainalytics                                                      85.561497\nRate of resignation in %                                            72.727273\nCarbon footprint (total GHG emissions / enterprise value)_in_USD    36.363636\nShare of women in total workforce in %                              22.994652\nMarket Cap                                                           1.604278\nCurrency                                                             1.604278\nSuperSector                                                          0.000000\nSubsector                                                            0.000000\nSector                                                               0.000000\nName                                                                 0.000000\nIndustry                                                             0.000000\nISIN Code                                                            0.000000\nMarket                                                               0.000000\nType                                                                 0.000000\nSub type                                                             0.000000\ndtype: float64"
     },
     "execution_count": 99,
     "metadata": {},
     "output_type": "execute_result"
    }
   ],
   "source": [
    "# Calculate the percentage of missing values per column\n",
    "missing_data = data.isnull().mean() * 100.00\n",
    "\n",
    "# Display the percentage of missing data per column\n",
    "missing_data_sorted = missing_data.sort_values(ascending=False)\n",
    "missing_data_sorted"
   ],
   "metadata": {
    "collapsed": false,
    "ExecuteTime": {
     "end_time": "2024-04-18T13:30:08.514701Z",
     "start_time": "2024-04-18T13:30:08.493684900Z"
    }
   },
   "id": "9cd3539ce15151dc",
   "execution_count": 99
  },
  {
   "cell_type": "code",
   "outputs": [],
   "source": [
    "#Save DataFrame to a CSV file with semicolon as the delimiter with the required _stage2.csv ending form project\n",
    "data.to_csv('C:/Users/chris/switchdrive/SyncVM/CIP/hslu-cip/data/clean_data/scraped_shares_data2_stage3.csv', sep=';', index=False)"
   ],
   "metadata": {
    "collapsed": false,
    "ExecuteTime": {
     "end_time": "2024-04-18T13:30:09.399858Z",
     "start_time": "2024-04-18T13:30:09.390884100Z"
    }
   },
   "id": "c1d110da7bcfadc1",
   "execution_count": 100
  },
  {
   "cell_type": "code",
   "outputs": [],
   "source": [],
   "metadata": {
    "collapsed": false
   },
   "id": "7f81f0f46832218f"
  }
 ],
 "metadata": {
  "kernelspec": {
   "display_name": "Python 3",
   "language": "python",
   "name": "python3"
  },
  "language_info": {
   "codemirror_mode": {
    "name": "ipython",
    "version": 2
   },
   "file_extension": ".py",
   "mimetype": "text/x-python",
   "name": "python",
   "nbconvert_exporter": "python",
   "pygments_lexer": "ipython2",
   "version": "2.7.6"
  }
 },
 "nbformat": 4,
 "nbformat_minor": 5
}
