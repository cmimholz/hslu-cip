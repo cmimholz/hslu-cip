{
 "cells": [
  {
   "cell_type": "code",
   "execution_count": null,
   "metadata": {},
   "outputs": [],
   "source": [
    "pip install pandas itables matplotlib numpy seaborn plotly scipy"
   ]
  },
  {
   "cell_type": "code",
   "execution_count": null,
   "metadata": {},
   "outputs": [],
   "source": [
    "import pandas as pd\n",
    "from itables import init_notebook_mode\n",
    "import matplotlib.pyplot as plt\n",
    "import numpy as np\n",
    "import seaborn as sns\n",
    "import plotly.express as px\n",
    "import scipy.stats as stats\n",
    "\n",
    "init_notebook_mode(all_interactive=True)"
   ]
  },
  {
   "cell_type": "markdown",
   "metadata": {},
   "source": [
    "**Let's first load the data of the three students with some error handling in case the data structures or something else has changed**"
   ]
  },
  {
   "cell_type": "code",
   "execution_count": null,
   "metadata": {},
   "outputs": [],
   "source": [
    "# Definition of the file details in a dictionary\n",
    "file_details = {\n",
    "    'StudentA': {'path': '../data/clean_data_stage3/Imholz_Chris_studentA_stage3.csv', 'sep': ';', 'on_bad_lines': 'skip'},\n",
    "    'StudentB': {'path': '../data/clean_data_stage3/Anton_Victor_studentB_stage3.csv', 'sep': ';'},\n",
    "    'StudentC': {'path': '../data/clean_data_stage3/GonzalezAlonso_Rodrigo_studentC_stage3.csv', 'sep': ','}}\n",
    "\n",
    "# Initialize an empty dictionary to store the three DataFrames\n",
    "dfs = {}\n",
    "\n",
    "# Load the data with error handling\n",
    "for student, details in file_details.items():\n",
    "\n",
    "    try:\n",
    "        dfs[student] = pd.read_csv(details['path'], sep=details.get('sep', ','), on_bad_lines=details.get('on_bad_lines', 'error'))\n",
    "        print(f\"{student} data loaded successfully!\")\n",
    "\n",
    "    except Exception as e:\n",
    "        print(f\"An error occurred while loading {student} data: {e}\")\n",
    "\n",
    "# If you need to use the DataFrames individually later on:\n",
    "df_studentA = dfs.get('StudentA')\n",
    "df_studentB = dfs.get('StudentB')\n",
    "df_studentC = dfs.get('StudentC')"
   ]
  },
  {
   "cell_type": "markdown",
   "metadata": {},
   "source": [
    "**Let's proceed to merge the previously loaded files**"
   ]
  },
  {
   "cell_type": "code",
   "execution_count": null,
   "metadata": {
    "ExecuteTime": {
     "end_time": "2024-04-20T22:20:57.355350700Z",
     "start_time": "2024-04-20T22:20:57.244357600Z"
    }
   },
   "outputs": [],
   "source": [
    "try:\n",
    "    # Merge dataframes on specified keys with inner join\n",
    "    df = pd.merge(df_studentA, df_studentC, left_on='ISIN Code', right_on='ISIN', how='inner')\n",
    "    df = pd.merge(df, df_studentB, left_on='TICKER', right_on='Ticker', how='inner')\n",
    "    df.columns = df.columns.str.title()  # Standardize column headers to title case\n",
    "\n",
    "    # Print the shape of individual and merged dataframes\n",
    "    print(f\"The CSV 'Imholz_Chris_studentA_stage3.csv' has {df_studentA.shape[0]} rows and {df_studentA.shape[1]} columns.\")\n",
    "    print(f\"The CSV 'Anton_Victor_studentB_stage3.csv' has {df_studentB.shape[0]} rows and {df_studentB.shape[1]} columns.\")\n",
    "    print(f\"The CSV 'GonzalezAlonso_Rodrigo_studentC_stage3.csv' has {df_studentC.shape[0]} rows and {df_studentC.shape[1]} columns.\")\n",
    "    print(f\"The merged dataframe has {df.shape[0]} rows and {df.shape[1]} columns.\")\n",
    "\n",
    "    # Check if merged dataframe has more rows than any individual dataframe\n",
    "    if df.shape[0] > max(df_studentA.shape[0], df_studentB.shape[0], df_studentC.shape[0]):\n",
    "        print(\"\\033[1;31m!!! The merged dataframe has more rows than any of the individual source files, which may indicate duplicate entries or errors in merging.\\033[0m\") # Prints error in bold red, warns of possible data issues.\n",
    "    elif df.shape[0] < min(df_studentA.shape[0], df_studentB.shape[0], df_studentC.shape[0]):\n",
    "        print(\"\\033[1;31m!!! The merged dataframe has fewer rows than all individual source files, which may indicate data loss during merging.\\033[0m\") # Prints error in bold red, warns of possible data issues.\n",
    "    else:\n",
    "        print(\"The merged dataframe seems to have worked correctly and aligns with expected row counts from individual files.\")\n",
    "\n",
    "except Exception as e:\n",
    "    print(f\"An error occurred: {e}\")\n"
   ]
  },
  {
   "cell_type": "code",
   "execution_count": null,
   "metadata": {},
   "outputs": [],
   "source": [
    "df.head()"
   ]
  },
  {
   "cell_type": "markdown",
   "metadata": {},
   "source": [
    "**Ops! There are duplicates from the merge! lets handle it**"
   ]
  },
  {
   "cell_type": "code",
   "execution_count": null,
   "metadata": {},
   "outputs": [],
   "source": [
    "# Calculate and print the frequency of each unique name in the 'Name' column.\n",
    "name_counts = df['Name'].value_counts()\n",
    "print(name_counts)"
   ]
  },
  {
   "cell_type": "code",
   "execution_count": null,
   "metadata": {
    "ExecuteTime": {
     "end_time": "2024-04-20T22:20:58.294305800Z",
     "start_time": "2024-04-20T22:20:58.133623800Z"
    }
   },
   "outputs": [],
   "source": [
    "# Remove any duplicate names, keeping only the first occurrence.\n",
    "df = df.drop_duplicates(subset='Name', keep='first')\n",
    "\n",
    "# Count how many times each name appears, which should now be once for each.\n",
    "name_counts = df['Name'].value_counts()\n",
    "\n",
    "# Print the counts of each name.\n",
    "print(name_counts)"
   ]
  },
  {
   "cell_type": "markdown",
   "metadata": {},
   "source": [
    "**Let's organize the lines to be able to work more with it, dropping duplicates along the way**"
   ]
  },
  {
   "cell_type": "code",
   "execution_count": null,
   "metadata": {},
   "outputs": [],
   "source": [
    "# New column order for the DataFrame.\n",
    "columns_order = [\n",
    "    'Name', 'Market Cap In Usd', 'Currency', 'Market', 'Index',\n",
    "    'Isin Code', 'Turnover In Eur', \"Issuer Country\", 'Industry', \n",
    "    'Supersector', 'Sector', 'Subsector', \n",
    "    'Average Training Hours Per Employee', 'Number Of Female Board Members', \n",
    "    'Number Of Board Members', 'Share Of Women In Total Workforce In %', \n",
    "    'Share Of Women In Management Bodies In %', 'Gender Pay Gap In %', \n",
    "    'Rate Of Employees With Disabilities In %', \n",
    "    'Board Gender Diversity (Female Board Members / Total Board Members) In %', \n",
    "    'Total Energy Consumption In Mwh', 'Rate Of Resignation In %', \n",
    "    'Carbon Footprint (Total Ghg Emissions / Enterprise Value)_In_Usd', \n",
    "    'Roa', 'Roe', 'Roic'\n",
    "]\n",
    "\n",
    "# Reorder of the DataFrame columns according to 'columns_order'.\n",
    "df = df[columns_order]"
   ]
  },
  {
   "cell_type": "code",
   "execution_count": null,
   "metadata": {},
   "outputs": [],
   "source": [
    "def format_column_name(name):\n",
    "    \"\"\"\n",
    "    Format the first two words of a name to have capitalized first letters and the rest in lowercase.\n",
    "    \n",
    "    Parameters:\n",
    "    name (str): A string containing the full name to be formatted.\n",
    "\n",
    "    Returns:\n",
    "    str: The formatted name string with the first two words capitalized and any subsequent words left as is.\n",
    "\n",
    "    Description:\n",
    "    This function takes a name, splits it into words, and formats only the first two words to capitalize\n",
    "    the initial letter of each, leaving any other words in their original form. The words are then\n",
    "    joined back into a single string and returned.\n",
    "    \"\"\"\n",
    "    words = name.split()\n",
    "    formatted_words = [word.capitalize() if i < 2 else word for i, word in enumerate(words)]\n",
    "    return ' '.join(formatted_words)\n",
    "\n",
    "# Apply the function 'format_name' to each entry in the 'Name' column of the DataFrame 'df'.\n",
    "df['Name'] = df['Name'].apply(format_column_name)\n",
    "\n",
    "# Display the first few rows of the 'Name' column in the DataFrame 'df'\n",
    "print(df['Name'].head()) # and yes, it works"
   ]
  },
  {
   "cell_type": "code",
   "execution_count": null,
   "metadata": {},
   "outputs": [],
   "source": []
  },
  {
   "cell_type": "markdown",
   "metadata": {},
   "source": [
    "# ESG Indexes | Questions\n",
    "\n",
    "## Question 1 | Which are the most and less polluting companies listed on Europe's main indexes provided by Euronext regarding its size measured by sales volume and market capitalization?  \n",
    "\n"
   ]
  },
  {
   "cell_type": "markdown",
   "metadata": {
    "collapsed": false
   },
   "source": [
    "The first research question of our study aims to develop a detailed understanding of which companies listed on Euronext's main indices contribute the most and least to pollution relative to their size in terms of sales volume and market capitalisation. Only companies that provided complete information on the following details were included in the analysis:\n",
    "\n",
    "Relevant columns are\n",
    "- **Name:** Company name\n",
    "- **Market Cap** Market capitalization\n",
    "- **Turnover In Eur:** Annual sales volume in Euros\n",
    "- **Total Energy Consumption In Mwh:** Total energy usage in Megawatt-hours\n",
    "- **Carbon footprint (total GHG emissions / enterprise value)_in_USD:** Carbon footprint relative to the enterprise value in USD"
   ]
  },
  {
   "cell_type": "code",
   "execution_count": null,
   "metadata": {
    "ExecuteTime": {
     "end_time": "2024-04-20T22:20:58.572514300Z",
     "start_time": "2024-04-20T22:20:58.465392Z"
    },
    "collapsed": false
   },
   "outputs": [],
   "source": [
    "# Filter relevant columns\n",
    "df_pollution = df.copy()\n",
    "df_pollution = df[['Name', 'Market Cap In Usd', 'Turnover In Eur', 'Total Energy Consumption In Mwh', \n",
    "                    'Carbon Footprint (Total Ghg Emissions / Enterprise Value)_In_Usd', 'Subsector']]\n",
    "\n",
    "# Filter to get only the rows with zero values\n",
    "rows_with_na = df_pollution[df_pollution.isnull().any(axis=1)]\n",
    "\n",
    "# Extract the names from the empty columns and print the name of the excluded companies\n",
    "companys_with_na = rows_with_na['Name'].tolist()\n",
    "print(\"Amount of excluded companys due to missing data:\", len(companys_with_na))\n",
    "print(\"Excluded companies:\", companys_with_na)\n",
    "\n",
    "# Handle missing values by dropping rows with any missing data\n",
    "df_pollution.dropna(inplace=True)"
   ]
  },
  {
   "cell_type": "code",
   "execution_count": null,
   "metadata": {
    "ExecuteTime": {
     "end_time": "2024-04-20T22:20:58.701516800Z",
     "start_time": "2024-04-20T22:20:58.588517100Z"
    },
    "collapsed": false
   },
   "outputs": [],
   "source": [
    "# Sortieren des DataFrames nach dem Carbon Footprint in absteigender Reihenfolge\n",
    "df_sorted = df_pollution.sort_values(by='Carbon Footprint (Total Ghg Emissions / Enterprise Value)_In_Usd', ascending=False)\n",
    "\n",
    "df_sorted.drop_duplicates(subset='Name', keep='first', inplace=True)\n",
    "\n",
    "# Auswahl der Top 5 und Bottom 5 Unternehmen\n",
    "top5 = df_sorted.head(5)\n",
    "bottom5 = df_sorted.tail(5)\n",
    "\n",
    "# Zusammenführen der Top 5 und Bottom 5 für das Plotting\n",
    "result_df = pd.concat([top5, bottom5])\n",
    "\n",
    "# Erstellen des Bar-Charts\n",
    "fig = px.bar(result_df, x='Name', y='Carbon Footprint (Total Ghg Emissions / Enterprise Value)_In_Usd',\n",
    "             title='Top and Bottom 5 Companies by Carbon Footprint (Total Ghg Emissions / Enterprise Value) In Usd',\n",
    "             labels={'Carbon Footprint (Total Ghg Emissions / Enterprise Value)_In_Usd': 'Carbon Footprint per EV (USD)',\n",
    "                     'Name': 'Company Name'},\n",
    "             text='Carbon Footprint (Total Ghg Emissions / Enterprise Value)_In_Usd',\n",
    "             color='Carbon Footprint (Total Ghg Emissions / Enterprise Value)_In_Usd',\n",
    "             color_continuous_scale=px.colors.diverging.Tealrose,\n",
    "             category_orders={\"Name\": list(top5['Name']) + list(bottom5['Name'][::-1])})  # This ensures the companies are ordered correctly in the bar chart\n",
    "\n",
    "# Update layout to adjust visual elements\n",
    "fig.update_layout(xaxis_title=\"Company Name\",\n",
    "                  yaxis_title=\"Carbon Footprint per Enterprise Value (USD)\",\n",
    "                  coloraxis_colorbar=dict(title=\"Carbon Footprint\"),\n",
    "                  yaxis_type=\"log\")  # Log scale for better visualization if needed\n",
    "\n",
    "# Show plot\n",
    "fig.show()"
   ]
  },
  {
   "cell_type": "markdown",
   "metadata": {
    "collapsed": false
   },
   "source": [
    "The chart shows a ranking of companies based on their carbon footprint in relation to their enterprise value, measured in US dollars. It is a combined bar chart with logarithmic scaling, showing the five companies with the highest carbon footprint (on the left, marked in pink) and the five companies with the lowest (on the right, marked in different shades of blue).\n",
    "\n",
    "On the Y-axis, the 'Carbon Footprint per Enterprise Value (USD)' is plotted, which varies over a wide range from 0.01 to over 10,000 USD. The X-axis lists the names of the respective companies.\n",
    "The company with the highest carbon footprint per enterprise value is \"ORIGIN ENTERPRISES PLC\" with a very high value compared to the other companies listed. On the other side of the spectrum are companies such as \"NOS, SGPS, SA\" and \"PROSUS\", which have a very low carbon footprint per enterprise value.\n",
    "\n",
    "The realisation from this illustration could be that the range in carbon footprint varies considerably between different companies. The company \"ORIGIN ENTERPRISES PLC\" could be seen as a significantly higher environmental risk or a company that is not efficient in its use of resources, compared to \"PROSUS\", which has a lower environmental impact as measured by the ratio of greenhouse gas emissions to enterprise value."
   ]
  },
  {
   "cell_type": "code",
   "execution_count": null,
   "metadata": {
    "ExecuteTime": {
     "end_time": "2024-04-20T22:40:44.534052600Z",
     "start_time": "2024-04-20T22:40:44.296218400Z"
    },
    "collapsed": false
   },
   "outputs": [],
   "source": [
    "# Plot 2: Turnover vs. Carbon Footprint\n",
    "fig2 = px.scatter(df_pollution, x='Turnover In Eur', y='Total Energy Consumption In Mwh', \n",
    "                  hover_name='Name', \n",
    "                  title='Turnover vs. Carbon Footprint',\n",
    "                  labels={'Turnover In Eur': 'Turnover (USD)', \n",
    "                          'Carbon Footprint per EV USD': 'Carbon Footprint per EV (USD)'},\n",
    "                   hover_data={'Subsector': True},)\n",
    "fig2.update_layout(xaxis_type=\"linear\", yaxis_type=\"linear\",\n",
    "                   xaxis_title=\"Turnover (USD)\",\n",
    "                   yaxis_title=\"Total Energy Consumption In Mwh\")\n",
    "fig2.show()"
   ]
  },
  {
   "cell_type": "markdown",
   "metadata": {
    "collapsed": false
   },
   "source": [
    "The image shows a scatter plot with the heading \"Turnover vs. carbon footprint\". The X-axis represents the turnover of the companies in USD, from 0 to 500 million USD, while the Y-axis shows the total energy consumption in megawatt hours (MWh), ranging from 0 to over 600 million MWh.\n",
    "\n",
    "The points in the chart show the distribution of the individual companies in terms of these two metrics. Some points are grouped close to the Y-axis, indicating companies that have a low turnover but relatively high energy consumption. Others are spread across the entire width of the X-axis, indicating a wide variation in turnover.\n",
    "\n",
    "The takeaway from this chart could be that there is no clear correlation between a company's turnover and its energy consumption; companies with similar turnover can consume very different amounts of energy. "
   ]
  },
  {
   "cell_type": "code",
   "execution_count": null,
   "metadata": {
    "ExecuteTime": {
     "end_time": "2024-04-20T22:42:40.045288400Z",
     "start_time": "2024-04-20T22:42:39.995609Z"
    },
    "collapsed": false
   },
   "outputs": [],
   "source": [
    "# Berechnen von Energy per Euro Turnover\n",
    "df_pollution['Energy per Euro Turnover (MWh/EUR)'] = (df_pollution['Total Energy Consumption In Mwh'] / df_pollution['Turnover In Eur']).round(5)\n",
    "\n",
    "# Sortieren des DataFrames nach dem neu berechneten Energy per Euro Turnover in absteigender Reihenfolge\n",
    "df_sorted = df_pollution.sort_values(by='Energy per Euro Turnover (MWh/EUR)', ascending=False)\n",
    "\n",
    "# Entfernen von Duplikaten, falls vorhanden\n",
    "df_sorted.drop_duplicates(subset='Name', keep='first', inplace=True)\n",
    "\n",
    "# Auswahl der Top 5 und Bottom 5 Unternehmen basierend auf Energy per Euro Turnover\n",
    "top5 = df_sorted.head(5)\n",
    "bottom5 = df_sorted.tail(5)\n",
    "\n",
    "# Zusammenführen der Top 5 und Bottom 5 für das Plotting\n",
    "result_df2 = pd.concat([top5, bottom5])\n",
    "\n",
    "# Erstellen des Bar-Charts\n",
    "fig = px.bar(result_df2, x='Name', y='Energy per Euro Turnover (MWh/EUR)',\n",
    "             title='Top and Bottom 5 Companies by Energy per Euro Turnover',\n",
    "             labels={'Energy per Euro Turnover (MWh/EUR)': 'Energy per Euro Turnover (MWh/EUR)',\n",
    "                     'Name': 'Company Name'},\n",
    "             text='Energy per Euro Turnover (MWh/EUR)',\n",
    "             color='Energy per Euro Turnover (MWh/EUR)',\n",
    "             hover_data={'Subsector': True},\n",
    "             color_continuous_scale=px.colors.diverging.Tealrose,\n",
    "             category_orders={\"Name\": list(top5['Name']) + list(bottom5['Name'][::-1])})  # This ensures the companies are ordered correctly in the bar chart\n",
    "\n",
    "\n",
    "# Update layout to adjust visual elements\n",
    "fig.update_layout(xaxis_title=\"Company Name\" ,\n",
    "                  yaxis_title=\"Energy per Euro Turnover (MWh/EUR)\",\n",
    "                  coloraxis_colorbar=dict(title=\"Energy Usage\"),\n",
    "                  yaxis_type=\"log\")  # Log scale for better visualization if needed\n",
    "\n",
    "# Show plot\n",
    "fig.show()"
   ]
  },
  {
   "cell_type": "markdown",
   "metadata": {
    "collapsed": false
   },
   "source": [
    "Following on from the scatter diagram, which shows no clear correlation between turnover and energy consumption of the companies, the second image offers another revealing perspective: a bar chart entitled \"Top and Bottom 5 Companies by Energy per Euro Turnover\". Here, energy consumption is set in relation to turnover, expressed in megawatt hours (MWh) per euro of turnover. The logarithmic scaling of the Y-axis ranges from 100 micro-MWh/EUR to 100 MWh/EUR and thus illustrates significant differences in the efficiency with which companies convert their energy into turnover.\n",
    "\n",
    "The five companies with the highest energy consumption per euro of turnover are represented by bars on the left-hand side, with \"CTT-Correios de Portugal, SA\" standing out with a value of 115.86042 MWh/EUR. This indicates that this company requires a large amount of energy to generate one euro of turnover - a possible indicator of low energy efficiency. In contrast, the bars on the right show the five companies with the lowest energy consumption per euro of turnover. \"ASML Holding\", with a value close to 0, demonstrates exceptionally high efficiency in energy use in relation to turnover.\n",
    "\n",
    "This visual analysis suggests that some companies operate much more efficiently by using less energy to achieve their turnover."
   ]
  },
  {
   "cell_type": "markdown",
   "metadata": {},
   "source": [
    "## Question 1 | Conclusion"
   ]
  },
  {
   "cell_type": "markdown",
   "metadata": {
    "collapsed": false
   },
   "source": [
    "The study reveals a wide range in the ratio of carbon footprint to company value and shows that companies' turnover and energy consumption do not necessarily correlate. Some companies require a disproportionate amount of energy for their turnover, while others manage with surprisingly little. "
   ]
  },
  {
   "cell_type": "markdown",
   "metadata": {},
   "source": [
    "## Question 2 | What is the Euronext Index with components that perform best in terms of environmental and social responsibility?\n",
    "\n",
    "This question aims to identify the leading index by examining various indicators, including **Carbon Footprint**, **Energy Consumption**, **the Percentage of Women in the Total Workforce and in Management Positions**, **the Gender Pay Gap**, and **the Employment Rate of Individuals with Disabilities**. \n"
   ]
  },
  {
   "cell_type": "code",
   "execution_count": null,
   "metadata": {
    "ExecuteTime": {
     "end_time": "2024-04-20T21:54:18.299037300Z",
     "start_time": "2024-04-20T21:54:18.183738900Z"
    }
   },
   "outputs": [],
   "source": [
    "df_final = df.copy()\n",
    "\n",
    "# Drop rows with NaN values in the specified columns\n",
    "df_final.dropna(subset=['Carbon Footprint (Total Ghg Emissions / Enterprise Value)', 'Total Energy Consumption In Mwh'], inplace=True)\n",
    "\n",
    "#Convert Footprint to float\n",
    "def convert_to_float(value):\n",
    "    if isinstance(value, str):  # Check if the value is a string\n",
    "        number = ''.join(filter(str.isdigit, value))\n",
    "        return float(number) if number else float('nan')\n",
    "    elif pd.isna(value):  # If the value is NaN, simply return NaN\n",
    "        return float('nan')\n",
    "    else:  # If it's not a string and not NaN, assume it's already numeric\n",
    "        return float(value)\n",
    "\n",
    "df_final['Carbon Footprint (Total Ghg Emissions / Enterprise Value)'] = df_final['Carbon Footprint (Total Ghg Emissions / Enterprise Value)'].apply(convert_to_float)\n",
    "\n",
    "# Convert values of 'Total Energy Consumption In Mwh' from Wh to MWh\n",
    "df_final['Total Energy Consumption In Mwh'] = df_final['Total Energy Consumption In Mwh'] / 1000000  # Divide by 1 million to convert from Wh to MWh\n",
    "\n",
    "# Check the resulting DataFrame\n",
    "print(df_final.head())\n"
   ]
  },
  {
   "cell_type": "markdown",
   "metadata": {},
   "source": [
    "### Energy Consumption and Carbon Footprint by Index"
   ]
  },
  {
   "cell_type": "code",
   "execution_count": null,
   "metadata": {
    "ExecuteTime": {
     "start_time": "2024-04-20T21:54:18.285026300Z"
    }
   },
   "outputs": [],
   "source": [
    "### ENERGY CONSUMPTION\n",
    "# Group data by 'Index', calculate the average energy consumption, and filter out the 'ISEQ' index\n",
    "avg_energy_consumption = df_final[df_final['Index'] != 'ISEQ'].groupby('Index').agg(\n",
    "    {'Total Energy Consumption In Mwh': 'mean'}\n",
    ").reset_index()\n",
    "\n",
    "# Sort descending\n",
    "avg_energy_consumption = avg_energy_consumption.sort_values(by='Total Energy Consumption In Mwh', ascending=False)\n",
    "\n",
    "### CARBON FOOTPRINT\n",
    "# Group data by 'Index', calculate the average carbon footprint, and filter out the 'ISEQ' index\n",
    "avg_carbon_footprint = df_final[df_final['Index'] != 'ISEQ'].groupby('Index').agg(\n",
    "    {'Carbon Footprint (Total Ghg Emissions / Enterprise Value)': 'mean'}\n",
    ").reset_index()\n",
    "\n",
    "# Sort descending\n",
    "avg_carbon_footprint = avg_carbon_footprint.sort_values(by='Carbon Footprint (Total Ghg Emissions / Enterprise Value)', ascending=False)\n",
    "\n",
    "\n",
    "# PLOTS\n",
    "# Set up the figure with two subplots side by side\n",
    "fig, (ax1, ax2) = plt.subplots(1, 2, figsize=(14, 6))\n",
    "\n",
    "# Width and positions\n",
    "bar_width = 0.35\n",
    "indexes = np.arange(len(avg_energy_consumption['Index']))\n",
    "\n",
    "### ENERGY CONSUMPTION\n",
    "# Plot 1st subplot\n",
    "bars1 = ax1.bar(indexes, avg_energy_consumption['Total Energy Consumption In Mwh'], \n",
    "                bar_width, label='Energy Consumption (MWh)', color='#66CDAA', edgecolor='black')\n",
    "ax1.set_xlabel('Index')\n",
    "ax1.set_ylabel('Average Energy Consumption (MWh)')\n",
    "ax1.set_title('Energy Consumption by Index')\n",
    "ax1.set_xticks(indexes)\n",
    "ax1.set_xticklabels(avg_energy_consumption['Index'], rotation=90)\n",
    "ax1.legend()\n",
    "\n",
    "# Data Labels\n",
    "for bar in bars1:\n",
    "    height = bar.get_height()\n",
    "    ax1.annotate(f'{height:.2f}', \n",
    "                 (bar.get_x() + bar.get_width() / 2, height), \n",
    "                 ha='center', va='bottom',\n",
    "                 textcoords=\"offset points\", xytext=(0,5), fontsize=9)\n",
    "\n",
    "### CARBON FOOTPRINT\n",
    "# Plot 2nd subplot\n",
    "bars2 = ax2.bar(indexes, avg_carbon_footprint['Carbon Footprint (Total Ghg Emissions / Enterprise Value)'], \n",
    "                bar_width, label='Carbon Footprint (MTon / Million USD)', color='#84b6f4', edgecolor='black')\n",
    "ax2.set_xlabel('Index')\n",
    "ax2.set_ylabel('Average Carbon Footprint (MTon / Million USD)')\n",
    "ax2.set_title('Carbon Footprint by Index')\n",
    "ax2.set_xticks(indexes)\n",
    "ax2.set_xticklabels(avg_carbon_footprint['Index'], rotation=90)\n",
    "ax2.legend()\n",
    "\n",
    "# Convert nummbers to MTon and add Data Labels\n",
    "for bar in bars2:\n",
    "    height = bar.get_height()\n",
    "    mega_ton = height / 1e6  \n",
    "    ax2.annotate(f'{mega_ton:.2f}', \n",
    "                 (bar.get_x() + bar.get_width() / 2, height), \n",
    "                 ha='center', va='bottom',\n",
    "                 textcoords=\"offset points\", xytext=(0,10), fontsize=9)\n",
    "\n",
    "plt.tight_layout()\n",
    "plt.show()\n"
   ]
  },
  {
   "cell_type": "markdown",
   "metadata": {},
   "source": [
    "The side-by-side plots compare the **average energy consumption** and **carbon footprint** of different indexes.\n",
    "\n",
    "- **Energy Consumption.** On the left plot for energy consumption in MWh shows significant differences between the indexes. \n",
    "The **AEX** index stands out for its significantly higher energy consumption, which at **145.37 MWh** is almost three times higher than its nearest competitor, the **BEL-20**, at **52.72 MWh**. This significant consumption points to the need for energy efficiency and sustainability measures within the companies represented by the **AEX** index.\n",
    "\n",
    "- **Carbon Footprint.** On the right plot, measured in tonnes per million USD, shows that MIB has the highest carbon footprint at **7.92 tonnes**, suggesting a greater environmental impact per unit of economic value generated. **BEL-20** and **AEX** follow with **4.4**1 and **4.10 tonnes** respectively, indicating varying degrees of greenhouse gas emissions relative to their enterprise value.\n",
    "\n",
    "Taken together, these charts highlight the environmental impact and sustainability challenges of the indexes. While energy consumption and carbon footprint are related, the disparity between the two charts suggests that some indexes may be more carbon efficient than others, or may be investing in cleaner energy sources. Insights from these visualisations could guide sustainable investment decisions and encourage the adoption of greener practices."
   ]
  },
  {
   "cell_type": "markdown",
   "metadata": {},
   "source": [
    "### Gender Diversity & Pay Gap by Index"
   ]
  },
  {
   "cell_type": "code",
   "execution_count": null,
   "metadata": {
    "ExecuteTime": {
     "end_time": "2024-04-20T21:54:18.740336600Z",
     "start_time": "2024-04-20T21:54:18.312041400Z"
    }
   },
   "outputs": [],
   "source": [
    "# Group data by 'Index', calculate the mean, and exclude 'ISEQ'\n",
    "avg_gender_data = df_final[df_final['Index'] != 'ISEQ'].groupby('Index').agg({\n",
    "    'Board Gender Diversity (Female Board Members / Total Board Members) In %': 'mean',\n",
    "    'Share Of Women In Total Workforce In %': 'mean',\n",
    "    'Share Of Women In Management Bodies In %': 'mean',\n",
    "    'Gender Pay Gap In %': 'mean'  # Adding the new column to aggregate\n",
    "}).reset_index()\n",
    "\n",
    "# Transform the data into percentages\n",
    "avg_gender_data['Board Gender Diversity %'] = avg_gender_data['Board Gender Diversity (Female Board Members / Total Board Members) In %'] * 100\n",
    "avg_gender_data['Women in Workforce %'] = avg_gender_data['Share Of Women In Total Workforce In %'] * 100\n",
    "avg_gender_data['Women in Management %'] = avg_gender_data['Share Of Women In Management Bodies In %'] * 100\n",
    "avg_gender_data['Gender Pay Gap %'] = avg_gender_data['Gender Pay Gap In %']  * 100 \n",
    "\n",
    "# Sort the bars within each index group\n",
    "avg_gender_data.sort_values(by=['Board Gender Diversity %', 'Women in Workforce %', 'Women in Management %', 'Gender Pay Gap %'],\n",
    "                            ascending=False, inplace=True)\n",
    "\n",
    "indexes = np.arange(len(avg_gender_data['Index']))\n",
    "\n",
    "# Plot\n",
    "plt.figure(figsize=(14, 10))\n",
    "plt.style.use('ggplot')\n",
    "plt.bar(indexes - 0.25, avg_gender_data['Board Gender Diversity %'], \n",
    "        0.25, label='Board Gender Diversity', color='#FFD1DC', edgecolor='black')\n",
    "plt.bar(indexes, avg_gender_data['Women in Workforce %'], \n",
    "        0.25, label='Women in Workforce', color='#FFABAB', edgecolor='black')\n",
    "plt.bar(indexes + 0.25, avg_gender_data['Women in Management %'], \n",
    "        0.25, label='Women in Management', color='#FF8888', edgecolor='black')\n",
    "plt.plot(indexes, avg_gender_data['Gender Pay Gap %'], color='black', marker='o', linestyle='-', linewidth=3, markersize=7, label='Gender Pay Gap')\n",
    "plt.xlabel('Index', fontsize=14)\n",
    "plt.ylabel('Percentage (%)', fontsize=14)\n",
    "plt.title('Gender Diversity & Pay Gap by Index', fontsize=16)\n",
    "plt.xticks(indexes, avg_gender_data['Index'], rotation=90, fontsize=12)\n",
    "plt.legend(fontsize=12)\n",
    "plt.tight_layout()\n",
    "\n",
    "# Data labels\n",
    "for i, rect in enumerate(plt.gca().patches):\n",
    "    plt.gca().text(rect.get_x() + rect.get_width() / 2, rect.get_height(), \n",
    "                   f'{rect.get_height():.2f}%', ha='center', va='bottom', fontsize=9, color='black')\n",
    "    \n",
    "# Data labels for line plot\n",
    "for i, value in enumerate(avg_gender_data['Gender Pay Gap %']):\n",
    "    plt.text(indexes[i], value + 1, f'{value:.2f}%', ha='center', va='bottom', fontsize=12.5, color='black')\n",
    "\n",
    "plt.show()\n"
   ]
  },
  {
   "cell_type": "markdown",
   "metadata": {},
   "source": [
    "\n",
    "In this visual representation of gender diversity and pay gap by index, it's clear that while some indices have made progress in gender diversity in their workforce and management, the pay gap remains a critical issue.\n",
    "\n",
    "We focus on the top three indices based on the combined factors of ****board gender diversity****, ****women in the workforce****, ****women in management**** and the ****gender pay gap****:\n",
    "\n",
    "- **CAC-40** stands out with the **highest** percentage of board **gender diversit**y at **44.42%** and a significant representation of women in management at **29.85%**. However, it has the widest gender pay gap of the group, suggesting that despite having a diverse board and management, remuneration is unequal between the genders.\n",
    "\n",
    "- **AEX** has a commendable **42.67%** female representation in management, indicating a strong presence of women in leadership roles. However, it has a significant **gender pay gap** of **13.23%**, which significantly undermines the positive aspect of women's representation in senior management. This pay gap casts a shadow over the index, as it implies that gender parity in leadership does not necessarily translate into equal pay.\n",
    "\n",
    "- **PSI-20** shows relatively **lower** percentages across the board for **gender diversity** metrics, but has a smaller pay gap of **1.22%** compared to the **CAC-40** and **AEX**. This suggests greater gender pay equity within the companies in this index, despite lower overall gender representation in management and on the board.\n",
    "\n",
    "The **AEX** index shows that higher female representation in management does not necessarily lead to pay parity, as it has a significant gender pay gap. This suggests that achieving gender equality is not only about representation in senior positions, but also about ensuring equal pay. The situation highlights the multifaceted nature of gender diversity and the need for a comprehensive approach to address all aspects of gender equality in the workplace."
   ]
  },
  {
   "cell_type": "markdown",
   "metadata": {},
   "source": [
    "### Employees with Disabilities by Index"
   ]
  },
  {
   "cell_type": "code",
   "execution_count": null,
   "metadata": {
    "ExecuteTime": {
     "end_time": "2024-04-20T21:54:19.011316400Z",
     "start_time": "2024-04-20T21:54:18.745332500Z"
    }
   },
   "outputs": [],
   "source": [
    "# Group data by 'Index', calculate the mean for 'Rate Of Employees With Disabilities In %', and exclude 'ISEQ'\n",
    "avg_disability_data = df_final[df_final['Index'] != 'ISEQ'].groupby('Index').agg({\n",
    "    'Rate Of Employees With Disabilities In %': 'mean'\n",
    "}).reset_index()\n",
    "\n",
    "# Convert this to a percentage\n",
    "avg_disability_data['Rate Of Employees With Disabilities %'] = avg_disability_data['Rate Of Employees With Disabilities In %'] * 100\n",
    "\n",
    "# Filter out 'AEX' and 'BEL_20' if they have no values\n",
    "avg_disability_data_filtered = avg_disability_data[~avg_disability_data['Index'].isin(['AEX', 'BEL_20'])]\n",
    "\n",
    "# Sort in descending order\n",
    "avg_disability_data_sorted = avg_disability_data_filtered.sort_values(by='Rate Of Employees With Disabilities %', ascending=False)\n",
    "\n",
    "indexes = np.arange(len(avg_disability_data_sorted['Index']))\n",
    "\n",
    "# Plot\n",
    "plt.figure(figsize=(10, 8))\n",
    "plt.style.use('ggplot')\n",
    "plt.bar(indexes, avg_disability_data_sorted['Rate Of Employees With Disabilities %'],\n",
    "        0.5, label='Employees with Disabilities', color='#84b6f4', edgecolor='black')\n",
    "plt.xlabel('Index', fontsize=14)\n",
    "plt.ylabel('Percentage (%)', fontsize=14)\n",
    "plt.title('Employees with Disabilities by Index', fontsize=16)\n",
    "plt.xticks(indexes, avg_disability_data_sorted['Index'], rotation=90, fontsize=12)\n",
    "plt.legend(fontsize=12)\n",
    "plt.tight_layout()\n",
    "\n",
    "# Data Labels\n",
    "for rect in plt.gca().patches:\n",
    "    height = rect.get_height()\n",
    "    plt.gca().text(rect.get_x() + rect.get_width() / 2, height,\n",
    "                   f'{height:.2f}%', ha='center', va='bottom', fontsize=9, color='black')\n",
    "    \n",
    "plt.show()\n"
   ]
  },
  {
   "cell_type": "markdown",
   "metadata": {},
   "source": [
    "The plot shows the percentage of employees with disabilities according to different indexes, comparing the **MIB**, the **CAC-40**, the **OBX** and the **PSI-20**. \n",
    "\n",
    "Notably, the **AEX** and **BEL-20** indexes are not included in this visualisation. The exclusion of the **AEX** and **BEL-20** is specifically due to the fact that these indexes reportedly have no employees with disabilities, which corresponds to a **rate** of **0%**. As such, they have been excluded from the plot in order to focus only on those indexes where there is a measurable proportion of employees with disabilities. \n",
    "\n",
    "The visualisation effectively conveys the relative differences between the indexes shown, with **MIB** having the **highest rate** at **3.77%** and **PSI-20** the **lowest** at **1.20%**."
   ]
  },
  {
   "cell_type": "markdown",
   "metadata": {},
   "source": [
    "### Calculation of the most responsible ESG Index in terms of Enviromental & Social Scores"
   ]
  },
  {
   "cell_type": "code",
   "execution_count": null,
   "metadata": {
    "ExecuteTime": {
     "end_time": "2024-04-20T21:54:19.012315500Z",
     "start_time": "2024-04-20T21:54:18.999737200Z"
    }
   },
   "outputs": [],
   "source": [
    "# Save in libraries values from plots\n",
    "energy_consumptions = {\n",
    "    'AEX': 145.37, 'BEL-20': 52.72, 'CAC-40': 47.57, 'PSI-20': 12.26,\n",
    "    'MIB': 7.35, 'OBX': 4.95\n",
    "}\n",
    "carbon_footprints = {'MIB': 7.92, 'BEL-20': 4.41, 'AEX': 4.10, 'CAC-40': 4.00, 'PSI-20': 3.39,'OBX': 2.34}\n",
    "\n",
    "gender_diversity = {\n",
    "    'Board Gender Diversity': {'CAC-40': 44.42, 'MIB': 36.08, 'OBX': 35.87, 'PSI-20': 40.78, 'AEX': 31.11, 'BEL-20': 42.07},\n",
    "    'Women in Workforce': {'CAC-40': 31.11, 'MIB': 21.98, 'OBX': 35.74, 'PSI-20': 38.48, 'AEX': 36.08, 'BEL-20': 29.85},\n",
    "    'Women in Management': {'CAC-40': 42.67, 'MIB': 29.06, 'OBX': 35.44, 'PSI-20': 35.74, 'AEX': 23.85, 'BEL-20': 40.31},\n",
    "}\n",
    "\n",
    "gender_pay_gap = {'CAC-40': 13.23, 'MIB': 6.54, 'OBX': 1.22, 'PSI-20': 2.07, 'AEX': 7.83, 'BEL-20': 2.70}\n",
    "\n",
    "disabilities = {\n",
    "    'MIB': 3.77, 'CAC-40': 2.77, 'OBX': 1.60, 'PSI-20': 1.20\n",
    "}\n",
    "\n",
    "\n",
    "# Calculate environmental and social scores\n",
    "def calculate_scores(energy, carbon, diversity, pay_gap, disabilities):\n",
    "    # Calculate the environmental scores (lower values are better)\n",
    "    min_energy = min(energy.values())\n",
    "    min_carbon = min(carbon.values())\n",
    "    env_scores = {k: ((min_energy / v) * 50 + (min_carbon / carbon[k]) * 50) for k, v in energy.items()}\n",
    "    \n",
    "    # Calculate the social scores (higher values are better)\n",
    "    max_diversity = {category: max(values.values()) for category, values in diversity.items()}\n",
    "    max_pay_gap = max(pay_gap.values())\n",
    "    max_disabilities = max(disabilities.values())\n",
    "    \n",
    "    # Normalize gender diversity and pay gap scores between 0 and 100\n",
    "    social_scores = {}\n",
    "    for index in energy.keys():\n",
    "        diversity_scores = sum((value / max_diversity['Board Gender Diversity']) * 100 for category, value in diversity['Board Gender Diversity'].items() if category == index)\n",
    "        pay_gap_score = (pay_gap.get(index, 0) / max_pay_gap) * 100\n",
    "        disability_score = (disabilities.get(index, 0) / max_disabilities) * 100\n",
    "        \n",
    "        # Average the diversity and pay gap scores, then average with disability score\n",
    "        social_scores[index] = (diversity_scores + pay_gap_score + disability_score) / 3\n",
    "    \n",
    "    # Combine environmental and social scores for overall score\n",
    "    overall_scores = {k: (env_scores[k] + social_scores[k]) / 2 for k in env_scores}\n",
    "    \n",
    "    return env_scores, social_scores, overall_scores\n",
    "\n",
    "# Execute the score calculation\n",
    "env_scores, social_scores, overall_scores = calculate_scores(\n",
    "    energy_consumptions,\n",
    "    carbon_footprints,\n",
    "    gender_diversity,\n",
    "    gender_pay_gap,\n",
    "    disabilities\n",
    ")\n",
    "\n",
    "# Print results\n",
    "print(\"Environmental Scores:\")\n",
    "for company, score in env_scores.items():\n",
    "    print(f\"{company}: {score:.2f}\")\n",
    "\n",
    "print(\"\\nSocial Scores:\")\n",
    "for company, score in social_scores.items():\n",
    "    print(f\"{company}: {score:.2f}\")\n",
    "\n",
    "print(\"\\nOverall Scores:\")\n",
    "for company, score in overall_scores.items():\n",
    "    print(f\"{company}: {score:.2f}\")\n"
   ]
  },
  {
   "cell_type": "markdown",
   "metadata": {},
   "source": [
    "## Question 2 | Conclusion\n",
    "\n",
    "\n",
    "Based on the calculated environmental and social responsibility scores for each index:\n",
    "\n",
    "**Environmental responsibility:**\n",
    "- The **OBX** index has the highest environmental responsibility score of 100.00, indicating the best performance in terms of lower energy consumption and carbon footprint.\n",
    "- The **AEX** Index follows closely with a score of 30.24, while the other indices have scores ranging from 31.23 to 54.70.\n",
    "\n",
    "**Social responsibility:**\n",
    "- The **CAC-40** index has the highest social responsibility score of 91.16, indicating better gender diversity, lower gender pay gap and greater inclusion of employees with disabilities.\n",
    "- The **MIB** index follows with a score of 76.89, indicating relatively good social responsibility performance.\n",
    "- The other indices have social responsibility scores ranging from 38.37 to 46.43.\n",
    "\n",
    "**Overall conclusion:**\n",
    "- The **OBX** index excels in environmental responsibility, but lags behind other indices in social responsibility.\n",
    "- The **CAC-40** index excels in social responsibility, while maintaining a moderate level of environmental responsibility.\n",
    "- The **MIB** index shows a balanced performance in both environmental and social responsibility, positioning it as a strong contender overall.\n",
    "- The **AEX**, **BEL-20** and **PSI-20** indices show relatively moderate performance in terms of both environmental and social responsibility.\n",
    "\n",
    "Based on these results, stakeholders seeking investments with a strong environmental focus may prefer the **OBX** index, while those prioritising social responsibility may prefer the **CAC-40** index. However, for a more balanced approach, the MIB index could be considered an appropriate choice."
   ]
  },
  {
   "cell_type": "markdown",
   "metadata": {},
   "source": [
    "## Question 3 | How do the main European companies that have a great ESG rating behave compared to those that do not, measured through key financial ratios such as ROA, ROE, ROIC?  "
   ]
  },
  {
   "cell_type": "markdown",
   "metadata": {},
   "source": [
    "The datasets from the question have been used, after being modified and adapted"
   ]
  },
  {
   "cell_type": "code",
   "execution_count": null,
   "metadata": {},
   "outputs": [],
   "source": [
    "# Reset the index of result_df2 and update the 'ESG leader' column\n",
    "result_df.reset_index(drop=True, inplace=True)\n",
    "\n",
    "# Assign 'Yes' to the first 5 rows and 'No' to the rest in the 'ESG leader' column\n",
    "result_df['ESG leader'] = ['Yes' if i < 5 else 'No' for i in range(len(result_df))]\n",
    "\n",
    "# Add a new column 'Topic' with the value \"Carbon footprint\" to result_df2\n",
    "result_df['Topic'] = \"Carbon footprint\"\n",
    "\n",
    "# Select only the 'Name', 'ESG leader', and 'Topic' columns in result_df2\n",
    "result_df = result_df[[\"Name\", \"ESG leader\", \"Topic\"]]\n",
    "\n",
    "# Reset the index of result_df2 after the previous operations\n",
    "result_df.reset_index(drop=True, inplace=True)\n",
    "\n",
    "# Perform the 'Yes'/'No' assignment to the 'ESG leader' column again\n",
    "result_df['ESG leader'] = ['Yes' if i < 5 else 'No' for i in range(len(result_df))]\n",
    "\n",
    "# Merge df and result_df2 based on the 'Name' column\n",
    "merged_df = pd.merge(df, result_df, on='Name', how='inner')\n",
    "\n",
    "# Preserve only the 'Name', 'ESG leader', 'Topic', 'Roa', 'Roe', and 'Roic' columns in the merged DataFrame\n",
    "carbon_footprint_df = merged_df[[\"Name\", \"ESG leader\", \"Topic\", 'Roa', 'Roe', 'Roic']]\n",
    "\n",
    "carbon_footprint_df.head(4)"
   ]
  },
  {
   "cell_type": "code",
   "execution_count": null,
   "metadata": {},
   "outputs": [],
   "source": [
    "\n",
    "# Reset the index of result_df2 and update the 'ESG leader' column\n",
    "result_df2.reset_index(drop=True, inplace=True)\n",
    "\n",
    "# Assign 'Yes' to the first 5 rows and 'No' to the rest in the 'ESG leader' column\n",
    "result_df2['ESG leader'] = ['Yes' if i < 5 else 'No' for i in range(len(result_df2))]\n",
    "\n",
    "# Add a new column 'Topic' with the value \"Carbon footprint\" to result_df2\n",
    "result_df2['Topic'] = \"Energy consumption\"\n",
    "\n",
    "# Select only the 'Name', 'ESG leader', and 'Topic' columns in result_df2\n",
    "result_df2 = result_df2[[\"Name\", \"ESG leader\", \"Topic\"]]\n",
    "\n",
    "# Reset the index of result_df2 after the previous operations\n",
    "result_df2.reset_index(drop=True, inplace=True)\n",
    "\n",
    "# Perform the 'Yes'/'No' assignment to the 'ESG leader' column again\n",
    "result_df2['ESG leader'] = ['Yes' if i < 5 else 'No' for i in range(len(result_df2))]\n",
    "\n",
    "# Merge df and result_df2 based on the 'Name' column\n",
    "emissions = pd.merge(df, result_df2, on='Name', how='inner')\n",
    "\n",
    "# Preserve only the 'Name', 'ESG leader', 'Topic', 'Roa', 'Roe', and 'Roic' columns in the merged DataFrame\n",
    "energy_consumption_df = emissions[[\"Name\", \"ESG leader\", \"Topic\", 'Roa', 'Roe', 'Roic']]\n",
    "\n",
    "energy_consumption_df.head(4)"
   ]
  },
  {
   "cell_type": "code",
   "execution_count": null,
   "metadata": {},
   "outputs": [],
   "source": [
    "# Append of the data\n",
    "\n",
    "df_esg_metrics = energy_consumption_df.append(carbon_footprint_df, ignore_index=True)\n",
    "df_esg_metrics.shape # Now its 20 so it works"
   ]
  },
  {
   "cell_type": "markdown",
   "metadata": {},
   "source": [
    "First lets visualize this performance"
   ]
  },
  {
   "cell_type": "code",
   "execution_count": null,
   "metadata": {},
   "outputs": [],
   "source": [
    "# Size of the figure\n",
    "plt.figure(figsize=(15, 10))\n",
    "\n",
    "# Unique \"topics\" of the DataFrame\n",
    "unique_topics = df_esg_metrics['Topic'].unique()\n",
    "\n",
    "# Number of graphics, 3 per topic\n",
    "num_plots = 3\n",
    "\n",
    "# Iterate on each topic and create graphs for ROA, ROE and ROIC\n",
    "for i, topic in enumerate(unique_topics, 1):\n",
    "     \n",
    "     # Filter data by topic\n",
    "     topic_data = df_esg_metrics[df_esg_metrics['Topic'] == topic]\n",
    "\n",
    "     for j, measure in enumerate(['Roa', 'Roe', 'Roic'], start=1):\n",
    "         plt.subplot(2, num_plots, (i-1) * num_plots + j)\n",
    "         # Filter by ESG leader 'Yes' and 'No'\n",
    "         for esg_status, color in zip(['Yes', 'No'], ['green', 'red']):\n",
    "             subset = topic_data[topic_data['ESG leader'] == esg_status]\n",
    "             plt.scatter(subset['Name'], subset[measure], color=color, label=f'ESG {esg_status}')\n",
    "\n",
    "         plt.title(f'{measure} for {topic}')\n",
    "         plt.xticks(rotation=90)\n",
    "         plt.ylabel(f'{measure} (%)')\n",
    "         if j == 1: # Only add the legend to the first graph of each row\n",
    "             plt.legend()\n",
    "\n",
    "plt.tight_layout()\n",
    "plt.show()"
   ]
  },
  {
   "cell_type": "markdown",
   "metadata": {},
   "source": [
    "Based on the visual representation of the plots, here's an interpretation of the behavior of main European companies with great ESG (Environmental, Social, Governance) ratings compared to those without, through the financial ratios ROA (Return on Assets), ROE (Return on Equity), and ROIC (Return on Invested Capital):\n",
    "\n",
    "- **ROA (Return on Assets)**: This ratio indicates how efficiently a company's management is using its assets to generate earnings. The plots show a mixed behavior; for 'Energy consumption', companies with high ESG ratings (green dots) generally exhibit a variety of ROA values, both high and low. For 'Carbon footprint', the distribution is similar, but there seems to be less variance in the ROA values for ESG leaders.\n",
    "\n",
    "- **ROE (Return on Equity)**: This measure reflects the ability of a company to generate profits from its shareholders' equity. In the 'Energy consumption' topic, companies with high ESG ratings do not necessarily have the highest ROE; there is a mix, with some high-ESG companies showing higher ROE and some showing lower. The 'Carbon footprint' topic also shows a mixed pattern, with no clear distinction between ESG leaders and non-leaders.\n",
    "\n",
    "- **ROIC (Return on Invested Capital)**: This ratio measures how well a company is using its capital to generate returns. In both topics, companies with high ESG ratings (green dots) are spread across the range of ROIC values. There isn't a consistent trend that shows ESG leaders always have a higher or lower ROIC compared to their non-ESG counterparts.\n",
    "\n",
    "**Overall Interpretation**:\n",
    "In general, we can not see a consistent pattern that shows companies with high ESG ratings consistently outperform those without in terms of ROA, ROE, and ROIC. The performance varies across companies and does not show a clear correlation with ESG ratings in this particular set of data. This suggests that while ESG factors are important for a company's long-term sustainability and risk management, they don't always directly translate to superior financial performance in terms of these ratios, at least not in a uniform way across different companies and industries.\n",
    "\n",
    "Thats why we decide to perform an anova test:"
   ]
  },
  {
   "cell_type": "code",
   "execution_count": null,
   "metadata": {},
   "outputs": [],
   "source": [
    "# Delete rows with NaN values in ROE ROA ROIC\n",
    "df_esg_metrics_clean_na = df_esg_metrics.dropna(subset=['Roa', 'Roe', 'Roic'])\n",
    "\n",
    "# Prepare ANOVA results\n",
    "anova_results = {}\n",
    "\n",
    "# Perform ANOVA for each of the financial ratios\n",
    "for ratio in ['Roa', 'Roe', 'Roic']:\n",
    "     # Separate the data into two groups: one for ESG 'Yes' and another for ESG 'No'\n",
    "     group_yes = df_esg_metrics_clean_na[df_esg_metrics_clean_na['ESG leader'] == 'Yes'][ratio]\n",
    "     group_no = df_esg_metrics_clean_na[df_esg_metrics_clean_na['ESG leader'] == 'No'][ratio]\n",
    "    \n",
    "     # Perform the ANOVA\n",
    "     f_value, p_value = stats.f_oneway(group_yes, group_no)\n",
    "    \n",
    "     # Store the results\n",
    "     anova_results[ratio] = {'F-Value': f_value, 'P-Value': p_value}\n",
    "\n",
    "anova_df = pd.DataFrame(anova_results).T\n",
    "anova_df['Significance'] = anova_df['P-Value'].apply(lambda p: \"Yes\" if p < 0.05 else \"No\")\n",
    "anova_df"
   ]
  },
  {
   "cell_type": "markdown",
   "metadata": {},
   "source": [
    "For the different metrics:\n",
    "\n",
    "- **ROA (Return on Assets)**: With a P-Value of 0.431, there's no statistical evidence to suggest a difference in asset efficiency between the two groups. Both high and low ESG-rated companies appear to convert their assets into earnings at a similar rate.\n",
    "\n",
    "- **ROE (Return on Equity)**: The P-Value here is 0.184, which also indicates that there is no significant statistical difference in how effectively each group of companies generates profit from shareholders' equity. It implies that a higher ESG rating does not necessarily correlate with a higher return on equity.\n",
    "\n",
    "- **ROIC (Return on Invested Capital)**: The P-Value of 0.276 suggests that there's no significant difference in the return on invested capital between companies with high and low ESG ratings. This ratio measures how well a company is using its capital to generate returns, and the results imply that ESG factors do not have a statistically significant impact on this measure."
   ]
  },
  {
   "cell_type": "markdown",
   "metadata": {},
   "source": [
    "## Question 3 | Conclusion"
   ]
  },
  {
   "cell_type": "markdown",
   "metadata": {},
   "source": [
    "In summary, based on this dataset and the ANOVA tests performed, there is no statistical evidence to support the idea that European companies with high ESG ratings perform differently in terms of ROA, ROE, and ROIC when compared to those with lower ESG ratings. It indicates that, at least in terms of these financial ratios, ESG leadership status does not lead to different financial performance outcomes. \n",
    "\n",
    "This could imply that other factors may be influencing the financial performance of these companies, or that the benefits of high ESG ratings are not captured solely by these financial ratios."
   ]
  },
  {
   "cell_type": "code",
   "execution_count": null,
   "metadata": {},
   "outputs": [],
   "source": [
    "# meter todo lo de maria db"
   ]
  }
 ],
 "metadata": {
  "kernelspec": {
   "display_name": "Python 3",
   "language": "python",
   "name": "python3"
  },
  "language_info": {
   "codemirror_mode": {
    "name": "ipython",
    "version": 3
   },
   "file_extension": ".py",
   "mimetype": "text/x-python",
   "name": "python",
   "nbconvert_exporter": "python",
   "pygments_lexer": "ipython3",
   "version": "3.10.8"
  }
 },
 "nbformat": 4,
 "nbformat_minor": 2
}
