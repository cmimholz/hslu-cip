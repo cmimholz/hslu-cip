{
 "cells": [
  {
   "cell_type": "code",
   "id": "initial_id",
   "metadata": {
    "collapsed": true,
    "ExecuteTime": {
     "end_time": "2024-04-20T21:54:08.401294500Z",
     "start_time": "2024-04-20T21:54:08.376135300Z"
    }
   },
   "source": [
    "import pandas as pd\n",
    "import numpy as np\n",
    "import logging\n",
    "\n",
    "# Load the data file<\n",
    "file_path = 'C:/Users/chris/switchdrive/SyncVM/CIP/hslu-cip/data/raw_data_stage1/Imholz_Chris_studentA_stage1.csv'\n",
    "#file_path = '/home/student/Cloud/Owncloud/SyncVM/CIP/hslu-cip/data/raw_data_stage1/Imholz_Chris_studentA_stage1.csv'\n",
    "data = pd.read_csv(file_path, delimiter=';')\n",
    "\n",
    "\n",
    "# Display the first few rows of the dataframe and the general information\n",
    "data.head()\n",
    "data.info()"
   ],
   "outputs": [
    {
     "name": "stdout",
     "output_type": "stream",
     "text": [
      "<class 'pandas.core.frame.DataFrame'>\n",
      "RangeIndex: 192 entries, 0 to 191\n",
      "Data columns (total 29 columns):\n",
      " #   Column                                                               Non-Null Count  Dtype  \n",
      "---  ------                                                               --------------  -----  \n",
      " 0   Name                                                                 187 non-null    object \n",
      " 1   Currency                                                             187 non-null    object \n",
      " 2   Market Cap                                                           187 non-null    object \n",
      " 3   CDP                                                                  19 non-null     object \n",
      " 4   FTSE4Good                                                            4 non-null      object \n",
      " 5   MSCI ESG Ratings                                                     4 non-null      object \n",
      " 6   Moody's ESG Solution                                                 2 non-null      object \n",
      " 7   Sustainalytics                                                       27 non-null     object \n",
      " 8   Carbon footprint (total GHG emissions / enterprise value)            119 non-null    object \n",
      " 9   Share of women in total workforce                                    157 non-null    object \n",
      " 10  Rate of resignation                                                  57 non-null     object \n",
      " 11  Type                                                                 187 non-null    object \n",
      " 12  Sub type                                                             187 non-null    object \n",
      " 13  Market                                                               187 non-null    object \n",
      " 14  ISIN Code                                                            187 non-null    object \n",
      " 15  Industry                                                             187 non-null    object \n",
      " 16  SuperSector                                                          187 non-null    object \n",
      " 17  Sector                                                               187 non-null    object \n",
      " 18  Subsector                                                            187 non-null    object \n",
      " 19  Share of women in management bodies                                  135 non-null    object \n",
      " 20  Gender pay gap                                                       59 non-null     object \n",
      " 21  Professional equality index                                          28 non-null     object \n",
      " 22  Rate of employees with disabilities                                  60 non-null     object \n",
      " 23  Average training hours per employee                                  121 non-null    object \n",
      " 24  Board gender diversity (female board members / total board members)  168 non-null    object \n",
      " 25  Number of female board members                                       168 non-null    object \n",
      " 26  Number of board members                                              168 non-null    object \n",
      " 27  Total energy consumption                                             140 non-null    object \n",
      " 28   Ratio of non-recycled waste                                         0 non-null      float64\n",
      "dtypes: float64(1), object(28)\n",
      "memory usage: 43.6+ KB\n"
     ]
    }
   ],
   "execution_count": 50
  },
  {
   "cell_type": "code",
   "source": [
    "data"
   ],
   "metadata": {
    "collapsed": false,
    "ExecuteTime": {
     "end_time": "2024-04-20T21:54:08.456528200Z",
     "start_time": "2024-04-20T21:54:08.405299600Z"
    }
   },
   "id": "3e28377be0663fc6",
   "outputs": [
    {
     "data": {
      "text/plain": "                 Name Currency Market Cap  CDP FTSE4Good MSCI ESG Ratings  \\\n0               ACCOR      EUR     9.656B  NaN       NaN              NaN   \n1         AIR LIQUIDE      EUR    98.258B  NaN       NaN              NaN   \n2           AIRBUS SE      EUR   127.257B  NaN       NaN              NaN   \n3    ARCELORMITTAL SA      EUR    20.331B  NaN       NaN              NaN   \n4                 AXA      EUR    77.141B  NaN       NaN              NaN   \n..                ...      ...        ...  ...       ...              ...   \n187    TELECOM ITALIA      EUR     3.357B  NaN       NaN              NaN   \n188               NaN      NaN        NaN  NaN       NaN              NaN   \n189             TERNA      EUR    14.605B  NaN       NaN              NaN   \n190               NaN      NaN        NaN  NaN       NaN              NaN   \n191            UNIPOL      EUR     5.833B  NaN       NaN              NaN   \n\n    Moody's ESG Solution Sustainalytics  \\\n0                    NaN            NaN   \n1                    NaN            NaN   \n2                    NaN            NaN   \n3                    NaN            NaN   \n4                    NaN            NaN   \n..                   ...            ...   \n187                  NaN            NaN   \n188                  NaN            NaN   \n189                  NaN            NaN   \n190                  NaN            NaN   \n191                  NaN            NaN   \n\n    Carbon footprint (total GHG emissions / enterprise value)  \\\n0                           535.17 Ton / Million (EUR)          \n1                                                  NaN          \n2                                                  NaN          \n3                        3,373.201 Ton / Million (USD)          \n4                             2.54 Ton / Million (EUR)          \n..                                                 ...          \n187                         124.89 Ton / Million (EUR)          \n188                                                NaN          \n189                       132.1212 Ton / Million (EUR)          \n190                                                NaN          \n191                       476.3635 Ton / Million (EUR)          \n\n    Share of women in total workforce  ...  \\\n0                                   %  ...   \n1                                 28%  ...   \n2                                 20%  ...   \n3                                 NaN  ...   \n4                                 NaN  ...   \n..                                ...  ...   \n187                               38%  ...   \n188                               NaN  ...   \n189                            16.08%  ...   \n190                               NaN  ...   \n191                            54.30%  ...   \n\n    Share of women in management bodies Gender pay gap  \\\n0                                     %              %   \n1                                   30%            NaN   \n2                                   NaN            NaN   \n3                                15.70%            NaN   \n4                                35.30%            NaN   \n..                                  ...            ...   \n187                                 28%            NaN   \n188                                 NaN            NaN   \n189                              23.70%            19%   \n190                                 NaN            NaN   \n191                              16.23%             9%   \n\n    Professional equality index Rate of employees with disabilities  \\\n0                          unit                                   %   \n1                       87 unit                               4.50%   \n2                           NaN                                 NaN   \n3                           NaN                                 NaN   \n4                           NaN                               0.70%   \n..                          ...                                 ...   \n187                         NaN                                  3%   \n188                         NaN                                 NaN   \n189                         NaN                                 NaN   \n190                         NaN                                 NaN   \n191                         NaN                                   %   \n\n    Average training hours per employee  \\\n0                                  unit   \n1                               20 unit   \n2                               15 unit   \n3                                   NaN   \n4                                   NaN   \n..                                  ...   \n187                          53.75 unit   \n188                                 NaN   \n189                             36 unit   \n190                                 NaN   \n191                          15.72 unit   \n\n    Board gender diversity (female board members / total board members)  \\\n0                                               61.50%                    \n1                                               35.70%                    \n2                                               33.33%                    \n3                                                  30%                    \n4                                               56.30%                    \n..                                                 ...                    \n187                                                40%                    \n188                                                NaN                    \n189                                             46.15%                    \n190                                                NaN                    \n191                                                40%                    \n\n    Number of female board members Number of board members  \\\n0                           8 unit                 13 unit   \n1                           5 unit                 14 unit   \n2                           4 unit                 12 unit   \n3                           3 unit                 10 unit   \n4                           9 unit                 16 unit   \n..                             ...                     ...   \n187                         6 unit                 15 unit   \n188                            NaN                     NaN   \n189                         6 unit                 13 unit   \n190                            NaN                     NaN   \n191                         6 unit                 15 unit   \n\n    Total energy consumption  Ratio of non-recycled waste  \n0                 13,712 GWh                          NaN  \n1                        GWh                          NaN  \n2                  3,717 GWh                          NaN  \n3    1,392,000,000 gigajoule                          NaN  \n4                223,638 MWh                          NaN  \n..                       ...                          ...  \n187                2,671 GWh                          NaN  \n188                      NaN                          NaN  \n189      928,277.4 gigajoule                          NaN  \n190                      NaN                          NaN  \n191        530,790 gigajoule                          NaN  \n\n[192 rows x 29 columns]",
      "text/html": "<div>\n<style scoped>\n    .dataframe tbody tr th:only-of-type {\n        vertical-align: middle;\n    }\n\n    .dataframe tbody tr th {\n        vertical-align: top;\n    }\n\n    .dataframe thead th {\n        text-align: right;\n    }\n</style>\n<table border=\"1\" class=\"dataframe\">\n  <thead>\n    <tr style=\"text-align: right;\">\n      <th></th>\n      <th>Name</th>\n      <th>Currency</th>\n      <th>Market Cap</th>\n      <th>CDP</th>\n      <th>FTSE4Good</th>\n      <th>MSCI ESG Ratings</th>\n      <th>Moody's ESG Solution</th>\n      <th>Sustainalytics</th>\n      <th>Carbon footprint (total GHG emissions / enterprise value)</th>\n      <th>Share of women in total workforce</th>\n      <th>...</th>\n      <th>Share of women in management bodies</th>\n      <th>Gender pay gap</th>\n      <th>Professional equality index</th>\n      <th>Rate of employees with disabilities</th>\n      <th>Average training hours per employee</th>\n      <th>Board gender diversity (female board members / total board members)</th>\n      <th>Number of female board members</th>\n      <th>Number of board members</th>\n      <th>Total energy consumption</th>\n      <th>Ratio of non-recycled waste</th>\n    </tr>\n  </thead>\n  <tbody>\n    <tr>\n      <th>0</th>\n      <td>ACCOR</td>\n      <td>EUR</td>\n      <td>9.656B</td>\n      <td>NaN</td>\n      <td>NaN</td>\n      <td>NaN</td>\n      <td>NaN</td>\n      <td>NaN</td>\n      <td>535.17 Ton / Million (EUR)</td>\n      <td>%</td>\n      <td>...</td>\n      <td>%</td>\n      <td>%</td>\n      <td>unit</td>\n      <td>%</td>\n      <td>unit</td>\n      <td>61.50%</td>\n      <td>8 unit</td>\n      <td>13 unit</td>\n      <td>13,712 GWh</td>\n      <td>NaN</td>\n    </tr>\n    <tr>\n      <th>1</th>\n      <td>AIR LIQUIDE</td>\n      <td>EUR</td>\n      <td>98.258B</td>\n      <td>NaN</td>\n      <td>NaN</td>\n      <td>NaN</td>\n      <td>NaN</td>\n      <td>NaN</td>\n      <td>NaN</td>\n      <td>28%</td>\n      <td>...</td>\n      <td>30%</td>\n      <td>NaN</td>\n      <td>87 unit</td>\n      <td>4.50%</td>\n      <td>20 unit</td>\n      <td>35.70%</td>\n      <td>5 unit</td>\n      <td>14 unit</td>\n      <td>GWh</td>\n      <td>NaN</td>\n    </tr>\n    <tr>\n      <th>2</th>\n      <td>AIRBUS SE</td>\n      <td>EUR</td>\n      <td>127.257B</td>\n      <td>NaN</td>\n      <td>NaN</td>\n      <td>NaN</td>\n      <td>NaN</td>\n      <td>NaN</td>\n      <td>NaN</td>\n      <td>20%</td>\n      <td>...</td>\n      <td>NaN</td>\n      <td>NaN</td>\n      <td>NaN</td>\n      <td>NaN</td>\n      <td>15 unit</td>\n      <td>33.33%</td>\n      <td>4 unit</td>\n      <td>12 unit</td>\n      <td>3,717 GWh</td>\n      <td>NaN</td>\n    </tr>\n    <tr>\n      <th>3</th>\n      <td>ARCELORMITTAL SA</td>\n      <td>EUR</td>\n      <td>20.331B</td>\n      <td>NaN</td>\n      <td>NaN</td>\n      <td>NaN</td>\n      <td>NaN</td>\n      <td>NaN</td>\n      <td>3,373.201 Ton / Million (USD)</td>\n      <td>NaN</td>\n      <td>...</td>\n      <td>15.70%</td>\n      <td>NaN</td>\n      <td>NaN</td>\n      <td>NaN</td>\n      <td>NaN</td>\n      <td>30%</td>\n      <td>3 unit</td>\n      <td>10 unit</td>\n      <td>1,392,000,000 gigajoule</td>\n      <td>NaN</td>\n    </tr>\n    <tr>\n      <th>4</th>\n      <td>AXA</td>\n      <td>EUR</td>\n      <td>77.141B</td>\n      <td>NaN</td>\n      <td>NaN</td>\n      <td>NaN</td>\n      <td>NaN</td>\n      <td>NaN</td>\n      <td>2.54 Ton / Million (EUR)</td>\n      <td>NaN</td>\n      <td>...</td>\n      <td>35.30%</td>\n      <td>NaN</td>\n      <td>NaN</td>\n      <td>0.70%</td>\n      <td>NaN</td>\n      <td>56.30%</td>\n      <td>9 unit</td>\n      <td>16 unit</td>\n      <td>223,638 MWh</td>\n      <td>NaN</td>\n    </tr>\n    <tr>\n      <th>...</th>\n      <td>...</td>\n      <td>...</td>\n      <td>...</td>\n      <td>...</td>\n      <td>...</td>\n      <td>...</td>\n      <td>...</td>\n      <td>...</td>\n      <td>...</td>\n      <td>...</td>\n      <td>...</td>\n      <td>...</td>\n      <td>...</td>\n      <td>...</td>\n      <td>...</td>\n      <td>...</td>\n      <td>...</td>\n      <td>...</td>\n      <td>...</td>\n      <td>...</td>\n      <td>...</td>\n    </tr>\n    <tr>\n      <th>187</th>\n      <td>TELECOM ITALIA</td>\n      <td>EUR</td>\n      <td>3.357B</td>\n      <td>NaN</td>\n      <td>NaN</td>\n      <td>NaN</td>\n      <td>NaN</td>\n      <td>NaN</td>\n      <td>124.89 Ton / Million (EUR)</td>\n      <td>38%</td>\n      <td>...</td>\n      <td>28%</td>\n      <td>NaN</td>\n      <td>NaN</td>\n      <td>3%</td>\n      <td>53.75 unit</td>\n      <td>40%</td>\n      <td>6 unit</td>\n      <td>15 unit</td>\n      <td>2,671 GWh</td>\n      <td>NaN</td>\n    </tr>\n    <tr>\n      <th>188</th>\n      <td>NaN</td>\n      <td>NaN</td>\n      <td>NaN</td>\n      <td>NaN</td>\n      <td>NaN</td>\n      <td>NaN</td>\n      <td>NaN</td>\n      <td>NaN</td>\n      <td>NaN</td>\n      <td>NaN</td>\n      <td>...</td>\n      <td>NaN</td>\n      <td>NaN</td>\n      <td>NaN</td>\n      <td>NaN</td>\n      <td>NaN</td>\n      <td>NaN</td>\n      <td>NaN</td>\n      <td>NaN</td>\n      <td>NaN</td>\n      <td>NaN</td>\n    </tr>\n    <tr>\n      <th>189</th>\n      <td>TERNA</td>\n      <td>EUR</td>\n      <td>14.605B</td>\n      <td>NaN</td>\n      <td>NaN</td>\n      <td>NaN</td>\n      <td>NaN</td>\n      <td>NaN</td>\n      <td>132.1212 Ton / Million (EUR)</td>\n      <td>16.08%</td>\n      <td>...</td>\n      <td>23.70%</td>\n      <td>19%</td>\n      <td>NaN</td>\n      <td>NaN</td>\n      <td>36 unit</td>\n      <td>46.15%</td>\n      <td>6 unit</td>\n      <td>13 unit</td>\n      <td>928,277.4 gigajoule</td>\n      <td>NaN</td>\n    </tr>\n    <tr>\n      <th>190</th>\n      <td>NaN</td>\n      <td>NaN</td>\n      <td>NaN</td>\n      <td>NaN</td>\n      <td>NaN</td>\n      <td>NaN</td>\n      <td>NaN</td>\n      <td>NaN</td>\n      <td>NaN</td>\n      <td>NaN</td>\n      <td>...</td>\n      <td>NaN</td>\n      <td>NaN</td>\n      <td>NaN</td>\n      <td>NaN</td>\n      <td>NaN</td>\n      <td>NaN</td>\n      <td>NaN</td>\n      <td>NaN</td>\n      <td>NaN</td>\n      <td>NaN</td>\n    </tr>\n    <tr>\n      <th>191</th>\n      <td>UNIPOL</td>\n      <td>EUR</td>\n      <td>5.833B</td>\n      <td>NaN</td>\n      <td>NaN</td>\n      <td>NaN</td>\n      <td>NaN</td>\n      <td>NaN</td>\n      <td>476.3635 Ton / Million (EUR)</td>\n      <td>54.30%</td>\n      <td>...</td>\n      <td>16.23%</td>\n      <td>9%</td>\n      <td>NaN</td>\n      <td>%</td>\n      <td>15.72 unit</td>\n      <td>40%</td>\n      <td>6 unit</td>\n      <td>15 unit</td>\n      <td>530,790 gigajoule</td>\n      <td>NaN</td>\n    </tr>\n  </tbody>\n</table>\n<p>192 rows × 29 columns</p>\n</div>"
     },
     "execution_count": 51,
     "metadata": {},
     "output_type": "execute_result"
    }
   ],
   "execution_count": 51
  },
  {
   "cell_type": "code",
   "source": [
    "# Check for columns that are completely empty and drop them\n",
    "data_not_empty_columns = data.dropna(how='all', axis=1)\n",
    "\n",
    "# Show the columns removed (if any)\n",
    "data_not_empty_columns.columns.difference(data.columns)\n",
    "data=data_not_empty_columns\n",
    "\n",
    "# Updated DataFrame info\n",
    "data.info()\n"
   ],
   "metadata": {
    "collapsed": false,
    "ExecuteTime": {
     "end_time": "2024-04-20T21:54:08.521383600Z",
     "start_time": "2024-04-20T21:54:08.458529800Z"
    }
   },
   "id": "bcda02f3606f84fb",
   "outputs": [
    {
     "name": "stdout",
     "output_type": "stream",
     "text": [
      "<class 'pandas.core.frame.DataFrame'>\n",
      "RangeIndex: 192 entries, 0 to 191\n",
      "Data columns (total 28 columns):\n",
      " #   Column                                                               Non-Null Count  Dtype \n",
      "---  ------                                                               --------------  ----- \n",
      " 0   Name                                                                 187 non-null    object\n",
      " 1   Currency                                                             187 non-null    object\n",
      " 2   Market Cap                                                           187 non-null    object\n",
      " 3   CDP                                                                  19 non-null     object\n",
      " 4   FTSE4Good                                                            4 non-null      object\n",
      " 5   MSCI ESG Ratings                                                     4 non-null      object\n",
      " 6   Moody's ESG Solution                                                 2 non-null      object\n",
      " 7   Sustainalytics                                                       27 non-null     object\n",
      " 8   Carbon footprint (total GHG emissions / enterprise value)            119 non-null    object\n",
      " 9   Share of women in total workforce                                    157 non-null    object\n",
      " 10  Rate of resignation                                                  57 non-null     object\n",
      " 11  Type                                                                 187 non-null    object\n",
      " 12  Sub type                                                             187 non-null    object\n",
      " 13  Market                                                               187 non-null    object\n",
      " 14  ISIN Code                                                            187 non-null    object\n",
      " 15  Industry                                                             187 non-null    object\n",
      " 16  SuperSector                                                          187 non-null    object\n",
      " 17  Sector                                                               187 non-null    object\n",
      " 18  Subsector                                                            187 non-null    object\n",
      " 19  Share of women in management bodies                                  135 non-null    object\n",
      " 20  Gender pay gap                                                       59 non-null     object\n",
      " 21  Professional equality index                                          28 non-null     object\n",
      " 22  Rate of employees with disabilities                                  60 non-null     object\n",
      " 23  Average training hours per employee                                  121 non-null    object\n",
      " 24  Board gender diversity (female board members / total board members)  168 non-null    object\n",
      " 25  Number of female board members                                       168 non-null    object\n",
      " 26  Number of board members                                              168 non-null    object\n",
      " 27  Total energy consumption                                             140 non-null    object\n",
      "dtypes: object(28)\n",
      "memory usage: 42.1+ KB\n"
     ]
    }
   ],
   "execution_count": 52
  },
  {
   "cell_type": "code",
   "source": [
    "# Count rows where all elements are NaN\n",
    "empty_rows_count = data.isna().all(axis=1).sum()\n",
    "print(\"Number of completely empty rows:\", empty_rows_count)\n",
    "\n",
    "# Check for rows that are completely empty and drop them\n",
    "data = data.dropna(how='all', axis=0)\n",
    "data\n"
   ],
   "metadata": {
    "collapsed": false,
    "ExecuteTime": {
     "end_time": "2024-04-20T21:54:08.678760400Z",
     "start_time": "2024-04-20T21:54:08.501080100Z"
    }
   },
   "id": "2d2d34e4bbe41738",
   "outputs": [
    {
     "name": "stdout",
     "output_type": "stream",
     "text": [
      "Number of completely empty rows: 5\n"
     ]
    },
    {
     "data": {
      "text/plain": "                   Name Currency Market Cap  CDP FTSE4Good MSCI ESG Ratings  \\\n0                 ACCOR      EUR     9.656B  NaN       NaN              NaN   \n1           AIR LIQUIDE      EUR    98.258B  NaN       NaN              NaN   \n2             AIRBUS SE      EUR   127.257B  NaN       NaN              NaN   \n3      ARCELORMITTAL SA      EUR    20.331B  NaN       NaN              NaN   \n4                   AXA      EUR    77.141B  NaN       NaN              NaN   \n..                  ...      ...        ...  ...       ...              ...   \n185          STELLANTIS      EUR    77.072B  NaN       NaN              NaN   \n186  STMICROELECTRONICS      EUR    34.237B  NaN       NaN              NaN   \n187      TELECOM ITALIA      EUR     3.357B  NaN       NaN              NaN   \n189               TERNA      EUR    14.605B  NaN       NaN              NaN   \n191              UNIPOL      EUR     5.833B  NaN       NaN              NaN   \n\n    Moody's ESG Solution Sustainalytics  \\\n0                    NaN            NaN   \n1                    NaN            NaN   \n2                    NaN            NaN   \n3                    NaN            NaN   \n4                    NaN            NaN   \n..                   ...            ...   \n185                  NaN            NaN   \n186                  NaN            NaN   \n187                  NaN            NaN   \n189                  NaN            NaN   \n191                  NaN            NaN   \n\n    Carbon footprint (total GHG emissions / enterprise value)  \\\n0                           535.17 Ton / Million (EUR)          \n1                                                  NaN          \n2                                                  NaN          \n3                        3,373.201 Ton / Million (USD)          \n4                             2.54 Ton / Million (EUR)          \n..                                                 ...          \n185                     6,409.5742 Ton / Million (EUR)          \n186                        27.9849 Ton / Million (USD)          \n187                         124.89 Ton / Million (EUR)          \n189                       132.1212 Ton / Million (EUR)          \n191                       476.3635 Ton / Million (EUR)          \n\n    Share of women in total workforce  ...  \\\n0                                   %  ...   \n1                                 28%  ...   \n2                                 20%  ...   \n3                                 NaN  ...   \n4                                 NaN  ...   \n..                                ...  ...   \n185                                 %  ...   \n186                                 %  ...   \n187                               38%  ...   \n189                            16.08%  ...   \n191                            54.30%  ...   \n\n                                 Subsector  \\\n0              40501025, Hotels and Motels   \n1            55201020, Specialty Chemicals   \n2                      50201010, Aerospace   \n3                 55102010, Iron and Steel   \n4            30302010, Full Line Insurance   \n..                                     ...   \n185                  40101020, Automobiles   \n186               10102010, Semiconductors   \n187  15102015, Telecommunications Services   \n189     65101015, Conventional Electricity   \n191          30302010, Full Line Insurance   \n\n    Share of women in management bodies Gender pay gap  \\\n0                                     %              %   \n1                                   30%            NaN   \n2                                   NaN            NaN   \n3                                15.70%            NaN   \n4                                35.30%            NaN   \n..                                  ...            ...   \n185                                   %            NaN   \n186                                   %              %   \n187                                 28%            NaN   \n189                              23.70%            19%   \n191                              16.23%             9%   \n\n    Professional equality index Rate of employees with disabilities  \\\n0                          unit                                   %   \n1                       87 unit                               4.50%   \n2                           NaN                                 NaN   \n3                           NaN                                 NaN   \n4                           NaN                               0.70%   \n..                          ...                                 ...   \n185                         NaN                                 NaN   \n186                        unit                                   %   \n187                         NaN                                  3%   \n189                         NaN                                 NaN   \n191                         NaN                                   %   \n\n    Average training hours per employee  \\\n0                                  unit   \n1                               20 unit   \n2                               15 unit   \n3                                   NaN   \n4                                   NaN   \n..                                  ...   \n185                                unit   \n186                                unit   \n187                          53.75 unit   \n189                             36 unit   \n191                          15.72 unit   \n\n    Board gender diversity (female board members / total board members)  \\\n0                                               61.50%                    \n1                                               35.70%                    \n2                                               33.33%                    \n3                                                  30%                    \n4                                               56.30%                    \n..                                                 ...                    \n185                                             27.27%                    \n186                                             44.44%                    \n187                                                40%                    \n189                                             46.15%                    \n191                                                40%                    \n\n    Number of female board members Number of board members  \\\n0                           8 unit                 13 unit   \n1                           5 unit                 14 unit   \n2                           4 unit                 12 unit   \n3                           3 unit                 10 unit   \n4                           9 unit                 16 unit   \n..                             ...                     ...   \n185                         3 unit                 11 unit   \n186                         4 unit                  9 unit   \n187                         6 unit                 15 unit   \n189                         6 unit                 13 unit   \n191                         6 unit                 15 unit   \n\n    Total energy consumption  \n0                 13,712 GWh  \n1                        GWh  \n2                  3,717 GWh  \n3    1,392,000,000 gigajoule  \n4                223,638 MWh  \n..                       ...  \n185           15,494,891 MWh  \n186      10,363.96 terajoule  \n187                2,671 GWh  \n189      928,277.4 gigajoule  \n191        530,790 gigajoule  \n\n[187 rows x 28 columns]",
      "text/html": "<div>\n<style scoped>\n    .dataframe tbody tr th:only-of-type {\n        vertical-align: middle;\n    }\n\n    .dataframe tbody tr th {\n        vertical-align: top;\n    }\n\n    .dataframe thead th {\n        text-align: right;\n    }\n</style>\n<table border=\"1\" class=\"dataframe\">\n  <thead>\n    <tr style=\"text-align: right;\">\n      <th></th>\n      <th>Name</th>\n      <th>Currency</th>\n      <th>Market Cap</th>\n      <th>CDP</th>\n      <th>FTSE4Good</th>\n      <th>MSCI ESG Ratings</th>\n      <th>Moody's ESG Solution</th>\n      <th>Sustainalytics</th>\n      <th>Carbon footprint (total GHG emissions / enterprise value)</th>\n      <th>Share of women in total workforce</th>\n      <th>...</th>\n      <th>Subsector</th>\n      <th>Share of women in management bodies</th>\n      <th>Gender pay gap</th>\n      <th>Professional equality index</th>\n      <th>Rate of employees with disabilities</th>\n      <th>Average training hours per employee</th>\n      <th>Board gender diversity (female board members / total board members)</th>\n      <th>Number of female board members</th>\n      <th>Number of board members</th>\n      <th>Total energy consumption</th>\n    </tr>\n  </thead>\n  <tbody>\n    <tr>\n      <th>0</th>\n      <td>ACCOR</td>\n      <td>EUR</td>\n      <td>9.656B</td>\n      <td>NaN</td>\n      <td>NaN</td>\n      <td>NaN</td>\n      <td>NaN</td>\n      <td>NaN</td>\n      <td>535.17 Ton / Million (EUR)</td>\n      <td>%</td>\n      <td>...</td>\n      <td>40501025, Hotels and Motels</td>\n      <td>%</td>\n      <td>%</td>\n      <td>unit</td>\n      <td>%</td>\n      <td>unit</td>\n      <td>61.50%</td>\n      <td>8 unit</td>\n      <td>13 unit</td>\n      <td>13,712 GWh</td>\n    </tr>\n    <tr>\n      <th>1</th>\n      <td>AIR LIQUIDE</td>\n      <td>EUR</td>\n      <td>98.258B</td>\n      <td>NaN</td>\n      <td>NaN</td>\n      <td>NaN</td>\n      <td>NaN</td>\n      <td>NaN</td>\n      <td>NaN</td>\n      <td>28%</td>\n      <td>...</td>\n      <td>55201020, Specialty Chemicals</td>\n      <td>30%</td>\n      <td>NaN</td>\n      <td>87 unit</td>\n      <td>4.50%</td>\n      <td>20 unit</td>\n      <td>35.70%</td>\n      <td>5 unit</td>\n      <td>14 unit</td>\n      <td>GWh</td>\n    </tr>\n    <tr>\n      <th>2</th>\n      <td>AIRBUS SE</td>\n      <td>EUR</td>\n      <td>127.257B</td>\n      <td>NaN</td>\n      <td>NaN</td>\n      <td>NaN</td>\n      <td>NaN</td>\n      <td>NaN</td>\n      <td>NaN</td>\n      <td>20%</td>\n      <td>...</td>\n      <td>50201010, Aerospace</td>\n      <td>NaN</td>\n      <td>NaN</td>\n      <td>NaN</td>\n      <td>NaN</td>\n      <td>15 unit</td>\n      <td>33.33%</td>\n      <td>4 unit</td>\n      <td>12 unit</td>\n      <td>3,717 GWh</td>\n    </tr>\n    <tr>\n      <th>3</th>\n      <td>ARCELORMITTAL SA</td>\n      <td>EUR</td>\n      <td>20.331B</td>\n      <td>NaN</td>\n      <td>NaN</td>\n      <td>NaN</td>\n      <td>NaN</td>\n      <td>NaN</td>\n      <td>3,373.201 Ton / Million (USD)</td>\n      <td>NaN</td>\n      <td>...</td>\n      <td>55102010, Iron and Steel</td>\n      <td>15.70%</td>\n      <td>NaN</td>\n      <td>NaN</td>\n      <td>NaN</td>\n      <td>NaN</td>\n      <td>30%</td>\n      <td>3 unit</td>\n      <td>10 unit</td>\n      <td>1,392,000,000 gigajoule</td>\n    </tr>\n    <tr>\n      <th>4</th>\n      <td>AXA</td>\n      <td>EUR</td>\n      <td>77.141B</td>\n      <td>NaN</td>\n      <td>NaN</td>\n      <td>NaN</td>\n      <td>NaN</td>\n      <td>NaN</td>\n      <td>2.54 Ton / Million (EUR)</td>\n      <td>NaN</td>\n      <td>...</td>\n      <td>30302010, Full Line Insurance</td>\n      <td>35.30%</td>\n      <td>NaN</td>\n      <td>NaN</td>\n      <td>0.70%</td>\n      <td>NaN</td>\n      <td>56.30%</td>\n      <td>9 unit</td>\n      <td>16 unit</td>\n      <td>223,638 MWh</td>\n    </tr>\n    <tr>\n      <th>...</th>\n      <td>...</td>\n      <td>...</td>\n      <td>...</td>\n      <td>...</td>\n      <td>...</td>\n      <td>...</td>\n      <td>...</td>\n      <td>...</td>\n      <td>...</td>\n      <td>...</td>\n      <td>...</td>\n      <td>...</td>\n      <td>...</td>\n      <td>...</td>\n      <td>...</td>\n      <td>...</td>\n      <td>...</td>\n      <td>...</td>\n      <td>...</td>\n      <td>...</td>\n      <td>...</td>\n    </tr>\n    <tr>\n      <th>185</th>\n      <td>STELLANTIS</td>\n      <td>EUR</td>\n      <td>77.072B</td>\n      <td>NaN</td>\n      <td>NaN</td>\n      <td>NaN</td>\n      <td>NaN</td>\n      <td>NaN</td>\n      <td>6,409.5742 Ton / Million (EUR)</td>\n      <td>%</td>\n      <td>...</td>\n      <td>40101020, Automobiles</td>\n      <td>%</td>\n      <td>NaN</td>\n      <td>NaN</td>\n      <td>NaN</td>\n      <td>unit</td>\n      <td>27.27%</td>\n      <td>3 unit</td>\n      <td>11 unit</td>\n      <td>15,494,891 MWh</td>\n    </tr>\n    <tr>\n      <th>186</th>\n      <td>STMICROELECTRONICS</td>\n      <td>EUR</td>\n      <td>34.237B</td>\n      <td>NaN</td>\n      <td>NaN</td>\n      <td>NaN</td>\n      <td>NaN</td>\n      <td>NaN</td>\n      <td>27.9849 Ton / Million (USD)</td>\n      <td>%</td>\n      <td>...</td>\n      <td>10102010, Semiconductors</td>\n      <td>%</td>\n      <td>%</td>\n      <td>unit</td>\n      <td>%</td>\n      <td>unit</td>\n      <td>44.44%</td>\n      <td>4 unit</td>\n      <td>9 unit</td>\n      <td>10,363.96 terajoule</td>\n    </tr>\n    <tr>\n      <th>187</th>\n      <td>TELECOM ITALIA</td>\n      <td>EUR</td>\n      <td>3.357B</td>\n      <td>NaN</td>\n      <td>NaN</td>\n      <td>NaN</td>\n      <td>NaN</td>\n      <td>NaN</td>\n      <td>124.89 Ton / Million (EUR)</td>\n      <td>38%</td>\n      <td>...</td>\n      <td>15102015, Telecommunications Services</td>\n      <td>28%</td>\n      <td>NaN</td>\n      <td>NaN</td>\n      <td>3%</td>\n      <td>53.75 unit</td>\n      <td>40%</td>\n      <td>6 unit</td>\n      <td>15 unit</td>\n      <td>2,671 GWh</td>\n    </tr>\n    <tr>\n      <th>189</th>\n      <td>TERNA</td>\n      <td>EUR</td>\n      <td>14.605B</td>\n      <td>NaN</td>\n      <td>NaN</td>\n      <td>NaN</td>\n      <td>NaN</td>\n      <td>NaN</td>\n      <td>132.1212 Ton / Million (EUR)</td>\n      <td>16.08%</td>\n      <td>...</td>\n      <td>65101015, Conventional Electricity</td>\n      <td>23.70%</td>\n      <td>19%</td>\n      <td>NaN</td>\n      <td>NaN</td>\n      <td>36 unit</td>\n      <td>46.15%</td>\n      <td>6 unit</td>\n      <td>13 unit</td>\n      <td>928,277.4 gigajoule</td>\n    </tr>\n    <tr>\n      <th>191</th>\n      <td>UNIPOL</td>\n      <td>EUR</td>\n      <td>5.833B</td>\n      <td>NaN</td>\n      <td>NaN</td>\n      <td>NaN</td>\n      <td>NaN</td>\n      <td>NaN</td>\n      <td>476.3635 Ton / Million (EUR)</td>\n      <td>54.30%</td>\n      <td>...</td>\n      <td>30302010, Full Line Insurance</td>\n      <td>16.23%</td>\n      <td>9%</td>\n      <td>NaN</td>\n      <td>%</td>\n      <td>15.72 unit</td>\n      <td>40%</td>\n      <td>6 unit</td>\n      <td>15 unit</td>\n      <td>530,790 gigajoule</td>\n    </tr>\n  </tbody>\n</table>\n<p>187 rows × 28 columns</p>\n</div>"
     },
     "execution_count": 53,
     "metadata": {},
     "output_type": "execute_result"
    }
   ],
   "execution_count": 53
  },
  {
   "cell_type": "code",
   "source": [
    "# Helper function to convert Market Cap to numeric\n",
    "# Beispiel-Wechselkurse zu USD: Google 18. Apr., 13:08 UTC\n",
    "exchange_rates = {\n",
    "'EUR': 1.07,\n",
    "'GBP': 1.25,\n",
    "'NOK': 0.091,\n",
    "'USD': 1\n",
    "}\n",
    "\n",
    "def expand_number(value):\n",
    "    if pd.isna(value):\n",
    "        return np.nan\n",
    "    value = value.strip().upper()\n",
    "    if value.endswith('B'):\n",
    "        value =  float(value[:-1]) * 1e9  # Convert billions to a numeric value\n",
    "    elif value.endswith('M'):\n",
    "        value =  float(value[:-1]) * 1e6  # Convert millions to a numeric value\n",
    "    elif value.endswith('K'):\n",
    "        value =  float(value[:-1]) * 1e3  # Convert thousands to a numeric value\n",
    "    else:\n",
    "        value = float(value)  # Handle numeric-only strings as is\n",
    "    return round(value,3)\n",
    "\n",
    "def convert_to_usd(currency, amount):\n",
    "    if pd.isna(amount):\n",
    "        return np.nan\n",
    "    return amount * exchange_rates[currency]\n",
    "\n",
    "def process_market_cap(row):\n",
    "    # Erweitere den Betrag zu einer vollständigen Zahl\n",
    "    full_amount = expand_number(row['Market Cap'])\n",
    "    # Wandle die Währung in USD um\n",
    "    amount_in_usd = convert_to_usd(row['Currency'], full_amount)\n",
    "    return amount_in_usd\n",
    "\n",
    "# Lade den DataFrame, hier durch eine CSV-Datei ersetzt\n",
    "# data = pd.read_csv('path_to_your_csv.csv')\n",
    "\n",
    "# Annahme: 'data' ist ein DataFrame mit den Spalten 'Currency' und 'Market Cap'\n",
    "# Anwenden der Funktion\n",
    "data['Market Cap in USD'] = data.apply(process_market_cap, axis=1)\n",
    "data = data.drop('Market Cap',axis='columns')"
   ],
   "metadata": {
    "collapsed": false,
    "ExecuteTime": {
     "end_time": "2024-04-20T21:54:08.685758500Z",
     "start_time": "2024-04-20T21:54:08.597910500Z"
    }
   },
   "id": "83b62884864c67f4",
   "outputs": [
    {
     "name": "stderr",
     "output_type": "stream",
     "text": [
      "C:\\Users\\chris\\AppData\\Local\\Temp\\ipykernel_42216\\3642019202.py:41: SettingWithCopyWarning: \n",
      "A value is trying to be set on a copy of a slice from a DataFrame.\n",
      "Try using .loc[row_indexer,col_indexer] = value instead\n",
      "\n",
      "See the caveats in the documentation: https://pandas.pydata.org/pandas-docs/stable/user_guide/indexing.html#returning-a-view-versus-a-copy\n",
      "  data['Market Cap in USD'] = data.apply(process_market_cap, axis=1)\n"
     ]
    }
   ],
   "execution_count": 54
  },
  {
   "cell_type": "code",
   "source": [
    "def parse_and_convert_tons_currency(value):\n",
    "    # Prüft auf NaN Werte\n",
    "    if pd.isna(value) or value == '':\n",
    "        return None\n",
    "    \n",
    "    parts = value.split(' ')\n",
    "    \n",
    "    if len(parts) < 5:\n",
    "        return None\n",
    "\n",
    "    # Extrahiert den Betrag, die Einheit und die Währung\n",
    "    if parts[0].replace(',', '') == '':\n",
    "        return None\n",
    "    else:\n",
    "        amount = float(parts[0].replace(',', ''))\n",
    "    \n",
    "    unit = parts[2]\n",
    "    currency = parts[4].strip('()')\n",
    "\n",
    "    # Konvertiert Tausend in Millionen, falls nötig\n",
    "    if unit == 'Thousand':\n",
    "        amount /= 1000\n",
    "\n",
    "    # Wandelt den Betrag in USD um, falls er nicht bereits in USD ist\n",
    "    if currency != 'USD':\n",
    "        amount *= round(float(exchange_rates.get(currency,1)),3)\n",
    "\n",
    "    return amount\n",
    "\n",
    "# Anwendung der Funktion\n",
    "data['Carbon footprint (total GHG emissions / enterprise value)' + '_in_USD'] = data['Carbon footprint (total GHG emissions / enterprise value)'].apply(parse_and_convert_tons_currency)\n",
    "data = data.drop('Carbon footprint (total GHG emissions / enterprise value)',axis='columns')\n",
    "data"
   ],
   "metadata": {
    "collapsed": false,
    "ExecuteTime": {
     "end_time": "2024-04-20T21:54:08.785389800Z",
     "start_time": "2024-04-20T21:54:08.689761300Z"
    }
   },
   "id": "57a5f4e444c28d44",
   "outputs": [
    {
     "data": {
      "text/plain": "                   Name Currency  CDP FTSE4Good MSCI ESG Ratings  \\\n0                 ACCOR      EUR  NaN       NaN              NaN   \n1           AIR LIQUIDE      EUR  NaN       NaN              NaN   \n2             AIRBUS SE      EUR  NaN       NaN              NaN   \n3      ARCELORMITTAL SA      EUR  NaN       NaN              NaN   \n4                   AXA      EUR  NaN       NaN              NaN   \n..                  ...      ...  ...       ...              ...   \n185          STELLANTIS      EUR  NaN       NaN              NaN   \n186  STMICROELECTRONICS      EUR  NaN       NaN              NaN   \n187      TELECOM ITALIA      EUR  NaN       NaN              NaN   \n189               TERNA      EUR  NaN       NaN              NaN   \n191              UNIPOL      EUR  NaN       NaN              NaN   \n\n    Moody's ESG Solution Sustainalytics Share of women in total workforce  \\\n0                    NaN            NaN                                 %   \n1                    NaN            NaN                               28%   \n2                    NaN            NaN                               20%   \n3                    NaN            NaN                               NaN   \n4                    NaN            NaN                               NaN   \n..                   ...            ...                               ...   \n185                  NaN            NaN                                 %   \n186                  NaN            NaN                                 %   \n187                  NaN            NaN                               38%   \n189                  NaN            NaN                            16.08%   \n191                  NaN            NaN                            54.30%   \n\n    Rate of resignation   Type  ... Gender pay gap  \\\n0                     %  Stock  ...              %   \n1                 8.60%  Stock  ...            NaN   \n2                   NaN  Stock  ...            NaN   \n3                   NaN  Stock  ...            NaN   \n4                   10%  Stock  ...            NaN   \n..                  ...    ...  ...            ...   \n185                   %  Stock  ...            NaN   \n186                   %  Stock  ...              %   \n187                 NaN  Stock  ...            NaN   \n189               1.80%  Stock  ...            19%   \n191               2.70%  Stock  ...             9%   \n\n    Professional equality index Rate of employees with disabilities  \\\n0                          unit                                   %   \n1                       87 unit                               4.50%   \n2                           NaN                                 NaN   \n3                           NaN                                 NaN   \n4                           NaN                               0.70%   \n..                          ...                                 ...   \n185                         NaN                                 NaN   \n186                        unit                                   %   \n187                         NaN                                  3%   \n189                         NaN                                 NaN   \n191                         NaN                                   %   \n\n    Average training hours per employee  \\\n0                                  unit   \n1                               20 unit   \n2                               15 unit   \n3                                   NaN   \n4                                   NaN   \n..                                  ...   \n185                                unit   \n186                                unit   \n187                          53.75 unit   \n189                             36 unit   \n191                          15.72 unit   \n\n    Board gender diversity (female board members / total board members)  \\\n0                                               61.50%                    \n1                                               35.70%                    \n2                                               33.33%                    \n3                                                  30%                    \n4                                               56.30%                    \n..                                                 ...                    \n185                                             27.27%                    \n186                                             44.44%                    \n187                                                40%                    \n189                                             46.15%                    \n191                                                40%                    \n\n    Number of female board members Number of board members  \\\n0                           8 unit                 13 unit   \n1                           5 unit                 14 unit   \n2                           4 unit                 12 unit   \n3                           3 unit                 10 unit   \n4                           9 unit                 16 unit   \n..                             ...                     ...   \n185                         3 unit                 11 unit   \n186                         4 unit                  9 unit   \n187                         6 unit                 15 unit   \n189                         6 unit                 13 unit   \n191                         6 unit                 15 unit   \n\n    Total energy consumption Market Cap in USD  \\\n0                 13,712 GWh      1.033192e+10   \n1                        GWh      1.051361e+11   \n2                  3,717 GWh      1.361650e+11   \n3    1,392,000,000 gigajoule      2.175417e+10   \n4                223,638 MWh      8.254087e+10   \n..                       ...               ...   \n185           15,494,891 MWh      8.246704e+10   \n186      10,363.96 terajoule      3.663359e+10   \n187                2,671 GWh      3.591990e+09   \n189      928,277.4 gigajoule      1.562735e+10   \n191        530,790 gigajoule      6.241310e+09   \n\n    Carbon footprint (total GHG emissions / enterprise value)_in_USD  \n0                                           572.631900                \n1                                                  NaN                \n2                                                  NaN                \n3                                          3373.201000                \n4                                             2.717800                \n..                                                 ...                \n185                                        6858.244394                \n186                                          27.984900                \n187                                         133.632300                \n189                                         141.369684                \n191                                         509.708945                \n\n[187 rows x 28 columns]",
      "text/html": "<div>\n<style scoped>\n    .dataframe tbody tr th:only-of-type {\n        vertical-align: middle;\n    }\n\n    .dataframe tbody tr th {\n        vertical-align: top;\n    }\n\n    .dataframe thead th {\n        text-align: right;\n    }\n</style>\n<table border=\"1\" class=\"dataframe\">\n  <thead>\n    <tr style=\"text-align: right;\">\n      <th></th>\n      <th>Name</th>\n      <th>Currency</th>\n      <th>CDP</th>\n      <th>FTSE4Good</th>\n      <th>MSCI ESG Ratings</th>\n      <th>Moody's ESG Solution</th>\n      <th>Sustainalytics</th>\n      <th>Share of women in total workforce</th>\n      <th>Rate of resignation</th>\n      <th>Type</th>\n      <th>...</th>\n      <th>Gender pay gap</th>\n      <th>Professional equality index</th>\n      <th>Rate of employees with disabilities</th>\n      <th>Average training hours per employee</th>\n      <th>Board gender diversity (female board members / total board members)</th>\n      <th>Number of female board members</th>\n      <th>Number of board members</th>\n      <th>Total energy consumption</th>\n      <th>Market Cap in USD</th>\n      <th>Carbon footprint (total GHG emissions / enterprise value)_in_USD</th>\n    </tr>\n  </thead>\n  <tbody>\n    <tr>\n      <th>0</th>\n      <td>ACCOR</td>\n      <td>EUR</td>\n      <td>NaN</td>\n      <td>NaN</td>\n      <td>NaN</td>\n      <td>NaN</td>\n      <td>NaN</td>\n      <td>%</td>\n      <td>%</td>\n      <td>Stock</td>\n      <td>...</td>\n      <td>%</td>\n      <td>unit</td>\n      <td>%</td>\n      <td>unit</td>\n      <td>61.50%</td>\n      <td>8 unit</td>\n      <td>13 unit</td>\n      <td>13,712 GWh</td>\n      <td>1.033192e+10</td>\n      <td>572.631900</td>\n    </tr>\n    <tr>\n      <th>1</th>\n      <td>AIR LIQUIDE</td>\n      <td>EUR</td>\n      <td>NaN</td>\n      <td>NaN</td>\n      <td>NaN</td>\n      <td>NaN</td>\n      <td>NaN</td>\n      <td>28%</td>\n      <td>8.60%</td>\n      <td>Stock</td>\n      <td>...</td>\n      <td>NaN</td>\n      <td>87 unit</td>\n      <td>4.50%</td>\n      <td>20 unit</td>\n      <td>35.70%</td>\n      <td>5 unit</td>\n      <td>14 unit</td>\n      <td>GWh</td>\n      <td>1.051361e+11</td>\n      <td>NaN</td>\n    </tr>\n    <tr>\n      <th>2</th>\n      <td>AIRBUS SE</td>\n      <td>EUR</td>\n      <td>NaN</td>\n      <td>NaN</td>\n      <td>NaN</td>\n      <td>NaN</td>\n      <td>NaN</td>\n      <td>20%</td>\n      <td>NaN</td>\n      <td>Stock</td>\n      <td>...</td>\n      <td>NaN</td>\n      <td>NaN</td>\n      <td>NaN</td>\n      <td>15 unit</td>\n      <td>33.33%</td>\n      <td>4 unit</td>\n      <td>12 unit</td>\n      <td>3,717 GWh</td>\n      <td>1.361650e+11</td>\n      <td>NaN</td>\n    </tr>\n    <tr>\n      <th>3</th>\n      <td>ARCELORMITTAL SA</td>\n      <td>EUR</td>\n      <td>NaN</td>\n      <td>NaN</td>\n      <td>NaN</td>\n      <td>NaN</td>\n      <td>NaN</td>\n      <td>NaN</td>\n      <td>NaN</td>\n      <td>Stock</td>\n      <td>...</td>\n      <td>NaN</td>\n      <td>NaN</td>\n      <td>NaN</td>\n      <td>NaN</td>\n      <td>30%</td>\n      <td>3 unit</td>\n      <td>10 unit</td>\n      <td>1,392,000,000 gigajoule</td>\n      <td>2.175417e+10</td>\n      <td>3373.201000</td>\n    </tr>\n    <tr>\n      <th>4</th>\n      <td>AXA</td>\n      <td>EUR</td>\n      <td>NaN</td>\n      <td>NaN</td>\n      <td>NaN</td>\n      <td>NaN</td>\n      <td>NaN</td>\n      <td>NaN</td>\n      <td>10%</td>\n      <td>Stock</td>\n      <td>...</td>\n      <td>NaN</td>\n      <td>NaN</td>\n      <td>0.70%</td>\n      <td>NaN</td>\n      <td>56.30%</td>\n      <td>9 unit</td>\n      <td>16 unit</td>\n      <td>223,638 MWh</td>\n      <td>8.254087e+10</td>\n      <td>2.717800</td>\n    </tr>\n    <tr>\n      <th>...</th>\n      <td>...</td>\n      <td>...</td>\n      <td>...</td>\n      <td>...</td>\n      <td>...</td>\n      <td>...</td>\n      <td>...</td>\n      <td>...</td>\n      <td>...</td>\n      <td>...</td>\n      <td>...</td>\n      <td>...</td>\n      <td>...</td>\n      <td>...</td>\n      <td>...</td>\n      <td>...</td>\n      <td>...</td>\n      <td>...</td>\n      <td>...</td>\n      <td>...</td>\n      <td>...</td>\n    </tr>\n    <tr>\n      <th>185</th>\n      <td>STELLANTIS</td>\n      <td>EUR</td>\n      <td>NaN</td>\n      <td>NaN</td>\n      <td>NaN</td>\n      <td>NaN</td>\n      <td>NaN</td>\n      <td>%</td>\n      <td>%</td>\n      <td>Stock</td>\n      <td>...</td>\n      <td>NaN</td>\n      <td>NaN</td>\n      <td>NaN</td>\n      <td>unit</td>\n      <td>27.27%</td>\n      <td>3 unit</td>\n      <td>11 unit</td>\n      <td>15,494,891 MWh</td>\n      <td>8.246704e+10</td>\n      <td>6858.244394</td>\n    </tr>\n    <tr>\n      <th>186</th>\n      <td>STMICROELECTRONICS</td>\n      <td>EUR</td>\n      <td>NaN</td>\n      <td>NaN</td>\n      <td>NaN</td>\n      <td>NaN</td>\n      <td>NaN</td>\n      <td>%</td>\n      <td>%</td>\n      <td>Stock</td>\n      <td>...</td>\n      <td>%</td>\n      <td>unit</td>\n      <td>%</td>\n      <td>unit</td>\n      <td>44.44%</td>\n      <td>4 unit</td>\n      <td>9 unit</td>\n      <td>10,363.96 terajoule</td>\n      <td>3.663359e+10</td>\n      <td>27.984900</td>\n    </tr>\n    <tr>\n      <th>187</th>\n      <td>TELECOM ITALIA</td>\n      <td>EUR</td>\n      <td>NaN</td>\n      <td>NaN</td>\n      <td>NaN</td>\n      <td>NaN</td>\n      <td>NaN</td>\n      <td>38%</td>\n      <td>NaN</td>\n      <td>Stock</td>\n      <td>...</td>\n      <td>NaN</td>\n      <td>NaN</td>\n      <td>3%</td>\n      <td>53.75 unit</td>\n      <td>40%</td>\n      <td>6 unit</td>\n      <td>15 unit</td>\n      <td>2,671 GWh</td>\n      <td>3.591990e+09</td>\n      <td>133.632300</td>\n    </tr>\n    <tr>\n      <th>189</th>\n      <td>TERNA</td>\n      <td>EUR</td>\n      <td>NaN</td>\n      <td>NaN</td>\n      <td>NaN</td>\n      <td>NaN</td>\n      <td>NaN</td>\n      <td>16.08%</td>\n      <td>1.80%</td>\n      <td>Stock</td>\n      <td>...</td>\n      <td>19%</td>\n      <td>NaN</td>\n      <td>NaN</td>\n      <td>36 unit</td>\n      <td>46.15%</td>\n      <td>6 unit</td>\n      <td>13 unit</td>\n      <td>928,277.4 gigajoule</td>\n      <td>1.562735e+10</td>\n      <td>141.369684</td>\n    </tr>\n    <tr>\n      <th>191</th>\n      <td>UNIPOL</td>\n      <td>EUR</td>\n      <td>NaN</td>\n      <td>NaN</td>\n      <td>NaN</td>\n      <td>NaN</td>\n      <td>NaN</td>\n      <td>54.30%</td>\n      <td>2.70%</td>\n      <td>Stock</td>\n      <td>...</td>\n      <td>9%</td>\n      <td>NaN</td>\n      <td>%</td>\n      <td>15.72 unit</td>\n      <td>40%</td>\n      <td>6 unit</td>\n      <td>15 unit</td>\n      <td>530,790 gigajoule</td>\n      <td>6.241310e+09</td>\n      <td>509.708945</td>\n    </tr>\n  </tbody>\n</table>\n<p>187 rows × 28 columns</p>\n</div>"
     },
     "execution_count": 55,
     "metadata": {},
     "output_type": "execute_result"
    }
   ],
   "execution_count": 55
  },
  {
   "cell_type": "code",
   "source": [
    "# Helper function to convert percentage strings to floats\n",
    "def convert_percentage(value):\n",
    "    if pd.isna(value) or value.strip('% ') == '':\n",
    "        return np.nan\n",
    "    return round(float(value.strip('% ')) / 100,3)\n",
    "\n",
    "def unit_strip(value):\n",
    "    if pd.isna(value) or value.strip('unit') == '':\n",
    "        return np.nan\n",
    "    elif value.replace('unit', '') == \" \":\n",
    "        return np.nan\n",
    "    return float(value.replace('unit', ''))\n",
    "\n",
    "import re\n",
    "def convert_to_mwh(value):\n",
    "    conversion_factors = {\n",
    "    'GWh': 1000,\n",
    "    'terajoule': 277.778,\n",
    "    'gigajoule': 0.277778,\n",
    "    'MWh': 1\n",
    "    }\n",
    "    match = re.search(r'([\\d,]+(?:\\.\\d+)?)\\s*(GWh|MWh|terajoule|gigajoule)', str(value).replace(',', ''))\n",
    "    if match:\n",
    "        # Convert string value to float\n",
    "        value = float(match.group(1).replace(',', ''))\n",
    "        unit = match.group(2)\n",
    "        return round(value * conversion_factors[unit],3) # Convert the value to MWh\n",
    "\n",
    "# Apply conversions\n",
    "data['Share of women in total workforce in %'] = data['Share of women in total workforce'].apply(convert_percentage)\n",
    "data = data.drop(\"Share of women in total workforce\",axis='columns')\n",
    "data['Share of women in management bodies in %'] = data['Share of women in management bodies'].apply(convert_percentage)\n",
    "data = data.drop('Share of women in management bodies',axis='columns')\n",
    "data['Gender pay gap in %'] = data['Gender pay gap'].apply(convert_percentage)\n",
    "data = data.drop('Gender pay gap',axis='columns')\n",
    "data['Rate of employees with disabilities in %'] = data['Rate of employees with disabilities'].apply(convert_percentage)\n",
    "data = data.drop('Rate of employees with disabilities',axis='columns')\n",
    "data['Board gender diversity (female board members / total board members) in %'] = data['Board gender diversity (female board members / total board members)'].apply(convert_percentage)\n",
    "data = data.drop('Board gender diversity (female board members / total board members)',axis='columns')\n",
    "data['Professional equality index'] = data['Professional equality index'].apply(unit_strip)\n",
    "data['Number of female board members'] = data['Number of female board members'].apply(unit_strip)\n",
    "data['Number of board members'] = data['Number of board members'].apply(unit_strip)\n",
    "data['Average training hours per employee'] = data['Average training hours per employee'].apply(unit_strip)\n",
    "data['Total energy consumption in mwh'] = data['Total energy consumption'].apply(convert_to_mwh)\n",
    "data = data.drop('Total energy consumption', axis='columns')\n",
    "data['Rate of resignation in %'] = data['Rate of resignation'].apply(convert_percentage)\n",
    "data = data.drop('Rate of resignation', axis='columns')\n",
    "data\n",
    "\n",
    "# Transformed data\n",
    "data.head()\n",
    "data.info()"
   ],
   "metadata": {
    "collapsed": false,
    "ExecuteTime": {
     "end_time": "2024-04-20T21:54:08.922931400Z",
     "start_time": "2024-04-20T21:54:08.766353100Z"
    }
   },
   "id": "9ac0d9a4f0c1187a",
   "outputs": [
    {
     "name": "stdout",
     "output_type": "stream",
     "text": [
      "<class 'pandas.core.frame.DataFrame'>\n",
      "Int64Index: 187 entries, 0 to 191\n",
      "Data columns (total 28 columns):\n",
      " #   Column                                                                    Non-Null Count  Dtype  \n",
      "---  ------                                                                    --------------  -----  \n",
      " 0   Name                                                                      187 non-null    object \n",
      " 1   Currency                                                                  187 non-null    object \n",
      " 2   CDP                                                                       19 non-null     object \n",
      " 3   FTSE4Good                                                                 4 non-null      object \n",
      " 4   MSCI ESG Ratings                                                          4 non-null      object \n",
      " 5   Moody's ESG Solution                                                      2 non-null      object \n",
      " 6   Sustainalytics                                                            27 non-null     object \n",
      " 7   Type                                                                      187 non-null    object \n",
      " 8   Sub type                                                                  187 non-null    object \n",
      " 9   Market                                                                    187 non-null    object \n",
      " 10  ISIN Code                                                                 187 non-null    object \n",
      " 11  Industry                                                                  187 non-null    object \n",
      " 12  SuperSector                                                               187 non-null    object \n",
      " 13  Sector                                                                    187 non-null    object \n",
      " 14  Subsector                                                                 187 non-null    object \n",
      " 15  Professional equality index                                               21 non-null     float64\n",
      " 16  Average training hours per employee                                       106 non-null    float64\n",
      " 17  Number of female board members                                            168 non-null    float64\n",
      " 18  Number of board members                                                   168 non-null    float64\n",
      " 19  Market Cap in USD                                                         187 non-null    float64\n",
      " 20  Carbon footprint (total GHG emissions / enterprise value)_in_USD          115 non-null    float64\n",
      " 21  Share of women in total workforce in %                                    144 non-null    float64\n",
      " 22  Share of women in management bodies in %                                  125 non-null    float64\n",
      " 23  Gender pay gap in %                                                       47 non-null     float64\n",
      " 24  Rate of employees with disabilities in %                                  50 non-null     float64\n",
      " 25  Board gender diversity (female board members / total board members) in %  168 non-null    float64\n",
      " 26  Total energy consumption in mwh                                           124 non-null    float64\n",
      " 27  Rate of resignation in %                                                  51 non-null     float64\n",
      "dtypes: float64(13), object(15)\n",
      "memory usage: 42.4+ KB\n"
     ]
    }
   ],
   "execution_count": 56
  },
  {
   "cell_type": "code",
   "source": [
    "data"
   ],
   "metadata": {
    "collapsed": false,
    "ExecuteTime": {
     "end_time": "2024-04-20T21:54:09.032785200Z",
     "start_time": "2024-04-20T21:54:08.850443200Z"
    }
   },
   "id": "50a7cbcbe0b65b8",
   "outputs": [
    {
     "data": {
      "text/plain": "                   Name Currency  CDP FTSE4Good MSCI ESG Ratings  \\\n0                 ACCOR      EUR  NaN       NaN              NaN   \n1           AIR LIQUIDE      EUR  NaN       NaN              NaN   \n2             AIRBUS SE      EUR  NaN       NaN              NaN   \n3      ARCELORMITTAL SA      EUR  NaN       NaN              NaN   \n4                   AXA      EUR  NaN       NaN              NaN   \n..                  ...      ...  ...       ...              ...   \n185          STELLANTIS      EUR  NaN       NaN              NaN   \n186  STMICROELECTRONICS      EUR  NaN       NaN              NaN   \n187      TELECOM ITALIA      EUR  NaN       NaN              NaN   \n189               TERNA      EUR  NaN       NaN              NaN   \n191              UNIPOL      EUR  NaN       NaN              NaN   \n\n    Moody's ESG Solution Sustainalytics   Type         Sub type  \\\n0                    NaN            NaN  Stock  Ordinary Shares   \n1                    NaN            NaN  Stock  Ordinary Shares   \n2                    NaN            NaN  Stock  Ordinary Shares   \n3                    NaN            NaN  Stock  Ordinary Shares   \n4                    NaN            NaN  Stock  Ordinary Shares   \n..                   ...            ...    ...              ...   \n185                  NaN            NaN  Stock  Ordinary Shares   \n186                  NaN            NaN  Stock  Ordinary Shares   \n187                  NaN            NaN  Stock  Ordinary Shares   \n189                  NaN            NaN  Stock  Ordinary Shares   \n191                  NaN            NaN  Stock  Ordinary Shares   \n\n                 Market  ... Number of board members Market Cap in USD  \\\n0        Euronext Paris  ...                    13.0      1.033192e+10   \n1        Euronext Paris  ...                    14.0      1.051361e+11   \n2        Euronext Paris  ...                    12.0      1.361650e+11   \n3    Euronext Amsterdam  ...                    10.0      2.175417e+10   \n4        Euronext Paris  ...                    16.0      8.254087e+10   \n..                  ...  ...                     ...               ...   \n185      Euronext Milan  ...                    11.0      8.246704e+10   \n186      Euronext Milan  ...                     9.0      3.663359e+10   \n187      Euronext Milan  ...                    15.0      3.591990e+09   \n189      Euronext Milan  ...                    13.0      1.562735e+10   \n191      Euronext Milan  ...                    15.0      6.241310e+09   \n\n    Carbon footprint (total GHG emissions / enterprise value)_in_USD  \\\n0                                           572.631900                 \n1                                                  NaN                 \n2                                                  NaN                 \n3                                          3373.201000                 \n4                                             2.717800                 \n..                                                 ...                 \n185                                        6858.244394                 \n186                                          27.984900                 \n187                                         133.632300                 \n189                                         141.369684                 \n191                                         509.708945                 \n\n    Share of women in total workforce in %  \\\n0                                      NaN   \n1                                    0.280   \n2                                    0.200   \n3                                      NaN   \n4                                      NaN   \n..                                     ...   \n185                                    NaN   \n186                                    NaN   \n187                                  0.380   \n189                                  0.161   \n191                                  0.543   \n\n    Share of women in management bodies in %  Gender pay gap in %  \\\n0                                        NaN                  NaN   \n1                                      0.300                  NaN   \n2                                        NaN                  NaN   \n3                                      0.157                  NaN   \n4                                      0.353                  NaN   \n..                                       ...                  ...   \n185                                      NaN                  NaN   \n186                                      NaN                  NaN   \n187                                    0.280                  NaN   \n189                                    0.237                 0.19   \n191                                    0.162                 0.09   \n\n     Rate of employees with disabilities in %  \\\n0                                         NaN   \n1                                       0.045   \n2                                         NaN   \n3                                         NaN   \n4                                       0.007   \n..                                        ...   \n185                                       NaN   \n186                                       NaN   \n187                                     0.030   \n189                                       NaN   \n191                                       NaN   \n\n     Board gender diversity (female board members / total board members) in %  \\\n0                                                0.615                          \n1                                                0.357                          \n2                                                0.333                          \n3                                                0.300                          \n4                                                0.563                          \n..                                                 ...                          \n185                                              0.273                          \n186                                              0.444                          \n187                                              0.400                          \n189                                              0.461                          \n191                                              0.400                          \n\n     Total energy consumption in mwh  Rate of resignation in %  \n0                       1.371200e+07                       NaN  \n1                                NaN                     0.086  \n2                       3.717000e+06                       NaN  \n3                       3.866670e+08                       NaN  \n4                       2.236380e+05                     0.100  \n..                               ...                       ...  \n185                     1.549489e+07                       NaN  \n186                     2.878880e+06                       NaN  \n187                     2.671000e+06                       NaN  \n189                     2.578550e+05                     0.018  \n191                     1.474418e+05                     0.027  \n\n[187 rows x 28 columns]",
      "text/html": "<div>\n<style scoped>\n    .dataframe tbody tr th:only-of-type {\n        vertical-align: middle;\n    }\n\n    .dataframe tbody tr th {\n        vertical-align: top;\n    }\n\n    .dataframe thead th {\n        text-align: right;\n    }\n</style>\n<table border=\"1\" class=\"dataframe\">\n  <thead>\n    <tr style=\"text-align: right;\">\n      <th></th>\n      <th>Name</th>\n      <th>Currency</th>\n      <th>CDP</th>\n      <th>FTSE4Good</th>\n      <th>MSCI ESG Ratings</th>\n      <th>Moody's ESG Solution</th>\n      <th>Sustainalytics</th>\n      <th>Type</th>\n      <th>Sub type</th>\n      <th>Market</th>\n      <th>...</th>\n      <th>Number of board members</th>\n      <th>Market Cap in USD</th>\n      <th>Carbon footprint (total GHG emissions / enterprise value)_in_USD</th>\n      <th>Share of women in total workforce in %</th>\n      <th>Share of women in management bodies in %</th>\n      <th>Gender pay gap in %</th>\n      <th>Rate of employees with disabilities in %</th>\n      <th>Board gender diversity (female board members / total board members) in %</th>\n      <th>Total energy consumption in mwh</th>\n      <th>Rate of resignation in %</th>\n    </tr>\n  </thead>\n  <tbody>\n    <tr>\n      <th>0</th>\n      <td>ACCOR</td>\n      <td>EUR</td>\n      <td>NaN</td>\n      <td>NaN</td>\n      <td>NaN</td>\n      <td>NaN</td>\n      <td>NaN</td>\n      <td>Stock</td>\n      <td>Ordinary Shares</td>\n      <td>Euronext Paris</td>\n      <td>...</td>\n      <td>13.0</td>\n      <td>1.033192e+10</td>\n      <td>572.631900</td>\n      <td>NaN</td>\n      <td>NaN</td>\n      <td>NaN</td>\n      <td>NaN</td>\n      <td>0.615</td>\n      <td>1.371200e+07</td>\n      <td>NaN</td>\n    </tr>\n    <tr>\n      <th>1</th>\n      <td>AIR LIQUIDE</td>\n      <td>EUR</td>\n      <td>NaN</td>\n      <td>NaN</td>\n      <td>NaN</td>\n      <td>NaN</td>\n      <td>NaN</td>\n      <td>Stock</td>\n      <td>Ordinary Shares</td>\n      <td>Euronext Paris</td>\n      <td>...</td>\n      <td>14.0</td>\n      <td>1.051361e+11</td>\n      <td>NaN</td>\n      <td>0.280</td>\n      <td>0.300</td>\n      <td>NaN</td>\n      <td>0.045</td>\n      <td>0.357</td>\n      <td>NaN</td>\n      <td>0.086</td>\n    </tr>\n    <tr>\n      <th>2</th>\n      <td>AIRBUS SE</td>\n      <td>EUR</td>\n      <td>NaN</td>\n      <td>NaN</td>\n      <td>NaN</td>\n      <td>NaN</td>\n      <td>NaN</td>\n      <td>Stock</td>\n      <td>Ordinary Shares</td>\n      <td>Euronext Paris</td>\n      <td>...</td>\n      <td>12.0</td>\n      <td>1.361650e+11</td>\n      <td>NaN</td>\n      <td>0.200</td>\n      <td>NaN</td>\n      <td>NaN</td>\n      <td>NaN</td>\n      <td>0.333</td>\n      <td>3.717000e+06</td>\n      <td>NaN</td>\n    </tr>\n    <tr>\n      <th>3</th>\n      <td>ARCELORMITTAL SA</td>\n      <td>EUR</td>\n      <td>NaN</td>\n      <td>NaN</td>\n      <td>NaN</td>\n      <td>NaN</td>\n      <td>NaN</td>\n      <td>Stock</td>\n      <td>Ordinary Shares</td>\n      <td>Euronext Amsterdam</td>\n      <td>...</td>\n      <td>10.0</td>\n      <td>2.175417e+10</td>\n      <td>3373.201000</td>\n      <td>NaN</td>\n      <td>0.157</td>\n      <td>NaN</td>\n      <td>NaN</td>\n      <td>0.300</td>\n      <td>3.866670e+08</td>\n      <td>NaN</td>\n    </tr>\n    <tr>\n      <th>4</th>\n      <td>AXA</td>\n      <td>EUR</td>\n      <td>NaN</td>\n      <td>NaN</td>\n      <td>NaN</td>\n      <td>NaN</td>\n      <td>NaN</td>\n      <td>Stock</td>\n      <td>Ordinary Shares</td>\n      <td>Euronext Paris</td>\n      <td>...</td>\n      <td>16.0</td>\n      <td>8.254087e+10</td>\n      <td>2.717800</td>\n      <td>NaN</td>\n      <td>0.353</td>\n      <td>NaN</td>\n      <td>0.007</td>\n      <td>0.563</td>\n      <td>2.236380e+05</td>\n      <td>0.100</td>\n    </tr>\n    <tr>\n      <th>...</th>\n      <td>...</td>\n      <td>...</td>\n      <td>...</td>\n      <td>...</td>\n      <td>...</td>\n      <td>...</td>\n      <td>...</td>\n      <td>...</td>\n      <td>...</td>\n      <td>...</td>\n      <td>...</td>\n      <td>...</td>\n      <td>...</td>\n      <td>...</td>\n      <td>...</td>\n      <td>...</td>\n      <td>...</td>\n      <td>...</td>\n      <td>...</td>\n      <td>...</td>\n      <td>...</td>\n    </tr>\n    <tr>\n      <th>185</th>\n      <td>STELLANTIS</td>\n      <td>EUR</td>\n      <td>NaN</td>\n      <td>NaN</td>\n      <td>NaN</td>\n      <td>NaN</td>\n      <td>NaN</td>\n      <td>Stock</td>\n      <td>Ordinary Shares</td>\n      <td>Euronext Milan</td>\n      <td>...</td>\n      <td>11.0</td>\n      <td>8.246704e+10</td>\n      <td>6858.244394</td>\n      <td>NaN</td>\n      <td>NaN</td>\n      <td>NaN</td>\n      <td>NaN</td>\n      <td>0.273</td>\n      <td>1.549489e+07</td>\n      <td>NaN</td>\n    </tr>\n    <tr>\n      <th>186</th>\n      <td>STMICROELECTRONICS</td>\n      <td>EUR</td>\n      <td>NaN</td>\n      <td>NaN</td>\n      <td>NaN</td>\n      <td>NaN</td>\n      <td>NaN</td>\n      <td>Stock</td>\n      <td>Ordinary Shares</td>\n      <td>Euronext Milan</td>\n      <td>...</td>\n      <td>9.0</td>\n      <td>3.663359e+10</td>\n      <td>27.984900</td>\n      <td>NaN</td>\n      <td>NaN</td>\n      <td>NaN</td>\n      <td>NaN</td>\n      <td>0.444</td>\n      <td>2.878880e+06</td>\n      <td>NaN</td>\n    </tr>\n    <tr>\n      <th>187</th>\n      <td>TELECOM ITALIA</td>\n      <td>EUR</td>\n      <td>NaN</td>\n      <td>NaN</td>\n      <td>NaN</td>\n      <td>NaN</td>\n      <td>NaN</td>\n      <td>Stock</td>\n      <td>Ordinary Shares</td>\n      <td>Euronext Milan</td>\n      <td>...</td>\n      <td>15.0</td>\n      <td>3.591990e+09</td>\n      <td>133.632300</td>\n      <td>0.380</td>\n      <td>0.280</td>\n      <td>NaN</td>\n      <td>0.030</td>\n      <td>0.400</td>\n      <td>2.671000e+06</td>\n      <td>NaN</td>\n    </tr>\n    <tr>\n      <th>189</th>\n      <td>TERNA</td>\n      <td>EUR</td>\n      <td>NaN</td>\n      <td>NaN</td>\n      <td>NaN</td>\n      <td>NaN</td>\n      <td>NaN</td>\n      <td>Stock</td>\n      <td>Ordinary Shares</td>\n      <td>Euronext Milan</td>\n      <td>...</td>\n      <td>13.0</td>\n      <td>1.562735e+10</td>\n      <td>141.369684</td>\n      <td>0.161</td>\n      <td>0.237</td>\n      <td>0.19</td>\n      <td>NaN</td>\n      <td>0.461</td>\n      <td>2.578550e+05</td>\n      <td>0.018</td>\n    </tr>\n    <tr>\n      <th>191</th>\n      <td>UNIPOL</td>\n      <td>EUR</td>\n      <td>NaN</td>\n      <td>NaN</td>\n      <td>NaN</td>\n      <td>NaN</td>\n      <td>NaN</td>\n      <td>Stock</td>\n      <td>Ordinary Shares</td>\n      <td>Euronext Milan</td>\n      <td>...</td>\n      <td>15.0</td>\n      <td>6.241310e+09</td>\n      <td>509.708945</td>\n      <td>0.543</td>\n      <td>0.162</td>\n      <td>0.09</td>\n      <td>NaN</td>\n      <td>0.400</td>\n      <td>1.474418e+05</td>\n      <td>0.027</td>\n    </tr>\n  </tbody>\n</table>\n<p>187 rows × 28 columns</p>\n</div>"
     },
     "execution_count": 57,
     "metadata": {},
     "output_type": "execute_result"
    }
   ],
   "execution_count": 57
  },
  {
   "cell_type": "code",
   "source": [
    "# Calculate the percentage of missing values per column\n",
    "missing_data = data.isnull().mean() * 100.00\n",
    "\n",
    "# Display the percentage of missing data per column\n",
    "missing_data_sorted = missing_data.sort_values(ascending=False)\n",
    "missing_data_sorted\n"
   ],
   "metadata": {
    "collapsed": false,
    "ExecuteTime": {
     "end_time": "2024-04-20T21:54:09.121549300Z",
     "start_time": "2024-04-20T21:54:08.964457100Z"
    }
   },
   "id": "9cd3539ce15151dc",
   "outputs": [
    {
     "data": {
      "text/plain": "Moody's ESG Solution                                                        98.930481\nFTSE4Good                                                                   97.860963\nMSCI ESG Ratings                                                            97.860963\nCDP                                                                         89.839572\nProfessional equality index                                                 88.770053\nSustainalytics                                                              85.561497\nGender pay gap in %                                                         74.866310\nRate of employees with disabilities in %                                    73.262032\nRate of resignation in %                                                    72.727273\nAverage training hours per employee                                         43.315508\nCarbon footprint (total GHG emissions / enterprise value)_in_USD            38.502674\nTotal energy consumption in mwh                                             33.689840\nShare of women in management bodies in %                                    33.155080\nShare of women in total workforce in %                                      22.994652\nNumber of board members                                                     10.160428\nBoard gender diversity (female board members / total board members) in %    10.160428\nNumber of female board members                                              10.160428\nMarket Cap in USD                                                            0.000000\nName                                                                         0.000000\nCurrency                                                                     0.000000\nSector                                                                       0.000000\nSuperSector                                                                  0.000000\nIndustry                                                                     0.000000\nISIN Code                                                                    0.000000\nMarket                                                                       0.000000\nSub type                                                                     0.000000\nType                                                                         0.000000\nSubsector                                                                    0.000000\ndtype: float64"
     },
     "execution_count": 58,
     "metadata": {},
     "output_type": "execute_result"
    }
   ],
   "execution_count": 58
  },
  {
   "cell_type": "code",
   "source": [
    "# Finden der Spalten, bei denen der Prozentsatz der fehlenden Daten größer als 80% ist\n",
    "columns_to_drop = missing_data[missing_data > 80].index\n",
    "# Löschen dieser Spalten aus dem DataFrame\n",
    "data.drop(columns=columns_to_drop, inplace=True)\n",
    "data"
   ],
   "metadata": {
    "collapsed": false,
    "ExecuteTime": {
     "end_time": "2024-04-20T21:54:09.303590Z",
     "start_time": "2024-04-20T21:54:09.127525900Z"
    }
   },
   "id": "ad2f8ca609e45271",
   "outputs": [
    {
     "data": {
      "text/plain": "                   Name Currency   Type         Sub type              Market  \\\n0                 ACCOR      EUR  Stock  Ordinary Shares      Euronext Paris   \n1           AIR LIQUIDE      EUR  Stock  Ordinary Shares      Euronext Paris   \n2             AIRBUS SE      EUR  Stock  Ordinary Shares      Euronext Paris   \n3      ARCELORMITTAL SA      EUR  Stock  Ordinary Shares  Euronext Amsterdam   \n4                   AXA      EUR  Stock  Ordinary Shares      Euronext Paris   \n..                  ...      ...    ...              ...                 ...   \n185          STELLANTIS      EUR  Stock  Ordinary Shares      Euronext Milan   \n186  STMICROELECTRONICS      EUR  Stock  Ordinary Shares      Euronext Milan   \n187      TELECOM ITALIA      EUR  Stock  Ordinary Shares      Euronext Milan   \n189               TERNA      EUR  Stock  Ordinary Shares      Euronext Milan   \n191              UNIPOL      EUR  Stock  Ordinary Shares      Euronext Milan   \n\n        ISIN Code                    Industry  \\\n0    FR0000120404  40, Consumer Discretionary   \n1    FR0000120073         55, Basic Materials   \n2    NL0000235190             50, Industrials   \n3    LU1598757687         55, Basic Materials   \n4    FR0000120628              30, Financials   \n..            ...                         ...   \n185  NL00150001Q9  40, Consumer Discretionary   \n186  NL0000226223              10, Technology   \n187  IT0003497168      15, Telecommunications   \n189  IT0003242622               65, Utilities   \n191  IT0004810054              30, Financials   \n\n                             SuperSector  \\\n0               4050, Travel and Leisure   \n1                        5520, Chemicals   \n2    5020, Industrial Goods and Services   \n3                  5510, Basic Resources   \n4                        3030, Insurance   \n..                                   ...   \n185          4010, Automobiles and Parts   \n186                     1010, Technology   \n187             1510, Telecommunications   \n189                      6510, Utilities   \n191                      3030, Insurance   \n\n                                           Sector  \\\n0                      405010, Travel and Leisure   \n1                               552010, Chemicals   \n2                   502010, Aerospace and Defense   \n3            551020, Industrial Metals and Mining   \n4                      303020, Non-life Insurance   \n..                                            ...   \n185                 401010, Automobiles and Parts   \n186     101020, Technology Hardware and Equipment   \n187  151020, Telecommunications Service Providers   \n189                           651010, Electricity   \n191                    303020, Non-life Insurance   \n\n                                 Subsector  ...  Number of board members  \\\n0              40501025, Hotels and Motels  ...                     13.0   \n1            55201020, Specialty Chemicals  ...                     14.0   \n2                      50201010, Aerospace  ...                     12.0   \n3                 55102010, Iron and Steel  ...                     10.0   \n4            30302010, Full Line Insurance  ...                     16.0   \n..                                     ...  ...                      ...   \n185                  40101020, Automobiles  ...                     11.0   \n186               10102010, Semiconductors  ...                      9.0   \n187  15102015, Telecommunications Services  ...                     15.0   \n189     65101015, Conventional Electricity  ...                     13.0   \n191          30302010, Full Line Insurance  ...                     15.0   \n\n     Market Cap in USD  \\\n0         1.033192e+10   \n1         1.051361e+11   \n2         1.361650e+11   \n3         2.175417e+10   \n4         8.254087e+10   \n..                 ...   \n185       8.246704e+10   \n186       3.663359e+10   \n187       3.591990e+09   \n189       1.562735e+10   \n191       6.241310e+09   \n\n     Carbon footprint (total GHG emissions / enterprise value)_in_USD  \\\n0                                           572.631900                  \n1                                                  NaN                  \n2                                                  NaN                  \n3                                          3373.201000                  \n4                                             2.717800                  \n..                                                 ...                  \n185                                        6858.244394                  \n186                                          27.984900                  \n187                                         133.632300                  \n189                                         141.369684                  \n191                                         509.708945                  \n\n     Share of women in total workforce in %  \\\n0                                       NaN   \n1                                     0.280   \n2                                     0.200   \n3                                       NaN   \n4                                       NaN   \n..                                      ...   \n185                                     NaN   \n186                                     NaN   \n187                                   0.380   \n189                                   0.161   \n191                                   0.543   \n\n     Share of women in management bodies in %  Gender pay gap in %  \\\n0                                         NaN                  NaN   \n1                                       0.300                  NaN   \n2                                         NaN                  NaN   \n3                                       0.157                  NaN   \n4                                       0.353                  NaN   \n..                                        ...                  ...   \n185                                       NaN                  NaN   \n186                                       NaN                  NaN   \n187                                     0.280                  NaN   \n189                                     0.237                 0.19   \n191                                     0.162                 0.09   \n\n     Rate of employees with disabilities in %  \\\n0                                         NaN   \n1                                       0.045   \n2                                         NaN   \n3                                         NaN   \n4                                       0.007   \n..                                        ...   \n185                                       NaN   \n186                                       NaN   \n187                                     0.030   \n189                                       NaN   \n191                                       NaN   \n\n     Board gender diversity (female board members / total board members) in %  \\\n0                                                0.615                          \n1                                                0.357                          \n2                                                0.333                          \n3                                                0.300                          \n4                                                0.563                          \n..                                                 ...                          \n185                                              0.273                          \n186                                              0.444                          \n187                                              0.400                          \n189                                              0.461                          \n191                                              0.400                          \n\n     Total energy consumption in mwh  Rate of resignation in %  \n0                       1.371200e+07                       NaN  \n1                                NaN                     0.086  \n2                       3.717000e+06                       NaN  \n3                       3.866670e+08                       NaN  \n4                       2.236380e+05                     0.100  \n..                               ...                       ...  \n185                     1.549489e+07                       NaN  \n186                     2.878880e+06                       NaN  \n187                     2.671000e+06                       NaN  \n189                     2.578550e+05                     0.018  \n191                     1.474418e+05                     0.027  \n\n[187 rows x 22 columns]",
      "text/html": "<div>\n<style scoped>\n    .dataframe tbody tr th:only-of-type {\n        vertical-align: middle;\n    }\n\n    .dataframe tbody tr th {\n        vertical-align: top;\n    }\n\n    .dataframe thead th {\n        text-align: right;\n    }\n</style>\n<table border=\"1\" class=\"dataframe\">\n  <thead>\n    <tr style=\"text-align: right;\">\n      <th></th>\n      <th>Name</th>\n      <th>Currency</th>\n      <th>Type</th>\n      <th>Sub type</th>\n      <th>Market</th>\n      <th>ISIN Code</th>\n      <th>Industry</th>\n      <th>SuperSector</th>\n      <th>Sector</th>\n      <th>Subsector</th>\n      <th>...</th>\n      <th>Number of board members</th>\n      <th>Market Cap in USD</th>\n      <th>Carbon footprint (total GHG emissions / enterprise value)_in_USD</th>\n      <th>Share of women in total workforce in %</th>\n      <th>Share of women in management bodies in %</th>\n      <th>Gender pay gap in %</th>\n      <th>Rate of employees with disabilities in %</th>\n      <th>Board gender diversity (female board members / total board members) in %</th>\n      <th>Total energy consumption in mwh</th>\n      <th>Rate of resignation in %</th>\n    </tr>\n  </thead>\n  <tbody>\n    <tr>\n      <th>0</th>\n      <td>ACCOR</td>\n      <td>EUR</td>\n      <td>Stock</td>\n      <td>Ordinary Shares</td>\n      <td>Euronext Paris</td>\n      <td>FR0000120404</td>\n      <td>40, Consumer Discretionary</td>\n      <td>4050, Travel and Leisure</td>\n      <td>405010, Travel and Leisure</td>\n      <td>40501025, Hotels and Motels</td>\n      <td>...</td>\n      <td>13.0</td>\n      <td>1.033192e+10</td>\n      <td>572.631900</td>\n      <td>NaN</td>\n      <td>NaN</td>\n      <td>NaN</td>\n      <td>NaN</td>\n      <td>0.615</td>\n      <td>1.371200e+07</td>\n      <td>NaN</td>\n    </tr>\n    <tr>\n      <th>1</th>\n      <td>AIR LIQUIDE</td>\n      <td>EUR</td>\n      <td>Stock</td>\n      <td>Ordinary Shares</td>\n      <td>Euronext Paris</td>\n      <td>FR0000120073</td>\n      <td>55, Basic Materials</td>\n      <td>5520, Chemicals</td>\n      <td>552010, Chemicals</td>\n      <td>55201020, Specialty Chemicals</td>\n      <td>...</td>\n      <td>14.0</td>\n      <td>1.051361e+11</td>\n      <td>NaN</td>\n      <td>0.280</td>\n      <td>0.300</td>\n      <td>NaN</td>\n      <td>0.045</td>\n      <td>0.357</td>\n      <td>NaN</td>\n      <td>0.086</td>\n    </tr>\n    <tr>\n      <th>2</th>\n      <td>AIRBUS SE</td>\n      <td>EUR</td>\n      <td>Stock</td>\n      <td>Ordinary Shares</td>\n      <td>Euronext Paris</td>\n      <td>NL0000235190</td>\n      <td>50, Industrials</td>\n      <td>5020, Industrial Goods and Services</td>\n      <td>502010, Aerospace and Defense</td>\n      <td>50201010, Aerospace</td>\n      <td>...</td>\n      <td>12.0</td>\n      <td>1.361650e+11</td>\n      <td>NaN</td>\n      <td>0.200</td>\n      <td>NaN</td>\n      <td>NaN</td>\n      <td>NaN</td>\n      <td>0.333</td>\n      <td>3.717000e+06</td>\n      <td>NaN</td>\n    </tr>\n    <tr>\n      <th>3</th>\n      <td>ARCELORMITTAL SA</td>\n      <td>EUR</td>\n      <td>Stock</td>\n      <td>Ordinary Shares</td>\n      <td>Euronext Amsterdam</td>\n      <td>LU1598757687</td>\n      <td>55, Basic Materials</td>\n      <td>5510, Basic Resources</td>\n      <td>551020, Industrial Metals and Mining</td>\n      <td>55102010, Iron and Steel</td>\n      <td>...</td>\n      <td>10.0</td>\n      <td>2.175417e+10</td>\n      <td>3373.201000</td>\n      <td>NaN</td>\n      <td>0.157</td>\n      <td>NaN</td>\n      <td>NaN</td>\n      <td>0.300</td>\n      <td>3.866670e+08</td>\n      <td>NaN</td>\n    </tr>\n    <tr>\n      <th>4</th>\n      <td>AXA</td>\n      <td>EUR</td>\n      <td>Stock</td>\n      <td>Ordinary Shares</td>\n      <td>Euronext Paris</td>\n      <td>FR0000120628</td>\n      <td>30, Financials</td>\n      <td>3030, Insurance</td>\n      <td>303020, Non-life Insurance</td>\n      <td>30302010, Full Line Insurance</td>\n      <td>...</td>\n      <td>16.0</td>\n      <td>8.254087e+10</td>\n      <td>2.717800</td>\n      <td>NaN</td>\n      <td>0.353</td>\n      <td>NaN</td>\n      <td>0.007</td>\n      <td>0.563</td>\n      <td>2.236380e+05</td>\n      <td>0.100</td>\n    </tr>\n    <tr>\n      <th>...</th>\n      <td>...</td>\n      <td>...</td>\n      <td>...</td>\n      <td>...</td>\n      <td>...</td>\n      <td>...</td>\n      <td>...</td>\n      <td>...</td>\n      <td>...</td>\n      <td>...</td>\n      <td>...</td>\n      <td>...</td>\n      <td>...</td>\n      <td>...</td>\n      <td>...</td>\n      <td>...</td>\n      <td>...</td>\n      <td>...</td>\n      <td>...</td>\n      <td>...</td>\n      <td>...</td>\n    </tr>\n    <tr>\n      <th>185</th>\n      <td>STELLANTIS</td>\n      <td>EUR</td>\n      <td>Stock</td>\n      <td>Ordinary Shares</td>\n      <td>Euronext Milan</td>\n      <td>NL00150001Q9</td>\n      <td>40, Consumer Discretionary</td>\n      <td>4010, Automobiles and Parts</td>\n      <td>401010, Automobiles and Parts</td>\n      <td>40101020, Automobiles</td>\n      <td>...</td>\n      <td>11.0</td>\n      <td>8.246704e+10</td>\n      <td>6858.244394</td>\n      <td>NaN</td>\n      <td>NaN</td>\n      <td>NaN</td>\n      <td>NaN</td>\n      <td>0.273</td>\n      <td>1.549489e+07</td>\n      <td>NaN</td>\n    </tr>\n    <tr>\n      <th>186</th>\n      <td>STMICROELECTRONICS</td>\n      <td>EUR</td>\n      <td>Stock</td>\n      <td>Ordinary Shares</td>\n      <td>Euronext Milan</td>\n      <td>NL0000226223</td>\n      <td>10, Technology</td>\n      <td>1010, Technology</td>\n      <td>101020, Technology Hardware and Equipment</td>\n      <td>10102010, Semiconductors</td>\n      <td>...</td>\n      <td>9.0</td>\n      <td>3.663359e+10</td>\n      <td>27.984900</td>\n      <td>NaN</td>\n      <td>NaN</td>\n      <td>NaN</td>\n      <td>NaN</td>\n      <td>0.444</td>\n      <td>2.878880e+06</td>\n      <td>NaN</td>\n    </tr>\n    <tr>\n      <th>187</th>\n      <td>TELECOM ITALIA</td>\n      <td>EUR</td>\n      <td>Stock</td>\n      <td>Ordinary Shares</td>\n      <td>Euronext Milan</td>\n      <td>IT0003497168</td>\n      <td>15, Telecommunications</td>\n      <td>1510, Telecommunications</td>\n      <td>151020, Telecommunications Service Providers</td>\n      <td>15102015, Telecommunications Services</td>\n      <td>...</td>\n      <td>15.0</td>\n      <td>3.591990e+09</td>\n      <td>133.632300</td>\n      <td>0.380</td>\n      <td>0.280</td>\n      <td>NaN</td>\n      <td>0.030</td>\n      <td>0.400</td>\n      <td>2.671000e+06</td>\n      <td>NaN</td>\n    </tr>\n    <tr>\n      <th>189</th>\n      <td>TERNA</td>\n      <td>EUR</td>\n      <td>Stock</td>\n      <td>Ordinary Shares</td>\n      <td>Euronext Milan</td>\n      <td>IT0003242622</td>\n      <td>65, Utilities</td>\n      <td>6510, Utilities</td>\n      <td>651010, Electricity</td>\n      <td>65101015, Conventional Electricity</td>\n      <td>...</td>\n      <td>13.0</td>\n      <td>1.562735e+10</td>\n      <td>141.369684</td>\n      <td>0.161</td>\n      <td>0.237</td>\n      <td>0.19</td>\n      <td>NaN</td>\n      <td>0.461</td>\n      <td>2.578550e+05</td>\n      <td>0.018</td>\n    </tr>\n    <tr>\n      <th>191</th>\n      <td>UNIPOL</td>\n      <td>EUR</td>\n      <td>Stock</td>\n      <td>Ordinary Shares</td>\n      <td>Euronext Milan</td>\n      <td>IT0004810054</td>\n      <td>30, Financials</td>\n      <td>3030, Insurance</td>\n      <td>303020, Non-life Insurance</td>\n      <td>30302010, Full Line Insurance</td>\n      <td>...</td>\n      <td>15.0</td>\n      <td>6.241310e+09</td>\n      <td>509.708945</td>\n      <td>0.543</td>\n      <td>0.162</td>\n      <td>0.09</td>\n      <td>NaN</td>\n      <td>0.400</td>\n      <td>1.474418e+05</td>\n      <td>0.027</td>\n    </tr>\n  </tbody>\n</table>\n<p>187 rows × 22 columns</p>\n</div>"
     },
     "execution_count": 59,
     "metadata": {},
     "output_type": "execute_result"
    }
   ],
   "execution_count": 59
  },
  {
   "cell_type": "code",
   "source": [
    "columns_to_drop"
   ],
   "metadata": {
    "collapsed": false,
    "ExecuteTime": {
     "end_time": "2024-04-20T21:54:09.320559400Z",
     "start_time": "2024-04-20T21:54:09.220594100Z"
    }
   },
   "id": "709c5966799b8bac",
   "outputs": [
    {
     "data": {
      "text/plain": "Index(['CDP', 'FTSE4Good', 'MSCI ESG Ratings', 'Moody's ESG Solution',\n       'Sustainalytics', 'Professional equality index'],\n      dtype='object')"
     },
     "execution_count": 60,
     "metadata": {},
     "output_type": "execute_result"
    }
   ],
   "execution_count": 60
  },
  {
   "cell_type": "code",
   "source": [
    "data.columns"
   ],
   "metadata": {
    "collapsed": false,
    "ExecuteTime": {
     "end_time": "2024-04-20T21:54:09.473592500Z",
     "start_time": "2024-04-20T21:54:09.318555600Z"
    }
   },
   "id": "3c38e9590ccc7af5",
   "outputs": [
    {
     "data": {
      "text/plain": "Index(['Name', 'Currency', 'Type', 'Sub type', 'Market', 'ISIN Code',\n       'Industry', 'SuperSector', 'Sector', 'Subsector',\n       'Average training hours per employee', 'Number of female board members',\n       'Number of board members', 'Market Cap in USD',\n       'Carbon footprint (total GHG emissions / enterprise value)_in_USD',\n       'Share of women in total workforce in %',\n       'Share of women in management bodies in %', 'Gender pay gap in %',\n       'Rate of employees with disabilities in %',\n       'Board gender diversity (female board members / total board members) in %',\n       'Total energy consumption in mwh', 'Rate of resignation in %'],\n      dtype='object')"
     },
     "execution_count": 61,
     "metadata": {},
     "output_type": "execute_result"
    }
   ],
   "execution_count": 61
  },
  {
   "cell_type": "code",
   "source": [
    "#Save DataFrame to a CSV file with semicolon as the delimiter with the required _stage2.csv ending form project\n",
    "data.to_csv('C:/Users/chris/switchdrive/SyncVM/CIP/hslu-cip/data/clean_data_stage3/Imholz_Chris_studentA_stage3.csv', sep=';', index=False)\n",
    "# data.to_csv('/home/student/Cloud/Owncloud/SyncVM/CIP/hslu-cip/data/clean_data_stage3/Imholz_Chris_studentA_stage3.csv', sep=';', index=False)"
   ],
   "metadata": {
    "collapsed": false,
    "ExecuteTime": {
     "end_time": "2024-04-20T21:54:09.509738500Z",
     "start_time": "2024-04-20T21:54:09.406514700Z"
    }
   },
   "id": "c1d110da7bcfadc1",
   "outputs": [],
   "execution_count": 62
  },
  {
   "cell_type": "code",
   "source": [
    "# Tabel erstellen \n",
    "#  CREATE TABLE tbl_financial_euronext_data (\n",
    "#     name VARCHAR(255),\n",
    "#     currency VARCHAR(50),\n",
    "#     market_cap_in_USD FLOAT,\n",
    "#     carbon_footprint_total_GHG_emissions_per_enterprise_value VARCHAR(255),\n",
    "#     security_type VARCHAR(255),\n",
    "#     security_type_subtype VARCHAR(255),\n",
    "#     market VARCHAR(255),\n",
    "#     isin VARCHAR(20) PRIMARY KEY,\n",
    "#     industry VARCHAR(255),\n",
    "#     super_sector VARCHAR(255),\n",
    "#     sector VARCHAR(255),\n",
    "#     subsector VARCHAR(255),\n",
    "#     average_training_hours_per_employee FLOAT,\n",
    "#     number_of_female_board_members FLOAT,\n",
    "#     number_of_board_members FLOAT,\n",
    "#     share_of_woman_in_total_workforce_in_percent FLOAT,\n",
    "#     share_of_woman_in_management_bodies_in_percent FLOAT,\n",
    "#     gender_pay_gap_in_percent FLOAT,\n",
    "#     rate_of_employees_with_disabilities_in_percent FLOAT,\n",
    "#     board_gender_diversity_in_percent FLOAT,\n",
    "#     total_energy_consumption_in_mwh FLOAT,\n",
    "#     rate_of_resignation_in_percent FLOAT\n",
    "# );"
   ],
   "metadata": {
    "collapsed": false,
    "ExecuteTime": {
     "end_time": "2024-04-20T21:54:09.683993600Z",
     "start_time": "2024-04-20T21:54:09.507588400Z"
    }
   },
   "id": "67799f8f75840fee",
   "outputs": [],
   "execution_count": 63
  },
  {
   "metadata": {
    "ExecuteTime": {
     "end_time": "2024-04-20T21:54:09.776927600Z",
     "start_time": "2024-04-20T21:54:09.687925400Z"
    }
   },
   "cell_type": "code",
   "source": [
    "data.count"
   ],
   "id": "43681532fa5f1e85",
   "outputs": [
    {
     "data": {
      "text/plain": "<bound method DataFrame.count of                    Name Currency   Type         Sub type              Market  \\\n0                 ACCOR      EUR  Stock  Ordinary Shares      Euronext Paris   \n1           AIR LIQUIDE      EUR  Stock  Ordinary Shares      Euronext Paris   \n2             AIRBUS SE      EUR  Stock  Ordinary Shares      Euronext Paris   \n3      ARCELORMITTAL SA      EUR  Stock  Ordinary Shares  Euronext Amsterdam   \n4                   AXA      EUR  Stock  Ordinary Shares      Euronext Paris   \n..                  ...      ...    ...              ...                 ...   \n185          STELLANTIS      EUR  Stock  Ordinary Shares      Euronext Milan   \n186  STMICROELECTRONICS      EUR  Stock  Ordinary Shares      Euronext Milan   \n187      TELECOM ITALIA      EUR  Stock  Ordinary Shares      Euronext Milan   \n189               TERNA      EUR  Stock  Ordinary Shares      Euronext Milan   \n191              UNIPOL      EUR  Stock  Ordinary Shares      Euronext Milan   \n\n        ISIN Code                    Industry  \\\n0    FR0000120404  40, Consumer Discretionary   \n1    FR0000120073         55, Basic Materials   \n2    NL0000235190             50, Industrials   \n3    LU1598757687         55, Basic Materials   \n4    FR0000120628              30, Financials   \n..            ...                         ...   \n185  NL00150001Q9  40, Consumer Discretionary   \n186  NL0000226223              10, Technology   \n187  IT0003497168      15, Telecommunications   \n189  IT0003242622               65, Utilities   \n191  IT0004810054              30, Financials   \n\n                             SuperSector  \\\n0               4050, Travel and Leisure   \n1                        5520, Chemicals   \n2    5020, Industrial Goods and Services   \n3                  5510, Basic Resources   \n4                        3030, Insurance   \n..                                   ...   \n185          4010, Automobiles and Parts   \n186                     1010, Technology   \n187             1510, Telecommunications   \n189                      6510, Utilities   \n191                      3030, Insurance   \n\n                                           Sector  \\\n0                      405010, Travel and Leisure   \n1                               552010, Chemicals   \n2                   502010, Aerospace and Defense   \n3            551020, Industrial Metals and Mining   \n4                      303020, Non-life Insurance   \n..                                            ...   \n185                 401010, Automobiles and Parts   \n186     101020, Technology Hardware and Equipment   \n187  151020, Telecommunications Service Providers   \n189                           651010, Electricity   \n191                    303020, Non-life Insurance   \n\n                                 Subsector  ...  Number of board members  \\\n0              40501025, Hotels and Motels  ...                     13.0   \n1            55201020, Specialty Chemicals  ...                     14.0   \n2                      50201010, Aerospace  ...                     12.0   \n3                 55102010, Iron and Steel  ...                     10.0   \n4            30302010, Full Line Insurance  ...                     16.0   \n..                                     ...  ...                      ...   \n185                  40101020, Automobiles  ...                     11.0   \n186               10102010, Semiconductors  ...                      9.0   \n187  15102015, Telecommunications Services  ...                     15.0   \n189     65101015, Conventional Electricity  ...                     13.0   \n191          30302010, Full Line Insurance  ...                     15.0   \n\n     Market Cap in USD  \\\n0         1.033192e+10   \n1         1.051361e+11   \n2         1.361650e+11   \n3         2.175417e+10   \n4         8.254087e+10   \n..                 ...   \n185       8.246704e+10   \n186       3.663359e+10   \n187       3.591990e+09   \n189       1.562735e+10   \n191       6.241310e+09   \n\n     Carbon footprint (total GHG emissions / enterprise value)_in_USD  \\\n0                                           572.631900                  \n1                                                  NaN                  \n2                                                  NaN                  \n3                                          3373.201000                  \n4                                             2.717800                  \n..                                                 ...                  \n185                                        6858.244394                  \n186                                          27.984900                  \n187                                         133.632300                  \n189                                         141.369684                  \n191                                         509.708945                  \n\n     Share of women in total workforce in %  \\\n0                                       NaN   \n1                                     0.280   \n2                                     0.200   \n3                                       NaN   \n4                                       NaN   \n..                                      ...   \n185                                     NaN   \n186                                     NaN   \n187                                   0.380   \n189                                   0.161   \n191                                   0.543   \n\n     Share of women in management bodies in %  Gender pay gap in %  \\\n0                                         NaN                  NaN   \n1                                       0.300                  NaN   \n2                                         NaN                  NaN   \n3                                       0.157                  NaN   \n4                                       0.353                  NaN   \n..                                        ...                  ...   \n185                                       NaN                  NaN   \n186                                       NaN                  NaN   \n187                                     0.280                  NaN   \n189                                     0.237                 0.19   \n191                                     0.162                 0.09   \n\n     Rate of employees with disabilities in %  \\\n0                                         NaN   \n1                                       0.045   \n2                                         NaN   \n3                                         NaN   \n4                                       0.007   \n..                                        ...   \n185                                       NaN   \n186                                       NaN   \n187                                     0.030   \n189                                       NaN   \n191                                       NaN   \n\n     Board gender diversity (female board members / total board members) in %  \\\n0                                                0.615                          \n1                                                0.357                          \n2                                                0.333                          \n3                                                0.300                          \n4                                                0.563                          \n..                                                 ...                          \n185                                              0.273                          \n186                                              0.444                          \n187                                              0.400                          \n189                                              0.461                          \n191                                              0.400                          \n\n     Total energy consumption in mwh  Rate of resignation in %  \n0                       1.371200e+07                       NaN  \n1                                NaN                     0.086  \n2                       3.717000e+06                       NaN  \n3                       3.866670e+08                       NaN  \n4                       2.236380e+05                     0.100  \n..                               ...                       ...  \n185                     1.549489e+07                       NaN  \n186                     2.878880e+06                       NaN  \n187                     2.671000e+06                       NaN  \n189                     2.578550e+05                     0.018  \n191                     1.474418e+05                     0.027  \n\n[187 rows x 22 columns]>"
     },
     "execution_count": 64,
     "metadata": {},
     "output_type": "execute_result"
    }
   ],
   "execution_count": 64
  },
  {
   "cell_type": "code",
   "source": [
    "import mariadb\n",
    "import sys\n",
    "try:\n",
    "    conn = mariadb.connect(\n",
    "        user=\"cip_user\",\n",
    "        password=\"cip_pw\",\n",
    "        host=\"127.0.0.1\", # 10.177.124.185, localhost ,\n",
    "        port=3306,\n",
    "        database=\"CIP\"\n",
    "    )\n",
    "except mariadb.Error as e:\n",
    "    print(f\"Error connecting to MariaDB Platform: {e}\")\n",
    "    sys.exit(1)\n",
    "    \n",
    "data = data.where(pd.notnull(data), None)   \n",
    "\n",
    "conn.autocommit = False  # explizites Handling des Commits\n",
    "# Get Cursor\n",
    "cur = conn.cursor()\n",
    "\n",
    "# Iterate over each row in the DataFrame\n",
    "for index, row in data.iterrows():\n",
    "    # Extract data from the DataFrame row using the new column names\n",
    "    name = row['Name']\n",
    "    currency = row['Currency']\n",
    "    market_cap_in_USD = row['Market Cap in USD']\n",
    "    carbon_footprint_total_GHG_emissions_per_enterprise_value = row['Carbon footprint (total GHG emissions / enterprise value)_in_USD']\n",
    "    security_type = row['Type']  # Make sure this is the correct column name\n",
    "    security_type_subtype = row['Sub type']  # Make sure this is the correct column name\n",
    "    market = row['Market']\n",
    "    isin = row['ISIN Code']\n",
    "    industry = row['Industry']\n",
    "    super_sector = row['SuperSector']\n",
    "    sector = row['Sector']\n",
    "    subsector = row['Subsector']\n",
    "    average_training_hours_per_employee = row['Average training hours per employee']\n",
    "    number_of_female_board_members = row['Number of female board members']\n",
    "    number_of_board_members = row['Number of board members']\n",
    "    share_of_woman_in_total_workforce_in_percent = row['Share of women in total workforce in %']\n",
    "    share_of_woman_in_management_bodies_in_percent = row['Share of women in management bodies in %']\n",
    "    gender_pay_gap_in_percent = row['Gender pay gap in %']\n",
    "    rate_of_employees_with_disabilities_in_percent = row['Rate of employees with disabilities in %']\n",
    "    board_gender_diversity_in_percent = row['Board gender diversity (female board members / total board members) in %']\n",
    "    total_energy_consumption_in_mwh = row['Total energy consumption in mwh']\n",
    "    rate_of_resignation_in_percent = row['Rate of resignation in %']\n",
    "    \n",
    "    # Prepare the INSERT query\n",
    "    query = \"\"\"\n",
    "    INSERT INTO tbl_euronext_data\n",
    "    (name,\n",
    "    currency,\n",
    "    maket_cap_in_USD,\n",
    "    carbon_footprint_total_GHG_emissions_per_enterprise_value,\n",
    "    security_type,\n",
    "    security_type_subtype ,\n",
    "    market,\n",
    "    isin,\n",
    "    industry,\n",
    "    super_sector,\n",
    "    sector,\n",
    "    subsector,\n",
    "    average_training_hours_per_employee,\n",
    "    number_of_female_board_members,\n",
    "    number_of_board_members,\n",
    "    share_of_woman_in_total_workforce_in_percent,\n",
    "    share_of_woman_in_management_bodies_in_percent,\n",
    "    gender_pay_gap_in_percent,\n",
    "    rate_of_employees_with_disabilities_in_percent,\n",
    "    board_gender_diversity_in_percent,\n",
    "    total_energy_consumption_in_mwh,\n",
    "    rate_of_resignation_in_percent) \n",
    "    VALUES (%s, %s, %s, %s, %s, %s, %s, %s, %s, %s, %s, %s, %s, %s, %s, %s, %s, %s, %s, %s, %s, %s)\n",
    "    \"\"\"\n",
    "\n",
    "    # Attempt to execute the INSERT query\n",
    "    try:\n",
    "        cur.execute(query, (name,currency, market_cap_in_USD, carbon_footprint_total_GHG_emissions_per_enterprise_value, security_type, security_type_subtype , market,isin, industry, super_sector, sector, subsector,average_training_hours_per_employee, number_of_female_board_members, number_of_board_members, share_of_woman_in_total_workforce_in_percent, share_of_woman_in_management_bodies_in_percent, gender_pay_gap_in_percent,rate_of_employees_with_disabilities_in_percent, board_gender_diversity_in_percent,total_energy_consumption_in_mwh, rate_of_resignation_in_percent))\n",
    "    except mariadb.Error as e:\n",
    "        print(f\"Error: {e}\")\n",
    "        continue\n",
    "\n",
    "# Commit changes to the database\n",
    "conn.commit()\n",
    "\n",
    "# Print success message\n",
    "print(\"Data insertion complete.\")"
   ],
   "metadata": {
    "collapsed": false,
    "ExecuteTime": {
     "end_time": "2024-04-20T21:54:09.822845700Z",
     "start_time": "2024-04-20T21:54:09.708462800Z"
    }
   },
   "id": "7f81f0f46832218f",
   "outputs": [
    {
     "ename": "ModuleNotFoundError",
     "evalue": "No module named 'mariadb'",
     "output_type": "error",
     "traceback": [
      "\u001B[1;31m---------------------------------------------------------------------------\u001B[0m",
      "\u001B[1;31mModuleNotFoundError\u001B[0m                       Traceback (most recent call last)",
      "Cell \u001B[1;32mIn[65], line 1\u001B[0m\n\u001B[1;32m----> 1\u001B[0m \u001B[38;5;28;01mimport\u001B[39;00m \u001B[38;5;21;01mmariadb\u001B[39;00m\n\u001B[0;32m      2\u001B[0m \u001B[38;5;28;01mimport\u001B[39;00m \u001B[38;5;21;01msys\u001B[39;00m\n\u001B[0;32m      3\u001B[0m \u001B[38;5;28;01mtry\u001B[39;00m:\n",
      "\u001B[1;31mModuleNotFoundError\u001B[0m: No module named 'mariadb'"
     ]
    }
   ],
   "execution_count": 65
  },
  {
   "metadata": {
    "ExecuteTime": {
     "start_time": "2024-04-20T21:54:09.731149800Z"
    }
   },
   "cell_type": "code",
   "source": [
    "import mariadb\n",
    "import pandas as pd\n",
    "import sys\n",
    "\n",
    "# Stellen Sie sicher, dass Ihr DataFrame 'data' korrekt geladen ist\n",
    "# Beispiel: data = pd.read_csv('your_data.csv')\n",
    "\n",
    "# Ersetzen Sie alle NaN-Werte durch None, um NULL in SQL zu ermöglichen\n",
    "data = data.where(pd.notnull(data), None)\n",
    "\n",
    "try:\n",
    "    # Verwenden eines Kontextmanagers, um die Verbindung zu handhaben\n",
    "    with mariadb.connect(\n",
    "        user=\"cip_user\",\n",
    "        password=\"cip_pw\",\n",
    "        host=\"127.0.0.1\", # 10.177.124.185, localhost ,\n",
    "        port=3306,\n",
    "        database=\"CIP\"\n",
    "    ) as conn:\n",
    "        # Automatisches Commit ist deaktiviert für die Transaktionskontrolle\n",
    "        conn.autocommit = False\n",
    "        cur = conn.cursor()\n",
    "\n",
    "        # SQL-Query-String vorbereiten\n",
    "        query = \"\"\"\n",
    "        INSERT INTO tbl_financial_euronext_data\n",
    "        (name, currency, market_cap_in_USD, carbon_footprint_total_GHG_emissions_per_enterprise_value,\n",
    "         security_type, security_type_subtype, market, isin, industry, super_sector, sector, subsector,\n",
    "         average_training_hours_per_employee, number_of_female_board_members, number_of_board_members,\n",
    "         share_of_woman_in_total_workforce_in_percent, share_of_woman_in_management_bodies_in_percent,\n",
    "         gender_pay_gap_in_percent, rate_of_employees_with_disabilities_in_percent,\n",
    "         board_gender_diversity_in_percent, total_energy_consumption_in_mwh, rate_of_resignation_in_percent)\n",
    "        VALUES (?, ?, ?, ?, ?, ?, ?, ?, ?, ?, ?, ?, ?, ?, ?, ?, ?, ?, ?, ?, ?, ?)\n",
    "        \"\"\"\n",
    "\n",
    "        # Daten in die Datenbank einfügen\n",
    "        for index, row in data.iterrows():\n",
    "            try:\n",
    "                cur.execute(query, (\n",
    "                    row['Name'], row['Currency'], row['Market Cap in USD'],\n",
    "                    row['Carbon footprint (total GHG emissions / enterprise value)_in_USD'],\n",
    "                    row['Type'], row['Sub type'], row['Market'], row['ISIN Code'],\n",
    "                    row['Industry'], row['SuperSector'], row['Sector'], row['Subsector'],\n",
    "                    row['Average training hours per employee'], row['Number of female board members'],\n",
    "                    row['Number of board members'], row['Share of women in total workforce in %'],\n",
    "                    row['Share of women in management bodies in %'], row['Gender pay gap in %'],\n",
    "                    row['Rate of employees with disabilities in %'],\n",
    "                    row['Board gender diversity (female board members / total board members) in %'],\n",
    "                    row['Total energy consumption in mwh'], row['Rate of resignation in %']\n",
    "                ))\n",
    "            except mariadb.Error as e:\n",
    "                print(f\"Error inserting row {index}: {e}\")\n",
    "\n",
    "        # Commit der Transaktion\n",
    "        conn.commit()\n",
    "        print(\"Data insertion complete.\")\n",
    "\n",
    "except mariadb.Error as e:\n",
    "    print(f\"Error connecting to MariaDB Platform: {e}\")\n",
    "    sys.exit(1)\n",
    "finally:\n",
    "    cur.close()\n",
    "    conn.close()"
   ],
   "id": "8641fff539b277ad",
   "outputs": [],
   "execution_count": null
  },
  {
   "metadata": {
    "ExecuteTime": {
     "start_time": "2024-04-20T21:54:09.758216900Z"
    }
   },
   "cell_type": "code",
   "source": [
    "# Close Connection\n",
    "cur.close()\n",
    "conn.close()"
   ],
   "id": "b7416cc6c365deaa",
   "outputs": [
    {
     "ename": "NameError",
     "evalue": "name 'cur' is not defined",
     "output_type": "error",
     "traceback": [
      "\u001B[1;31m---------------------------------------------------------------------------\u001B[0m",
      "\u001B[1;31mNameError\u001B[0m                                 Traceback (most recent call last)",
      "Cell \u001B[1;32mIn[66], line 2\u001B[0m\n\u001B[0;32m      1\u001B[0m \u001B[38;5;66;03m# Close Connection\u001B[39;00m\n\u001B[1;32m----> 2\u001B[0m cur\u001B[38;5;241m.\u001B[39mclose()\n\u001B[0;32m      3\u001B[0m conn\u001B[38;5;241m.\u001B[39mclose()\n",
      "\u001B[1;31mNameError\u001B[0m: name 'cur' is not defined"
     ]
    }
   ],
   "execution_count": 66
  },
  {
   "metadata": {
    "ExecuteTime": {
     "end_time": "2024-04-20T21:54:09.855057800Z",
     "start_time": "2024-04-20T21:54:09.832534300Z"
    }
   },
   "cell_type": "code",
   "source": [],
   "id": "7b74ddc5d17935e2",
   "outputs": [],
   "execution_count": 66
  }
 ],
 "metadata": {
  "kernelspec": {
   "display_name": "Python 3",
   "language": "python",
   "name": "python3"
  },
  "language_info": {
   "codemirror_mode": {
    "name": "ipython",
    "version": 2
   },
   "file_extension": ".py",
   "mimetype": "text/x-python",
   "name": "python",
   "nbconvert_exporter": "python",
   "pygments_lexer": "ipython2",
   "version": "2.7.6"
  }
 },
 "nbformat": 4,
 "nbformat_minor": 5
}
