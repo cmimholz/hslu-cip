{
 "cells": [
  {
   "cell_type": "code",
   "execution_count": 22,
   "metadata": {},
   "outputs": [
    {
     "name": "stdout",
     "output_type": "stream",
     "text": [
      "   Index Name                                   Name\n",
      "0         AEX                               ABN Amro\n",
      "1         AEX              Adyen B.V. Parts Sociales\n",
      "2         AEX                         Ahold Delhaize\n",
      "3         AEX                             Akzo Nobel\n",
      "4         AEX                          ArcelorMittal\n",
      "5         AEX                                ASML NV\n",
      "6         AEX                      ASR Nederland N.V\n",
      "7         AEX                               Heineken\n",
      "8         AEX                                   IMCD\n",
      "9         AEX                              ING Group\n",
      "10        AEX                                    KPN\n",
      "11        AEX                               NN Group\n",
      "12        AEX                                Philips\n",
      "13        AEX                               Randstad\n",
      "14        AEX                                   RELX\n",
      "15        AEX                                  Shell\n",
      "16        AEX                         Wolters Kluwer\n",
      "17     BEL_20  AB InBev SA-NV (Anheuser-Busch InBev)\n",
      "18     BEL_20            Ackermans & van Haaren S.A.\n",
      "19     BEL_20                               ageas NV\n",
      "20     BEL_20                 Ahold Delhaize (Ahold)\n",
      "21     BEL_20                         Cofinimmo S.A.\n",
      "22     BEL_20                           D'Ieteren NV\n",
      "23     BEL_20             Elia System Operator SA-NV\n",
      "24     BEL_20                    Engie (ex GDF Suez)\n",
      "25     BEL_20       Etablissementen Franz Colruyt NV\n",
      "26     BEL_20    Groupe Bruxelles Lambert S.A. (GBL)\n",
      "27     BEL_20                         KBC Groep N.V.\n",
      "28     BEL_20                          NV Bekaert SA\n",
      "29     BEL_20                 Proximus (ex Belgacom)\n",
      "30     BEL_20                            Solvay S.A.\n",
      "31     BEL_20             Telenet Group Holding N.V.\n",
      "32     BEL_20                       ThromboGenics NV\n",
      "33     BEL_20                               UCB S.A.\n",
      "34     CAC_40                            Air Liquide\n",
      "35     CAC_40                                 Airbus\n",
      "36     CAC_40                          ArcelorMittal\n",
      "37     CAC_40                                    AXA\n",
      "38     CAC_40                            BNP Paribas\n",
      "39     CAC_40                               Bouygues\n"
     ]
    }
   ],
   "source": [
    "import pandas as pd\n",
    "\n",
    "# Load CSV files into DataFrames\n",
    "aex_df = pd.read_csv('../data/aex_stock_data.csv')\n",
    "bel_20_df = pd.read_csv('../data/bel_20_stock_data.csv')\n",
    "cac_40_df = pd.read_csv('../data/cac_40_stock_data.csv')\n",
    "obx_df = pd.read_csv('../data/obx_stock_data.csv')\n",
    "osebx_df = pd.read_csv('../data/osebx_benchmark_stock_data.csv')\n",
    "psi_df = pd.read_csv('../data/psi_stock_data.csv')\n",
    "\n",
    "# Create the 'Index Name' column for each DataFrame\n",
    "aex_df['Index Name'] = 'AEX'\n",
    "bel_20_df['Index Name'] = 'BEL_20'\n",
    "cac_40_df['Index Name'] = 'CAC_40'\n",
    "obx_df['Index Name'] = 'OBX'\n",
    "osebx_df['Index Name'] = 'OSEBX'\n",
    "psi_df['Index Name'] = 'PSI'\n",
    "\n",
    "# Concatenate the DataFrames\n",
    "df = pd.concat([aex_df, bel_20_df, cac_40_df, obx_df, osebx_df, psi_df])\n",
    "\n",
    "# Reset the index to create a new unique primary key for each row\n",
    "df.reset_index(drop=True, inplace=True)\n",
    "\n",
    "# Select only the 'Index Name' and 'Name' columns\n",
    "df = df[['Index Name', 'Name']]\n",
    "\n",
    "# Display the first 40 rows of the resulting DataFrame\n",
    "print(df.head(40))\n",
    "\n",
    "# Save the DataFrame to a CSV file in the 'data' folder\n",
    "output_file = os.path.join('../data', 'combined_stock_data.csv')\n",
    "df.to_csv(output_file, index=False)\n"
   ]
  }
 ],
 "metadata": {
  "kernelspec": {
   "display_name": "base",
   "language": "python",
   "name": "python3"
  },
  "language_info": {
   "codemirror_mode": {
    "name": "ipython",
    "version": 3
   },
   "file_extension": ".py",
   "mimetype": "text/x-python",
   "name": "python",
   "nbconvert_exporter": "python",
   "pygments_lexer": "ipython3",
   "version": "3.11.5"
  }
 },
 "nbformat": 4,
 "nbformat_minor": 2
}
